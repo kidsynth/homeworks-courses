{
 "cells": [
  {
   "cell_type": "code",
   "execution_count": 8,
   "metadata": {},
   "outputs": [],
   "source": [
    "import math as m\n",
    "import numpy as np"
   ]
  },
  {
   "cell_type": "code",
   "execution_count": 9,
   "metadata": {},
   "outputs": [],
   "source": [
    "from typing import List, Tuple, Dict\n",
    "import numpy as np"
   ]
  },
  {
   "cell_type": "markdown",
   "metadata": {},
   "source": [
    "TSwitch1 = 1.03\n",
    "TSwitch2 = 4.502\n",
    "t_min = 0\n",
    "t_max = 5"
   ]
  },
  {
   "cell_type": "code",
   "execution_count": 48,
   "metadata": {},
   "outputs": [],
   "source": [
    "class OptimalControl:\n",
    "    def __init__(\n",
    "        self, \n",
    "        u1: float,\n",
    "        u2: float, \n",
    "        frag: int,\n",
    "        t_min: float,\n",
    "        t_max: float,\n",
    "        n_task: int,\n",
    "        ):\n",
    "        self.u1 = u1\n",
    "        self.u2 = u2\n",
    "        self.frag = frag\n",
    "        self.t_min = t_min\n",
    "        self.t_max = t_max\n",
    "        self.n_task = n_task #number of task\n",
    "    \n",
    "    \n",
    "    def CalcControl(self, t_switch):\n",
    "        res1, res2 = self.RungeK(t_switch[0], t_switch[1])\n",
    "        if self.n_task == 0:\n",
    "            return [res1, res2], res1**2 + res2**2\n",
    "        else:\n",
    "            return [res1, res2], -res1 + 0.5 * res2\n",
    "    \n",
    "    \n",
    "    def task1(self, x1, x2, u_switch):\n",
    "        return x2, u_switch - m.sin(x1)\n",
    "    \n",
    "    def RungeK(self, t1_switch, t2_switch):\n",
    "        TSwitch1 = t1_switch\n",
    "        TSwitch2 = t2_switch\n",
    "        x1 = 5\n",
    "        x2 = 0\n",
    "        h = (self.t_max - self.t_min) / self.frag\n",
    "        u_switch = self.u1\n",
    "        for t in np.arange(self.t_min, self.t_max, h):\n",
    "            if t >= TSwitch1:\n",
    "                u_switch = self.u2\n",
    "                if t >= TSwitch2:\n",
    "                    u_switch = self.u1\n",
    "\n",
    "            k1, l1 = self.task1(x1, x2, u_switch)\n",
    "            k2, l2 = self.task1(x1 + h / 2.0, x2 + l1 * h /2.0, u_switch)\n",
    "            k3, l3 = self.task1(x1 + h / 2.0, x2 + l2 * h /2.0, u_switch)\n",
    "            k4, l4 = self.task1(x1 + h, x2 + l3 * h, u_switch)\n",
    "        \n",
    "            x1 = x1 + (k1 + 2 * k2 + 2 * k3 + k4) * h / 6.0\n",
    "            x2 = x2 + (l1 + 2 * l2 + 2 * l3 + l4) * h / 6.0\n",
    "        return x1, x2"
   ]
  },
  {
   "cell_type": "code",
   "execution_count": 118,
   "metadata": {},
   "outputs": [],
   "source": [
    "class Dragonfly:\n",
    "    def __init__(\n",
    "        self, \n",
    "        x: List[float], \n",
    "        t: List[float],\n",
    "        f: float,\n",
    "             ):\n",
    "        self.x = x\n",
    "        self.t = t\n",
    "        self.f = f\n",
    "        \n",
    "class DragonflySwarm:\n",
    "    def __init__(\n",
    "        self,\n",
    "        swarm_size: int,\n",
    "        dim: int,\n",
    "        max_iter: int,\n",
    "        sep: float,\n",
    "        alignmnt: float,\n",
    "        cohesn: float,\n",
    "        tendnsy: float,\n",
    "        evatn: float,\n",
    "        weight: float, \n",
    "        alpha: float,\n",
    "        lmbd: float,\n",
    "        radius: float,\n",
    "        area: List[List[float]],\n",
    "                 ):\n",
    "        self.swarm_size = swarm_size\n",
    "        self.dim = dim\n",
    "        self.max_iter = max_iter\n",
    "        self.current_iter = 0\n",
    "        self.sep = sep\n",
    "        self.alignmt = alignmnt\n",
    "        self.cohesn = cohesn\n",
    "        self.tendnsy = tendnsy\n",
    "        self.evatn = evatn\n",
    "        self.weight = weight\n",
    "        self.alpha = alpha\n",
    "        self.lmbd = lmbd\n",
    "        self.radius = radius\n",
    "        self.area = area\n",
    "        self.population = []\n",
    "        self.sep_list = []\n",
    "        self.alig_list = []\n",
    "        self.coh_list = []\n",
    "        self.food_attract = []\n",
    "        self.enemy_avoid = []\n",
    "        self.velocity_list =[]\n",
    "        self.euclid_list = []\n",
    "        self.best_list = []\n",
    "        self.worst_list = []\n",
    "        self.pathx_list = []\n",
    "    \n",
    "    def form_first_pop(self, control):\n",
    "        for i in range(self.swarm_size):\n",
    "            switch_moments = np.zeros(self.dim)\n",
    "            switch_moments[0] =  np.random.rand() * (self.area[0][1] - self.area[0][0]) + self.area[0][0]\n",
    "            for j in range(1, self.dim):\n",
    "                switch_moments[j] = np.random.rand() * (self.area[j][1] - switch_moments[j - 1]) + switch_moments[j - 1]\n",
    "            \n",
    "            result = control.CalcControl(switch_moments)\n",
    "            coordinate = np.zeros(self.dim)\n",
    "            pathx = np.zeros(self.dim)\n",
    "            for j in range(self.dim):\n",
    "                coordinate[j] = result[0][j]\n",
    "                pathx[j] = result[0][j]\n",
    "            member = Dragonfly(coordinate, switch_moments, result[1])\n",
    "            self.population.append(member)\n",
    "            self.pathx_list.append(pathx)\n",
    "\n",
    "    def generate_dragonfly(self, i, j):\n",
    "        self.population[i][j] = np.random.rand() * (self.area[j][1] - self.population[i].t[j -1]) + self.population[i].t[j - 1]\n",
    "        \n",
    "    def generate_step_coord(self):\n",
    "        for i in range(self.swarm_size):\n",
    "            rj = np.random.uniform(-1, 1)\n",
    "            velocty = [(self.area[j][1] - self.area[j][0]) * rj / 1000\n",
    "                for j in range(self.dim)]\n",
    "            self.velocity_list.append(velocty)\n",
    "            \n",
    "    def move_swarm(self, control):\n",
    "        right_area = False # same as \"flag\" in a previous C# code\n",
    "        population_copy = self.population.copy() \n",
    "        radius_area = self.radius * self.current_iter / self.max_iter\n",
    "        for i in range(self.swarm_size):\n",
    "            for j in range(self.swarm_size):\n",
    "                if i != j:\n",
    "                    dist = np.linalg.norm(np.array(population_copy[i].t) -\n",
    "                                          np.array(population_copy[j].t))\n",
    "                    if dist <= radius_area:\n",
    "                        euclid_list.append([j, dist])\n",
    "            if len(self.euclid_list) > 1:\n",
    "                #print('NOT a LEVI')\n",
    "                self.sep_list = self.separation(i)\n",
    "                self.alig_list = self.alignment(i)\n",
    "                self.coh_list = self.cohesion(i)\n",
    "                self.food_attract = self.tendensy(i)\n",
    "                self.enemy_avoid = self.evation(i)\n",
    "                self.velocity_list.append(velocity(i))\n",
    "                self.population.x = self.find_new_position(i, control) #wrong?????\n",
    "                self.check_area(i)\n",
    "            else:\n",
    "                half_set = int(self.dim / 2)\n",
    "                r_parameter = []\n",
    "                theta = []\n",
    "                l_parameter = []\n",
    "                xi_parameter = []\n",
    "                \n",
    "                \n",
    "                for ii in range(self.dim):\n",
    "                    #print('ii:', ii, 'i:', i)\n",
    "                    iterator_0 = 0\n",
    "                    while not right_area:\n",
    "                        r_parameter.append(np.random.rand() * (self.area[ii][1] - self.area[ii][0]) + self.area[ii][0])\n",
    "                        theta.append(r_parameter[len(r_parameter) - 1] * 2 * np.pi)\n",
    "                        l_parameter.append(r_parameter[len(r_parameter) - 1] ** self.lmbd)\n",
    "\n",
    "                        if ii < half_set:\n",
    "                            xi_parameter.append(l_parameter[len(l_parameter) - 1] * np.sin(theta[len(theta) - 1]))\n",
    "                        else:\n",
    "                            xi_parameter.append(l_parameter[len(l_parameter) - 1] * np.cos(theta[len(theta) - 1]))\n",
    "                        \n",
    "\n",
    "                        check_obl = np.array(self.population[i].t[ii]) + \\\n",
    "                        (self.alpha / (self.current_iter + 1)) * xi_parameter[len(xi_parameter) - 1]\n",
    "                        #print(check_obl)\n",
    "                        if (check_obl < self.area[ii][0]) or (check_obl > self.area[ii][1]):\n",
    "                            right_area = False\n",
    "                        else:\n",
    "                            right_area = True\n",
    "                        iterator_0 += 1\n",
    "                    #print(iterator_0)\n",
    "                    right_area = False\n",
    "                    self.population[i].t[ii] = (self.population[i].t[ii]) + \\\n",
    "                        (self.alpha / (self.current_iter + 1)) * xi_parameter[len(xi_parameter) - 1]\n",
    "            switch_moments = np.zeros(self.dim)\n",
    "            for jj in range(self.dim):\n",
    "                switch_moments[jj] = self.population[i].t[jj]\n",
    "            for jj in range(self.dim - 1):\n",
    "                if switch_moments[jj + 1] < switch_moments[jj]:\n",
    "                    switch_moments[jj + 1] = np.random.rand() * (self.area[jj + 1][1] - switch_moments[jj]) + switch_moments[jj]\n",
    "            result = control.CalcControl(switch_moments)\n",
    "            coordinate = np.zeros(self.dim)\n",
    "            pathx = np.zeros(self.dim)\n",
    "            for jj in range(self.dim):\n",
    "                coordinate[jj] = result[0][jj]\n",
    "                pathx[jj] = result[0][jj]\n",
    "            member = Dragonfly(coordinate, switch_moments, result[1])\n",
    "            self.population[i] = member\n",
    "            self.pathx_list[i] = pathx  \n",
    "            self.euclid_list.clear()\n",
    "            \n",
    "    def separation(self, it):\n",
    "        tmp = np.zeros(self.dim)\n",
    "        #print(len(self.euclid_list))\n",
    "        for indx, dist in self.euclid_list:\n",
    "            tmp += (np.array(self.population[it].t) - np.array(self.population[indx].t))\n",
    "            #print(tmp)\n",
    "        for i in range(self.dim):\n",
    "            area_tmp = self.area[i][1] - self.area[i][0]\n",
    "            while (np.abs(tmp[i]) >= area_tmp):\n",
    "                tmp[i] /= 10\n",
    "            tmp[i] = -tmp[i]\n",
    "        return tmp.tolist()\n",
    "    \n",
    "    def alignment(self, it):\n",
    "        tmp = np.zeros(self.dim)\n",
    "        for indx, dist in self.euclid_list:\n",
    "            tmp += np.array(self.velocity_list[indx].x)\n",
    "        tmp = tmp / len(self.euclid_list)\n",
    "        for i in range(self.dim):\n",
    "            area_tmp = self.area[i][1] - self.area[i][0]\n",
    "            while (np.abs(tmp[i]) >= area_tmp):\n",
    "                tmp[i] = tmp[i] / 10\n",
    "        return tmp.tolist()\n",
    "    \n",
    "    def cohesion(self, it):\n",
    "        tmp = np.zeros(self.dim)\n",
    "        for indx, dist in self.euclid_list:\n",
    "            tmp += np.array(self.population[indx].t)\n",
    "        tmp = tmp / len(self.euclid_list) - np.array(self.population[i].t)\n",
    "        for i in range(self.dim):\n",
    "            area_tmp = self.area[i][1] - self.area[i][0]\n",
    "            while (np.abs(tmp[i]) >= area_tmp):\n",
    "                tmp[i] = tmp[i] / 10\n",
    "        return tmp.tolist()\n",
    "    \n",
    "    def tendensy(self, it):\n",
    "        best_p = min(self.population, key=lambda t: t[1])\n",
    "        tmp = np.array(best_p.t) - np.array(self.population[it].t)\n",
    "        for i in range(self.dim):\n",
    "            area_tmp = self.area[i][1] - self.area[i][0]\n",
    "            while (np.abs(tmp[i]) >= area_tmp):\n",
    "                tmp[i] = tmp[i] / 10\n",
    "        return tmp.tolist()\n",
    "    \n",
    "    def evation(self, it):\n",
    "        worst_p = max(self.population, key=lambda t: t[1])\n",
    "        tmp = np.array(worst_p.t) + np.array(self.population[it].t)\n",
    "        for i in range(self.dim):\n",
    "            area_tmp = self.area[i][1] - self.area[i][0]\n",
    "            while (np.abs(tmp[i]) >= area_tmp):\n",
    "                tmp[i] = tmp[i] / 10\n",
    "        return tmp.tolist()\n",
    "    \n",
    "    def velocity(self, it):\n",
    "        self.velocity_list[it] = (self.sep * np.array(self.sep_list[it]) + self.alignmnt * np.array(self.alig_list[it]) + self.cohesn * np.array(self.coh_list[it]) +\\\n",
    "        self.tendnsy * np.array(self.food_attract[it]) + self.evatn * np.array(self.enemy_avoid[it]) + self.weight * np.array(self.velocity_list[it])).tolist()\n",
    "    \n",
    "    def find_new_position(self, it, control):\n",
    "        self.population[it].t = (np.array(self.population[it].t) + np.array(self.velocity_list[it])).tolist()\n",
    "        for indx in range(self.dim - 1):\n",
    "            if self.population[it].t[indx + 1] < self.population[it].t[indx]:\n",
    "                self.population[it].t[indx + 1] = np.random.rand() * (self.area[indx + 1][1] - self.population[it].t[indx]) + self.population[it].t[indx]\n",
    "        result = control.CalcControl(self.population[it].t)\n",
    "        coordinate = np.zeros(self.dim)\n",
    "        switch_moments = np.zeros(self.dim)\n",
    "        for j in range(self.dim):\n",
    "            coordinate[j] = result[0][j]\n",
    "            switch_moments[j] = self.population[it].t[j]\n",
    "        member = Dragonfly(coordinate, switch_moment, result[1])    \n",
    "        self.population[it] = member\n",
    "            \n",
    "    def check_area(self, i):\n",
    "        pass\n",
    "    \n",
    "    def find_best(self):\n",
    "        return max(self.population, key=lambda dragonfly: dragonfly.f)\n",
    "    \n",
    "    def find_worst(self):\n",
    "        return min(self.population, key=lambda dragonfly: dragonfly.f)\n",
    "    \n",
    "    def Work(self, control):\n",
    "        for i in range(algorithm.max_iter):\n",
    "            algorithm.move_swarm(control)\n",
    "            best_temp = algorithm.find_best()\n",
    "            tmp = np.zeros(self.dim)\n",
    "            tmp_t = np.zeros(self.dim)\n",
    "            for j in range(self.dim):\n",
    "                tmp[j] = best_temp.x[j]\n",
    "                tmp_t[j] = best_temp.t[j]\n",
    "            member_temp = Dragonfly(tmp, tmp_t, best_temp.f)\n",
    "            self.best_list.append(member_temp)\n",
    "            tmp = np.zeros(self.dim)\n",
    "            tmp_t = np.zeros(self.dim)\n",
    "            worst_temp = algorithm.find_worst()\n",
    "            for j in range(self.dim):\n",
    "                tmp[j] = worst_temp.x[j]\n",
    "                tmp_t[j] = worst_temp.t[j]\n",
    "            member_temp = Dragonfly(tmp, tmp_t, worst_temp.f)\n",
    "            self.worst_list.append(member_temp)\n",
    "            \n",
    "        self.best_list.sort(reverse=True, key=lambda dragonfly: dragonfly.f)\n",
    "        self.worst_list.sort(key=lambda dragonfly: dragonfly.f)\n",
    "        #print(self.best_list[0], self.worst_list[0])\n",
    "                     "
   ]
  },
  {
   "cell_type": "code",
   "execution_count": 119,
   "metadata": {},
   "outputs": [],
   "source": [
    "algorithm = DragonflySwarm(50, 2, 70, 0.9, 0.67, 0.4, 0.51, 0.1, 0.1, 1, 1, 0.8, [[-5, 5], [-5, 5]])"
   ]
  },
  {
   "cell_type": "code",
   "execution_count": 120,
   "metadata": {},
   "outputs": [],
   "source": [
    "control = OptimalControl(1, -1, 1000, 5, -5, 0)"
   ]
  },
  {
   "cell_type": "code",
   "execution_count": 107,
   "metadata": {},
   "outputs": [],
   "source": [
    "algorithm.form_first_pop(control)"
   ]
  },
  {
   "cell_type": "code",
   "execution_count": 108,
   "metadata": {},
   "outputs": [],
   "source": [
    "#for i in range(len(algorithm.population)):\n",
    "   # print(algorithm.population[i].t, algorithm.population[i].x, algorithm.population[i].f)"
   ]
  },
  {
   "cell_type": "code",
   "execution_count": 109,
   "metadata": {},
   "outputs": [],
   "source": [
    "algorithm.generate_step_coord()"
   ]
  },
  {
   "cell_type": "code",
   "execution_count": 110,
   "metadata": {},
   "outputs": [],
   "source": [
    "best = algorithm.find_best()\n",
    "worst = algorithm.find_worst()"
   ]
  },
  {
   "cell_type": "code",
   "execution_count": 111,
   "metadata": {},
   "outputs": [
    {
     "name": "stdout",
     "output_type": "stream",
     "text": [
      "[4.52057914 4.52762914] [ 58.31641139 -10.28826792] 3506.6522937064856\n",
      "[2.01139813 4.8561933 ] [-0.40282578  3.49209108] 12.35696869063834\n"
     ]
    }
   ],
   "source": [
    "print(best.t, best.x, best.f)\n",
    "print(worst.t, worst.x, worst.f)"
   ]
  },
  {
   "cell_type": "code",
   "execution_count": 89,
   "metadata": {},
   "outputs": [],
   "source": [
    "member_temp = Dragonfly(best.x, best.t, best.f)\n",
    "algorithm.best_list.append(member_temp)\n",
    "member_temp = Dragonfly(worst.x, worst.t, worst.f)\n",
    "algorithm.worst_list.append(member_temp)"
   ]
  },
  {
   "cell_type": "code",
   "execution_count": 102,
   "metadata": {},
   "outputs": [],
   "source": [
    "algorithm.move_swarm(control)"
   ]
  },
  {
   "cell_type": "code",
   "execution_count": 103,
   "metadata": {},
   "outputs": [
    {
     "name": "stdout",
     "output_type": "stream",
     "text": [
      "[1.40996611 3.89396207] [-24.75460228   8.16999611] 679.5391705694162\n",
      "[0.47150695 3.08781876] [10.68025463  0.69047   ] 114.54458771110102\n",
      "[-1.65756674  4.78707161] [-7.90682433  5.11615597] 88.6929228734998\n",
      "[-0.47294554  1.57397454] [14.00333148  3.64370384] 209.36987017471643\n",
      "[1.15738684 2.83848714] [4.51547844 3.93319073] 35.85953486281616\n",
      "[2.05016302 3.66253354] [-24.72886167   8.27542243] 679.9992157022164\n",
      "[3.98779647 4.45545438] [-17.34110847   6.74577829] 346.2195676257188\n",
      "[0.31056681 3.78954728] [-24.92370531   8.25831364] 689.3908306421338\n",
      "[-0.8818304  3.8925581] [-24.75460228   8.16999611] 679.5391705694162\n",
      "[-3.88819032  3.88033694] [-24.75460228   8.16999611] 679.5391705694162\n",
      "[0.26090485 4.00276471] [-23.49118367   7.75609459] 611.9927134178936\n",
      "[3.35144286 4.5006946 ] [-14.88311525   6.29376457] 261.11859192887374\n",
      "[0.28482609 3.19161125] [-8.31509874  6.17481475] 107.26920413974707\n",
      "[4.88201612 4.96191188] [2.92043753 1.30870239] 10.241657325481484\n",
      "[-1.75569993  1.05258573] [25.16947995  1.07342292] 634.6549579406624\n",
      "[-1.55485472  2.34575423] [-1.19002481  5.80124046] 35.070549924732674\n",
      "[-1.31826117  1.26734014] [17.40426731  3.45947181] 314.8764656273067\n",
      "[-0.17387419  4.96950561] [2.92043753 1.30870239] 10.241657325481484\n",
      "[-4.5258728   3.48464677] [-22.8917425    7.96245769] 587.4326071607634\n",
      "[-3.33668958  3.61090252] [-24.72886167   8.27542243] 679.9992157022164\n",
      "[4.05928612 4.95158172] [2.92043753 1.30870239] 10.241657325481484\n",
      "[2.07939725 2.28998055] [-0.8592922   5.88595499] 35.382849221361596\n",
      "[2.54829422 2.96876397] [7.67427543 2.89214322] 67.25899579001488\n",
      "[-0.06991243  1.97446386] [17.17663738 -0.06937861] 295.0416852045467\n",
      "[-1.03774387 -0.97039995] [43.29051261 -2.72609167] 1881.5000581265829\n",
      "[1.87877044 3.35884054] [-20.8269863   7.8610928] 495.56013830250834\n",
      "[0.11149629 1.38581909] [14.61869023  3.77880272] 227.98545404685387\n",
      "[1.99163109 3.85834083] [-24.75460228   8.16999611] 679.5391705694162\n",
      "[-1.57476861  2.12678957] [0.39442775 5.77222489] 33.47415341347211\n",
      "[-0.46936985  4.74938526] [-7.90682433  5.11615597] 88.6929228734998\n",
      "[0.26885159 4.55709977] [-14.88311525   6.29376457] 261.11859192887374\n",
      "[-2.22573472  4.83406577] [-2.90729457  3.70289879] 22.163821136644565\n",
      "[-1.64313478  1.19891819] [24.6237507  -0.39584161] 606.4857892718428\n",
      "[-2.52168177  2.2122827 ] [-0.8592922   5.88595499] 35.382849221361596\n",
      "[-1.08540555  4.45160779] [-17.34110847   6.74577829] 346.2195676257188\n",
      "[-2.85268322 -0.27295861] [37.34026632 -1.68645029] 1397.1396035061741\n",
      "[-4.10208079  3.97397594] [-24.26726917   8.00530615] 652.9852794901943\n",
      "[4.30484539 4.96015822] [2.92043753 1.30870239] 10.241657325481484\n",
      "[3.46425901 4.28151637] [-21.10391125   7.34638527] 499.3444465987719\n",
      "[2.03427316 4.66422003] [-11.74122822   5.90353367] 172.70814995262236\n",
      "[-3.63592211 -1.30100575] [46.44566412 -3.02755593] 2166.3658104478573\n",
      "[2.94083188 3.84298357] [-24.75460228   8.16999611] 679.5391705694162\n",
      "[4.15881999 4.47508177] [-17.34110847   6.74577829] 346.2195676257188\n",
      "[-2.0294773   3.74467788] [-24.92370531   8.25831364] 689.3908306421338\n",
      "[-0.31254166  4.0836081 ] [-23.49118367   7.75609459] 611.9927134178936\n",
      "[2.2978708  3.47877272] [-22.8917425    7.96245769] 587.4326071607634\n",
      "[2.57754119 4.53047432] [-14.88311525   6.29376457] 261.11859192887374\n",
      "[-3.10429561 -1.09189818] [44.1963237  -2.99326718] 1962.2746771241032\n",
      "[-0.44141572  4.74689111] [-7.90682433  5.11615597] 88.6929228734998\n",
      "[-4.50657155 -1.77606082] [49.04837875 -4.0741816 ] 2422.342413743823\n"
     ]
    }
   ],
   "source": [
    "for i in range(len(algorithm.population)):\n",
    "    print(algorithm.population[i].t, algorithm.population[i].x, algorithm.population[i].f)"
   ]
  },
  {
   "cell_type": "code",
   "execution_count": 112,
   "metadata": {},
   "outputs": [],
   "source": [
    "best = algorithm.find_best()\n",
    "worst = algorithm.find_worst()"
   ]
  },
  {
   "cell_type": "code",
   "execution_count": 113,
   "metadata": {},
   "outputs": [
    {
     "name": "stdout",
     "output_type": "stream",
     "text": [
      "[4.52057914 4.52762914] [ 58.31641139 -10.28826792] 3506.6522937064856\n",
      "[2.01139813 4.8561933 ] [-0.40282578  3.49209108] 12.35696869063834\n"
     ]
    }
   ],
   "source": [
    "print(best.t, best.x, best.f)\n",
    "print(worst.t, worst.x, worst.f)"
   ]
  },
  {
   "cell_type": "code",
   "execution_count": 100,
   "metadata": {},
   "outputs": [],
   "source": [
    "member_temp = Dragonfly(best.x, best.t, best.f)\n",
    "algorithm.best_list.append(member_temp)\n",
    "member_temp = Dragonfly(worst.x, worst.t, worst.f)\n",
    "algorithm.worst_list.append(member_temp)"
   ]
  },
  {
   "cell_type": "code",
   "execution_count": 101,
   "metadata": {},
   "outputs": [
    {
     "name": "stdout",
     "output_type": "stream",
     "text": [
      "[2.92043753 1.30870239] [2.72623122 4.96845037] 10.241657325481484\n"
     ]
    }
   ],
   "source": [
    "print(algorithm.worst_list[1].x, algorithm.worst_list[1].t, algorithm.worst_list[1].f)"
   ]
  },
  {
   "cell_type": "code",
   "execution_count": 114,
   "metadata": {},
   "outputs": [
    {
     "name": "stdout",
     "output_type": "stream",
     "text": [
      "[2.01139813 4.8561933 ] [-0.40282578  3.49209108] 12.35696869063834\n"
     ]
    }
   ],
   "source": [
    "for member in algorithm.worst_list:\n",
    "    print(member.t, member.x, member.f)\n",
    "#NEED TO BE FIXED!!!"
   ]
  },
  {
   "cell_type": "code",
   "execution_count": null,
   "metadata": {},
   "outputs": [],
   "source": []
  },
  {
   "cell_type": "code",
   "execution_count": 121,
   "metadata": {},
   "outputs": [
    {
     "name": "stdout",
     "output_type": "stream",
     "text": [
      "[2.00640575 2.14985018] [1.64940659 4.89277575] 8.647519840353038\n"
     ]
    }
   ],
   "source": [
    "algorithm.form_first_pop(control)\n",
    "algorithm.generate_step_coord()\n",
    "\n",
    "best = algorithm.find_best()\n",
    "worst = algorithm.find_worst()\n",
    "\n",
    "member_temp = Dragonfly(best.x, best.t, best.f)\n",
    "algorithm.best_list.append(member_temp)\n",
    "member_temp = Dragonfly(worst.x, worst.t, worst.f)\n",
    "algorithm.worst_list.append(member_temp)\n",
    "\n",
    "algorithm.Work(control)\n",
    "\n",
    "\n",
    "print(algorithm.worst_list[0].x, algorithm.worst_list[0].t, algorithm.worst_list[0].f)\n",
    "print('Отклонение от точного решениия:', 11,90817 - algorithm.worst_list[0].f)"
   ]
  },
  {
   "cell_type": "code",
   "execution_count": 117,
   "metadata": {},
   "outputs": [],
   "source": [
    "#for member in algorithm.best_list:\n",
    " #   print(member.x, member.t, member.f)"
   ]
  },
  {
   "cell_type": "code",
   "execution_count": null,
   "metadata": {},
   "outputs": [],
   "source": [
    "#for i in range(len(algorithm.population)):\n",
    " #   print(algorithm.population[i].x, algorithm.population[i].f)\n",
    "\n",
    "#for i in (algorithm.velocity_list):\n",
    "   # print(i)\n",
    "\n",
    "#for i in range(len(algorithm.population)):\n",
    "    #print(algorithm.population[i].x, algorithm.population[i].f)\n",
    "    \n",
    "#for member in algorithm.best_list:\n",
    "   # print(member.x, member.f)"
   ]
  }
 ],
 "metadata": {
  "kernelspec": {
   "display_name": "Python 3",
   "language": "python",
   "name": "python3"
  },
  "language_info": {
   "codemirror_mode": {
    "name": "ipython",
    "version": 3
   },
   "file_extension": ".py",
   "mimetype": "text/x-python",
   "name": "python",
   "nbconvert_exporter": "python",
   "pygments_lexer": "ipython3",
   "version": "3.7.4"
  }
 },
 "nbformat": 4,
 "nbformat_minor": 2
}
