{
 "cells": [
  {
   "cell_type": "code",
   "execution_count": 1,
   "metadata": {},
   "outputs": [],
   "source": [
    "import math as m\n",
    "import numpy as np\n",
    "from typing import List, Tuple, Dict\n",
    "import matplotlib.pyplot as plt\n",
    "from copy import deepcopy\n",
    "import time"
   ]
  },
  {
   "cell_type": "code",
   "execution_count": 2,
   "metadata": {},
   "outputs": [],
   "source": [
    "class Sparrow:\n",
    "    def __init__(\n",
    "        self, \n",
    "        x: List[float], \n",
    "        f: float\n",
    "             ):\n",
    "        self.x = x\n",
    "        self.f = f\n",
    "        \n",
    "class SparrowSwarm:\n",
    "    def __init__(\n",
    "        self,\n",
    "        swarm_size: int,\n",
    "        dim: int,\n",
    "        m_capacity: float,\n",
    "        max_loop_number: float,\n",
    "        search_time: float,\n",
    "        fragment: float,\n",
    "        intensity_process: float,\n",
    "        leader_step: float,\n",
    "        reduction: float,\n",
    "        recovery: float,\n",
    "        levi_parameter: float,\n",
    "        c1: float,\n",
    "        c2: float,\n",
    "        c3: float,\n",
    "        min_area: float,\n",
    "        func_num: int,\n",
    "                 ):\n",
    "        self.swarm_size = swarm_size\n",
    "        self.dim = dim\n",
    "        self.m_capacity = m_capacity\n",
    "        self.max_loop_number = max_loop_number\n",
    "        self.search_time = search_time\n",
    "        self.fragment = fragment\n",
    "        self.step_integration = search_time / fragment\n",
    "        self.intensity_process = intensity_process\n",
    "        self.leader_step = leader_step\n",
    "        self.reduction = reduction\n",
    "        self.recovery = recovery\n",
    "        self.levi_parameter = levi_parameter\n",
    "        self.area_radius = 0\n",
    "        self.c1 = c1\n",
    "        self.c2 = c2\n",
    "        self.c3 = c3\n",
    "        self.min_area = min_area\n",
    "        self.rk = 1\n",
    "        \n",
    "        \n",
    "        self.current_iter = 0\n",
    "        \n",
    "        self.exact = 0\n",
    "        self.function_name = ''\n",
    "        self.func_num = func_num\n",
    "        \n",
    "        self.population = []\n",
    "        self.memory = []\n",
    "        self.pool = []\n",
    "        self.vector_f = []\n",
    "        self.vector_sigma = []\n",
    "        self.best_all_iters = []\n",
    "        self.best_leaders = []\n",
    "        self.best_local = []\n",
    "\n",
    "        self.euclid_list = []\n",
    "        self.area_new = []\n",
    "        \n",
    "\n",
    "        \n",
    "    def init_area(self):\n",
    "        if self.func_num == 0:\n",
    "            self.area = [[-5, 5], [-5, 5]]\n",
    "            self.area_new = deepcopy(self.area)\n",
    "            self.area_radius = (self.area[0][1] - self.area[0][0]) / 5\n",
    "            self.exact = 0\n",
    "            self.function_name = 'Квадратичная'\n",
    "        elif self.func_num == 1:\n",
    "            self.area = [[-500, 500], [-500, 500]]\n",
    "            self.area_new = deepcopy(self.area)\n",
    "            self.area_radius = (self.area[0][1] - self.area[0][0]) / 5\n",
    "            self.exact = 837.9658\n",
    "            self.function_name = 'Швефеля'\n",
    "        elif self.func_num == 2:\n",
    "            self.area = [[-2, 2], [-2, 2]]\n",
    "            self.area_new = deepcopy(self.area)\n",
    "            self.area_radius = (self.area[0][1] - self.area[0][0]) / 5\n",
    "            self.exact = 4.253888\n",
    "            self.function_name = 'Мульти'\n",
    "        elif self.func_num == 3:\n",
    "            self.area = [[-2, 2], [-2, 2]]\n",
    "            self.area_radius = (self.area[0][1] - self.area[0][0]) / 5\n",
    "            self.exact = 1\n",
    "            self.function_name = 'Корневая'\n",
    "        elif self.func_num == 4:\n",
    "            self.area = [[-10, 10], [-10, 10]]\n",
    "            self.area_radius = (self.area[0][1] - self.area[0][0]) / 5\n",
    "            self.exact = 1\n",
    "            self.function_name = 'Шафер'\n",
    "        elif self.func_num == 5:\n",
    "            self.area = [[-5, 5], [-5, 5]]\n",
    "            self.exact = 20\n",
    "            self.function_name = 'Растригина'\n",
    "        elif self.func_num == 6:\n",
    "            self.area = [[-10, 10], [-10, 10]]\n",
    "            self.exact = 20\n",
    "            self.function_name = 'Экли'\n",
    "        elif self.func_num == 7:\n",
    "            self.area = [[-5, 5], [-5, 5]]\n",
    "            self.exact = 14.060606\n",
    "            self.function_name = 'Skin'\n",
    "        elif self.func_num == 8:\n",
    "            self.area = [[-5, 5], [-5, 5]]\n",
    "            self.exact = 1\n",
    "            self.function_name = 'Trapfall'\n",
    "        elif self.func_num == 9:\n",
    "            self.area = [[-3, 3], [-1, 5]]\n",
    "            self.exact = 0\n",
    "            self.function_name = 'Розенброка'\n",
    "        \n",
    "        \n",
    "        \n",
    "        \n",
    "    def form_first_pop(self):\n",
    "        self.population.clear()\n",
    "        for i in range(self.swarm_size):\n",
    "            coordinate = np.array([np.random.rand() * (self.area[j][1] - self.area[j][0]) + self.area[j][0] \\\n",
    "                          for j in range(self.dim)])\n",
    "            #result = self.Func(coordinate)\n",
    "            member = Sparrow(coordinate, 0)\n",
    "            self.population.append(member)\n",
    "            \n",
    "            \n",
    "    # best in abs x_j_best\n",
    "    def find_best_all_iters(self, loop_id):\n",
    "        if loop_id == 0:\n",
    "            #self.best_all_iters.append(deepcopy(self.population)[1:])\n",
    "            for i in range(1, self.swarm_size):\n",
    "                self.best_all_iters.append(Sparrow(deepcopy(self.population[i].x), self.population[i].f))\n",
    "                \n",
    "        else:\n",
    "            for i in range(1, self.swarm_size):\n",
    "                if self.best_all_iters[i].f < self.population[i].f:\n",
    "                    self.best_all_iters[i].f = self.population[i].f\n",
    "                    self.best_all_iters[i].x = deepcopy(self.population[i].x)\n",
    "        #return max(self.best_leaders, key=lambda sparrow: sparrow.f)\n",
    "    \n",
    "    \n",
    "    # best in pop x_best\n",
    "    def find_leader(self):\n",
    "        return max(self.population, key=lambda sparrow: sparrow.f)\n",
    "    \n",
    "    \n",
    "    # best local x_j_local\n",
    "    def find_best_local(self, leader_index):\n",
    "        self.best_local.clear()\n",
    "        for i in range(self.swarm_size):\n",
    "            if i != leader_index:\n",
    "                member = Sparrow(deepcopy(self.population[i].x), self.population[i].f)\n",
    "                for j in range(self.swarm_size):\n",
    "                    if i!= j:\n",
    "                        if np.linalg.norm(np.array(self.population[j].x) - np.array(self.population[i].x)) <= self.area_radius:\n",
    "                            if member.f < self.population[j].f:\n",
    "                                member.x = deepcopy(self.population[j].x)\n",
    "                                member.f = self.population[j].f\n",
    "                self.best_local.append(member)\n",
    "        \n",
    "        \n",
    "    \n",
    "    def calc_f_sigma(self):\n",
    "        #check the best_local - index\n",
    "        self.vector_f.clear()\n",
    "        self.vector_sigma.clear()\n",
    "        for i in range(1, self.swarm_size):\n",
    "            r1 = np.random.uniform(0, 1)\n",
    "            r2 = np.random.uniform(0, 1)\n",
    "            r3 = np.random.uniform(0, 1)\n",
    "            numb_last = len(self.best_leaders) - 1\n",
    "            best_leaders_curr = np.array(self.best_leaders[numb_last].x) - np.array(self.population[i].x)\n",
    "            #best_all_iter_curr = np.array(self.best_all_iters[len(self.best_all_iters) - 1].x) - np.array(self.population[i].x)\n",
    "\n",
    "            best_all_iter_curr = np.array(self.best_all_iters[i - 1].x) - np.array(self.population[i].x)\n",
    "            \n",
    "            best_loc_curr = np.array(self.best_local[i - 1].x) - np.array(self.population[i].x)\n",
    "            \n",
    "            tmp_f = self.c1 * r1 * best_leaders_curr\n",
    "            tmp_sigma = self.c2 * r2 * best_all_iter_curr + self.c3 * r3 * best_loc_curr\n",
    "            self.vector_f.append(tmp_f)\n",
    "            self.vector_sigma.append(tmp_sigma)\n",
    "            \n",
    "            \n",
    "    def new_leader_location(self, iter_id):\n",
    "        sparrow = Sparrow(deepcopy(self.population[0].x), self.population[0].f)\n",
    "        check_obl = 0\n",
    "        devide = self.swarm_size / 2\n",
    "        dev_truncated = m.trunc(devide)\n",
    "        in_while = True\n",
    "        \n",
    "        for i in range(self.dim):\n",
    "            while_counter = 0\n",
    "            \n",
    "            while (in_while):\n",
    "                in_while = False\n",
    "                \n",
    "                rr = np.random.uniform(0, 1) * (self.area_new[i][1] - self.area_new[i][0]) + self.area_new[i][0]\n",
    "                theta = rr * 2 * m.pi\n",
    "                ll = m.pow(abs(rr), 1 / self.levi_parameter)\n",
    "                \n",
    "                if i < dev_truncated:\n",
    "                    xi = ll * m.sin(theta)\n",
    "                else:\n",
    "                    xi = ll * m.cos(theta)\n",
    "                \n",
    "                check_obl = self.population[0].x[i] + (self.leader_step / (iter_id + 1)) * xi\n",
    "                if check_obl < self.area_new[i][0] or check_obl > self.area_new[i][1]:\n",
    "                    in_while = True\n",
    "                else:\n",
    "                    in_while = False\n",
    "                while_counter += 1\n",
    "                if while_counter > 20:\n",
    "                    in_while = False\n",
    "                \n",
    "            if while_counter >= 20:\n",
    "                if check_obl < self.area_new[i][0]:\n",
    "                    sparrow.x[i] = self.area_new[i][0]\n",
    "                if check_obl > self.area_new[i][1]:\n",
    "                    sparrow.x[i] = self.area_new[i][1]\n",
    "            sparrow.x[i] = self.population[0].x[i] + (self.leader_step / (iter_id + 1)) * xi\n",
    "        self.population[0].x = deepcopy(sparrow.x)\n",
    "                    \n",
    "\n",
    "    \n",
    "    def new_swarm_location(self, rk):\n",
    "        self.area_new[0][0] = self.population[0].x[0] - rk * (self.area[0][1] - self.area[0][0]) * 0.5\n",
    "        self.area_new[0][1] = self.population[0].x[0] + rk * (self.area[0][1] - self.area[0][0]) * 0.5\n",
    "        self.area_new[1][0] = self.population[0].x[1] - rk * (self.area[1][1] - self.area[1][0]) * 0.5\n",
    "        self.area_new[1][1] = self.population[0].x[1] + rk * (self.area[1][1] - self.area[1][0]) * 0.5\n",
    "        \n",
    "        for j in range(self.dim):\n",
    "            if self.area_new[j][0] < self.area[j][0]:\n",
    "                self.area_new[j][0] = self.area[j][0]\n",
    "            if self.area_new[j][1] > self.area[j][1]:\n",
    "                self.area_new[j][1] = self.area[j][1]\n",
    "        \n",
    "        for i in range(self.swarm_size):\n",
    "            self.population[i].x = np.array([np.random.uniform(0, 1) * \\\n",
    "                                   (self.area_new[j][1] - self.area_new[j][0]) + self.area_new[j][0]\\\n",
    "                                   for j in range(self.dim)])\n",
    "\n",
    "    \n",
    "    def generate_pop_from_pool(self):\n",
    "        self.population.clear()\n",
    "        sparrow = Sparrow(deepcopy(self.pool[0].x), self.pool[0].f)\n",
    "        self.population.append(sparrow)\n",
    "        \n",
    "        self.area_new[0][0] = sparrow.x[0] - self.rk * (self.area_new[0][1] - self.area_new[0][0]) * 0.5\n",
    "        self.area_new[0][1] = sparrow.x[0] + self.rk * (self.area_new[0][1] - self.area_new[0][0]) * 0.5\n",
    "        self.area_new[1][0] = sparrow.x[1] - self.rk * (self.area_new[1][1] - self.area_new[1][0]) * 0.5\n",
    "        self.area_new[1][1] = sparrow.x[1] + self.rk * (self.area_new[1][1] - self.area_new[1][0]) * 0.5\n",
    "        \n",
    "        for j in range(self.dim):\n",
    "            if self.area_new[j][0] < self.area[j][0]:\n",
    "                self.area_new[j][0] = self.area[j][0]\n",
    "            if self.area_new[j][1] > self.area[j][1]:\n",
    "                self.area_new[j][1] = self.area[j][1]\n",
    "        \n",
    "        for i in range(1, self.swarm_size):\n",
    "            sparr_x = []\n",
    "            for j in range(self.dim):\n",
    "                sparr_tmp = np.random.uniform(0, 1) * (self.area_new[j][1] - self.area_new[j][0]) + self.area_new[j][0]\n",
    "                if sparr_tmp < self.area_new[j][0]:\n",
    "                    sparr_tmp = self.area_new[j][0]\n",
    "                if sparr_tmp > self.area_new[j][1]:\n",
    "                    sparr_tmp = self.area_new[j][1]\n",
    "                sparr_x.append(sparr_tmp)\n",
    "            sparrow = Sparrow(sparr_x, 0)\n",
    "            self.population.append(sparrow)\n",
    "        \n",
    "    \n",
    "    \n",
    "    def make_step(self, i):\n",
    "        alpha1 = np.random.uniform(0, 1)\n",
    "        alpha2 = np.random.uniform(0, 1)\n",
    "        alpha = np.random.uniform(0, 1)\n",
    "        theta = np.random.uniform(0, 1)\n",
    "        eta = (-2 * m.log(alpha1))**0.5 * m.cos(2 * m.pi * alpha2)\n",
    "        \n",
    "        sparr_x = []\n",
    "        for j in range(self.dim):\n",
    "            sparr_tmp = np.array(self.population[i].x[j]) + \\\n",
    "                        self.step_integration * self.vector_f[i-1][j] + \\\n",
    "                        (self.step_integration)**0.5 * self.vector_f[i-1][j] * eta\n",
    "            \n",
    "            if alpha < self.intensity_process * self.step_integration:\n",
    "                sparr_tmp += theta\n",
    "            \n",
    "            # self.area_new - пустой список ВОТ ТАК\n",
    "            if sparr_tmp < self.area_new[j][0]: \n",
    "                sparr_tmp = self.area_new[j][0]\n",
    "            if sparr_tmp > self.area_new[j][1]:\n",
    "                sparr_tmp = self.area_new[j][1]\n",
    "            sparr_x.append(sparr_tmp)\n",
    "        sparr_f = self.function(sparr_x)\n",
    "        self.population[i].f = sparr_f\n",
    "        self.population[i].x = deepcopy(sparr_x)\n",
    "        \n",
    "\n",
    "    \n",
    "    def integration_gives_best(self, leader):\n",
    "        best_sparrows_in_interg = []\n",
    "        for i in range(1, self.swarm_size):\n",
    "            best_integr = Sparrow(deepcopy(self.population[i].x), self.population[i].f)\n",
    "                    \n",
    "            for t in range(self.search_time):\n",
    "                self.make_step(i)\n",
    "                temp_result = self.function(self.population[i].x)\n",
    "                if best_integr.f < temp_result:\n",
    "                    best_integr.f = temp_result\n",
    "                    best_integr.x = deepcopy(self.population[i].x)\n",
    "                t += self.step_integration\n",
    "            best_sparrows_in_interg.append(best_integr)\n",
    "        best_sparrows_in_interg.append(leader)\n",
    "        return best_sparrows_in_interg\n",
    "\n",
    "    \n",
    "    def work(self):\n",
    "        start = time.monotonic()\n",
    "        time.sleep(0.1)\n",
    "        \n",
    "        # step 1.2\n",
    "        self.init_area()\n",
    "        self.form_first_pop()\n",
    "        \n",
    "        # step 2: diffuse searching\n",
    "        \n",
    "        loop_id = 0\n",
    "        not_first_loop = False\n",
    "        while loop_id < self.max_loop_number:\n",
    "            \n",
    "            # step 3\n",
    "            if not_first_loop:\n",
    "                self.memory.clear()\n",
    "                loop_id += 1\n",
    "                self.rk = self.recovery\n",
    "                self.area_new = deepcopy(self.area)\n",
    "                self.pool.sort(reverse=True, key=lambda sparrow: sparrow.f)\n",
    "                self.generate_pop_from_pool()\n",
    "                \n",
    "            # step 2.1\n",
    "            iter_id = 0\n",
    "            in_iter = True\n",
    "            while in_iter:\n",
    "                if iter_id != 0:\n",
    "                    self.new_leader_location(iter_id)\n",
    "                    self.new_swarm_location(self.rk)\n",
    "                \n",
    "                # step 2.2\n",
    "                for i in range(self.swarm_size): \n",
    "                    coordinate = self.population[i].x\n",
    "                    result = self.function(coordinate)\n",
    "                    self.population[i].f = result\n",
    "                \n",
    "                # тут сортировка в порядке убывания -- от большего к меньшему\n",
    "                self.population.sort(reverse=True, key=lambda sparrow: sparrow.f)\n",
    "               \n",
    "                # step 2.3\n",
    "                leader = Sparrow(deepcopy(self.population[0].x), self.population[0].f)\n",
    "                \n",
    "                #self.best_leaders.append(deepcopy(self.find_leader())) # find the one leader - that's right\n",
    "                self.best_leaders.append(leader)\n",
    "                self.find_best_all_iters(loop_id)\n",
    "                self.find_best_local(0) # the list is refilled inside the function\n",
    "                \n",
    "                # step 2.4\n",
    "                self.calc_f_sigma()\n",
    "                \n",
    "                # step 2.5 + 2.6\n",
    "                best_sparrs_after_integr = self.integration_gives_best(leader)\n",
    "                \n",
    "                # step 2.7\n",
    "                best_sparrs_after_integr.sort(reverse=True, key=lambda sparrow: sparrow.f)\n",
    "                sparrow = Sparrow(deepcopy(best_sparrs_after_integr[0].x), best_sparrs_after_integr[0].f)\n",
    "                self.memory.append(sparrow)\n",
    "                \n",
    "                # step 2.8\n",
    "                self.rk = self.reduction * self.rk\n",
    "                iter_id += 1\n",
    "                if iter_id >= self.m_capacity:\n",
    "                    in_iter = False\n",
    "                if self.rk < self.min_area:\n",
    "                    in_iter = False\n",
    "            \n",
    "            # step 3\n",
    "            self.memory.sort(reverse=True, key=lambda sparrow: sparrow.f)\n",
    "            self.pool.append(Sparrow(deepcopy(self.memory[0].x), self.memory[0].f))\n",
    "            if loop_id == 0:\n",
    "                not_first_loop = True\n",
    "        self.pool.sort(reverse=True, key=lambda sparrow: sparrow.f)\n",
    "        end = time.monotonic()\n",
    "        self. draw_plots()\n",
    "        print('work time : {:>9.2f}'.format(end-start))\n",
    "    \n",
    "    def draw_plots(self):\n",
    "        plt.figure(figsize=(16, 16))\n",
    "        \n",
    "        x1 = [self.population[i].x[0] for i in range(1, len(self.population))]\n",
    "        x2 = [self.population[i].x[1] for i in range(1, len(self.population))]\n",
    "        plt.plot(x1, x2, 'b.')\n",
    "        x_1 = self.pool[0].x[0]\n",
    "        x_2 = self.pool[0].x[1]\n",
    "        plt.plot(x_1, x_2, color = 'red', marker = '*')\n",
    "        plt.ylabel('x2')\n",
    "        plt.xlabel('x1')\n",
    "\n",
    "\n",
    "        plt.show()\n",
    "               \n",
    "  \n",
    "    \n",
    "    def function(self, coordinate: List[float]):\n",
    "        if self.func_num == 0:\n",
    "            #self.area = [[-5, 5], [-5, 5]]\n",
    "            return -(np.array(coordinate)**2).sum()\n",
    "        elif self.func_num == 1:\n",
    "            #self.area = [[-500, 500], [-500, 500]]\n",
    "            return coordinate[0] * m.sin(m.sqrt(abs(coordinate[0]))) + coordinate[1] * m.sin(m.sqrt(abs(coordinate[1])))\n",
    "        elif self.func_num == 2:\n",
    "            return coordinate[0] * m.sin(4 * m.pi * coordinate[0]) - coordinate[1] * m.sin(4 * m.pi * coordinate[1] + m.pi) +1\n",
    "        elif self.func_num == 3:\n",
    "            return #(1 / (1 + ()**0.5))\n",
    "        elif self.func_num == 4:\n",
    "            return 0.5 - ((m.sin((coordinate[0]**2 + coordinate[1]**2)**0.5))**2 - 0.5) / (1 + 0.001 * (coordinate[0]**2 + coordinate[1]**2))\n",
    "        elif self.func_num == 5:\n",
    "            return (- coordinate[0]**2 + 10 * m.cos(2 * m.pi * coordinate[0])) + (-coordinate[1]**2 + 10 * m.cos(2 * m.pi * coordinate[1]))\n",
    "        elif self.func_num == 6:\n",
    "            return - m.exp + 20 * m.exp(-0.2 * ((coordinate[0]**2 + coordinate[1]**2) / 2)**0.5) + m.exp(m.cos(2 * m.pi * coordinate[0]) + m.cos(2 * m.pi * coordinate[1])) / 2\n",
    "        elif self.func_num == 7:\n",
    "            return (m.cos(2 * coordinate[0]) - 1.1)**2 + (m.sin(0.5 * coordinate[0]) - 1.2)**2 - (m.cos(2 * coordinate[1]) - 1.1)**2 + (m.sin(0.5 * coordinate[1]) - 1.2)**2\n",
    "        elif self.func_num == 8:\n",
    "            return -(abs(m.sin(m.sin((abs(m.sin(coordinate[0] - 1)))**0.5 + (abs(m.sin(coordinate[1] + 2)))**0.5))))**0.5 + 1\n",
    "        elif self.func_num == 9:\n",
    "            return -(1 - coordinate[0])**2 - 100 * (coordinate[1] - coordinate[0]**2)**2\n",
    "\n"
   ]
  },
  {
   "cell_type": "markdown",
   "metadata": {},
   "source": [
    "Изменение параметров метода:  leader_step"
   ]
  },
  {
   "cell_type": "code",
   "execution_count": 73,
   "metadata": {},
   "outputs": [
    {
     "data": {
      "image/png": "[encoded data removed]",
      "text/plain": [
       "<Figure size 1296x720 with 1 Axes>"
      ]
     },
     "metadata": {},
     "output_type": "display_data"
    },
    {
     "name": "stdout",
     "output_type": "stream",
     "text": [
      "work time :    111.49\n",
      "[-1.5835319922864218e-06, 4.6130516861675035e-07] -2.720376029187133e-12 0\n",
      "Отклонение от точного решения: 2.720376029187133e-12\n"
     ]
    }
   ],
   "source": [
    "algorithm = SparrowSwarm(80, 2, 30, 30, 15, 50, 0.2, 1, 0.75, 0.89, 1.5, 0.5, 0.6, 0.5, 0.00001, 0)\n",
    "algorithm.work()\n",
    "\n",
    "print(algorithm.pool[0].x, algorithm.pool[0].f, algorithm.exact)\n",
    "print('Отклонение от точного решения:', algorithm.exact - algorithm.pool[0].f)"
   ]
  },
  {
   "cell_type": "code",
   "execution_count": null,
   "metadata": {},
   "outputs": [],
   "source": []
  },
  {
   "cell_type": "code",
   "execution_count": 6,
   "metadata": {},
   "outputs": [
    {
     "data": {
      "image/png": "[encoded data removed]",
      "text/plain": [
       "<Figure size 1152x1152 with 1 Axes>"
      ]
     },
     "metadata": {},
     "output_type": "display_data"
    },
    {
     "name": "stdout",
     "output_type": "stream",
     "text": [
      "work time :     82.22\n",
      "[-1.6289186876588018, -1.6288295965020567] 4.253887902928231 4.253888\n",
      "Отклонение от точного решения: 9.707176928941408e-08\n"
     ]
    }
   ],
   "source": [
    "algorithm = SparrowSwarm(80, 2, 30, 30, 15, 50, 0.2, 1, 0.75, 0.89, 1.5, 0.5, 0.6, 0.5, 0.00001, 2)\n",
    "algorithm.work()\n",
    "\n",
    "print(algorithm.pool[0].x, algorithm.pool[0].f, algorithm.exact)\n",
    "print('Отклонение от точного решения:', algorithm.exact - algorithm.pool[0].f)"
   ]
  },
  {
   "cell_type": "code",
   "execution_count": 9,
   "metadata": {},
   "outputs": [
    {
     "ename": "IndexError",
     "evalue": "list index out of range",
     "output_type": "error",
     "traceback": [
      "\u001b[0;31m---------------------------------------------------------------------------\u001b[0m",
      "\u001b[0;31mIndexError\u001b[0m                                Traceback (most recent call last)",
      "\u001b[0;32m<ipython-input-9-58f09fbcd8e3>\u001b[0m in \u001b[0;36m<module>\u001b[0;34m()\u001b[0m\n\u001b[1;32m      1\u001b[0m \u001b[0malgorithm\u001b[0m \u001b[0;34m=\u001b[0m \u001b[0mSparrowSwarm\u001b[0m\u001b[0;34m(\u001b[0m\u001b[0;36m80\u001b[0m\u001b[0;34m,\u001b[0m \u001b[0;36m2\u001b[0m\u001b[0;34m,\u001b[0m \u001b[0;36m30\u001b[0m\u001b[0;34m,\u001b[0m \u001b[0;36m30\u001b[0m\u001b[0;34m,\u001b[0m \u001b[0;36m15\u001b[0m\u001b[0;34m,\u001b[0m \u001b[0;36m50\u001b[0m\u001b[0;34m,\u001b[0m \u001b[0;36m0.2\u001b[0m\u001b[0;34m,\u001b[0m \u001b[0;36m1\u001b[0m\u001b[0;34m,\u001b[0m \u001b[0;36m0.75\u001b[0m\u001b[0;34m,\u001b[0m \u001b[0;36m0.89\u001b[0m\u001b[0;34m,\u001b[0m \u001b[0;36m1.5\u001b[0m\u001b[0;34m,\u001b[0m \u001b[0;36m0.5\u001b[0m\u001b[0;34m,\u001b[0m \u001b[0;36m0.6\u001b[0m\u001b[0;34m,\u001b[0m \u001b[0;36m0.5\u001b[0m\u001b[0;34m,\u001b[0m \u001b[0;36m0.00001\u001b[0m\u001b[0;34m,\u001b[0m \u001b[0;36m9\u001b[0m\u001b[0;34m)\u001b[0m\u001b[0;34m\u001b[0m\u001b[0m\n\u001b[0;32m----> 2\u001b[0;31m \u001b[0malgorithm\u001b[0m\u001b[0;34m.\u001b[0m\u001b[0mwork\u001b[0m\u001b[0;34m(\u001b[0m\u001b[0;34m)\u001b[0m\u001b[0;34m\u001b[0m\u001b[0m\n\u001b[0m\u001b[1;32m      3\u001b[0m \u001b[0mprint\u001b[0m\u001b[0;34m(\u001b[0m\u001b[0;34m'Skin'\u001b[0m\u001b[0;34m)\u001b[0m\u001b[0;34m\u001b[0m\u001b[0m\n\u001b[1;32m      4\u001b[0m \u001b[0mprint\u001b[0m\u001b[0;34m(\u001b[0m\u001b[0malgorithm\u001b[0m\u001b[0;34m.\u001b[0m\u001b[0mpool\u001b[0m\u001b[0;34m[\u001b[0m\u001b[0;36m0\u001b[0m\u001b[0;34m]\u001b[0m\u001b[0;34m.\u001b[0m\u001b[0mx\u001b[0m\u001b[0;34m,\u001b[0m \u001b[0malgorithm\u001b[0m\u001b[0;34m.\u001b[0m\u001b[0mpool\u001b[0m\u001b[0;34m[\u001b[0m\u001b[0;36m0\u001b[0m\u001b[0;34m]\u001b[0m\u001b[0;34m.\u001b[0m\u001b[0mf\u001b[0m\u001b[0;34m,\u001b[0m \u001b[0malgorithm\u001b[0m\u001b[0;34m.\u001b[0m\u001b[0mexact\u001b[0m\u001b[0;34m)\u001b[0m\u001b[0;34m\u001b[0m\u001b[0m\n\u001b[1;32m      5\u001b[0m \u001b[0mprint\u001b[0m\u001b[0;34m(\u001b[0m\u001b[0;34m'Отклонение от точного решения:'\u001b[0m\u001b[0;34m,\u001b[0m \u001b[0malgorithm\u001b[0m\u001b[0;34m.\u001b[0m\u001b[0mexact\u001b[0m \u001b[0;34m-\u001b[0m \u001b[0malgorithm\u001b[0m\u001b[0;34m.\u001b[0m\u001b[0mpool\u001b[0m\u001b[0;34m[\u001b[0m\u001b[0;36m0\u001b[0m\u001b[0;34m]\u001b[0m\u001b[0;34m.\u001b[0m\u001b[0mf\u001b[0m\u001b[0;34m)\u001b[0m\u001b[0;34m\u001b[0m\u001b[0m\n",
      "\u001b[0;32m<ipython-input-2-ef3e439842cc>\u001b[0m in \u001b[0;36mwork\u001b[0;34m(self)\u001b[0m\n\u001b[1;32m    370\u001b[0m \u001b[0;34m\u001b[0m\u001b[0m\n\u001b[1;32m    371\u001b[0m                 \u001b[0;31m# step 2.5 + 2.6\u001b[0m\u001b[0;34m\u001b[0m\u001b[0;34m\u001b[0m\u001b[0m\n\u001b[0;32m--> 372\u001b[0;31m                 \u001b[0mbest_sparrs_after_integr\u001b[0m \u001b[0;34m=\u001b[0m \u001b[0mself\u001b[0m\u001b[0;34m.\u001b[0m\u001b[0mintegration_gives_best\u001b[0m\u001b[0;34m(\u001b[0m\u001b[0mleader\u001b[0m\u001b[0;34m)\u001b[0m\u001b[0;34m\u001b[0m\u001b[0m\n\u001b[0m\u001b[1;32m    373\u001b[0m \u001b[0;34m\u001b[0m\u001b[0m\n\u001b[1;32m    374\u001b[0m                 \u001b[0;31m# step 2.7\u001b[0m\u001b[0;34m\u001b[0m\u001b[0;34m\u001b[0m\u001b[0m\n",
      "\u001b[0;32m<ipython-input-2-ef3e439842cc>\u001b[0m in \u001b[0;36mintegration_gives_best\u001b[0;34m(self, leader)\u001b[0m\n\u001b[1;32m    307\u001b[0m \u001b[0;34m\u001b[0m\u001b[0m\n\u001b[1;32m    308\u001b[0m             \u001b[0;32mfor\u001b[0m \u001b[0mt\u001b[0m \u001b[0;32min\u001b[0m \u001b[0mrange\u001b[0m\u001b[0;34m(\u001b[0m\u001b[0mself\u001b[0m\u001b[0;34m.\u001b[0m\u001b[0msearch_time\u001b[0m\u001b[0;34m)\u001b[0m\u001b[0;34m:\u001b[0m\u001b[0;34m\u001b[0m\u001b[0m\n\u001b[0;32m--> 309\u001b[0;31m                 \u001b[0mself\u001b[0m\u001b[0;34m.\u001b[0m\u001b[0mmake_step\u001b[0m\u001b[0;34m(\u001b[0m\u001b[0mi\u001b[0m\u001b[0;34m)\u001b[0m\u001b[0;34m\u001b[0m\u001b[0m\n\u001b[0m\u001b[1;32m    310\u001b[0m                 \u001b[0mtemp_result\u001b[0m \u001b[0;34m=\u001b[0m \u001b[0mself\u001b[0m\u001b[0;34m.\u001b[0m\u001b[0mfunction\u001b[0m\u001b[0;34m(\u001b[0m\u001b[0mself\u001b[0m\u001b[0;34m.\u001b[0m\u001b[0mpopulation\u001b[0m\u001b[0;34m[\u001b[0m\u001b[0mi\u001b[0m\u001b[0;34m]\u001b[0m\u001b[0;34m.\u001b[0m\u001b[0mx\u001b[0m\u001b[0;34m)\u001b[0m\u001b[0;34m\u001b[0m\u001b[0m\n\u001b[1;32m    311\u001b[0m                 \u001b[0;32mif\u001b[0m \u001b[0mbest_integr\u001b[0m\u001b[0;34m.\u001b[0m\u001b[0mf\u001b[0m \u001b[0;34m<\u001b[0m \u001b[0mtemp_result\u001b[0m\u001b[0;34m:\u001b[0m\u001b[0;34m\u001b[0m\u001b[0m\n",
      "\u001b[0;32m<ipython-input-2-ef3e439842cc>\u001b[0m in \u001b[0;36mmake_step\u001b[0;34m(self, i)\u001b[0m\n\u001b[1;32m    290\u001b[0m \u001b[0;34m\u001b[0m\u001b[0m\n\u001b[1;32m    291\u001b[0m             \u001b[0;31m# self.area_new - пустой список ВОТ ТАК\u001b[0m\u001b[0;34m\u001b[0m\u001b[0;34m\u001b[0m\u001b[0m\n\u001b[0;32m--> 292\u001b[0;31m             \u001b[0;32mif\u001b[0m \u001b[0msparr_tmp\u001b[0m \u001b[0;34m<\u001b[0m \u001b[0mself\u001b[0m\u001b[0;34m.\u001b[0m\u001b[0marea_new\u001b[0m\u001b[0;34m[\u001b[0m\u001b[0mj\u001b[0m\u001b[0;34m]\u001b[0m\u001b[0;34m[\u001b[0m\u001b[0;36m0\u001b[0m\u001b[0;34m]\u001b[0m\u001b[0;34m:\u001b[0m\u001b[0;34m\u001b[0m\u001b[0m\n\u001b[0m\u001b[1;32m    293\u001b[0m                 \u001b[0msparr_tmp\u001b[0m \u001b[0;34m=\u001b[0m \u001b[0mself\u001b[0m\u001b[0;34m.\u001b[0m\u001b[0marea_new\u001b[0m\u001b[0;34m[\u001b[0m\u001b[0mj\u001b[0m\u001b[0;34m]\u001b[0m\u001b[0;34m[\u001b[0m\u001b[0;36m0\u001b[0m\u001b[0;34m]\u001b[0m\u001b[0;34m\u001b[0m\u001b[0m\n\u001b[1;32m    294\u001b[0m             \u001b[0;32mif\u001b[0m \u001b[0msparr_tmp\u001b[0m \u001b[0;34m>\u001b[0m \u001b[0mself\u001b[0m\u001b[0;34m.\u001b[0m\u001b[0marea_new\u001b[0m\u001b[0;34m[\u001b[0m\u001b[0mj\u001b[0m\u001b[0;34m]\u001b[0m\u001b[0;34m[\u001b[0m\u001b[0;36m1\u001b[0m\u001b[0;34m]\u001b[0m\u001b[0;34m:\u001b[0m\u001b[0;34m\u001b[0m\u001b[0m\n",
      "\u001b[0;31mIndexError\u001b[0m: list index out of range"
     ]
    }
   ],
   "source": [
    "algorithm = SparrowSwarm(80, 2, 30, 30, 15, 50, 0.2, 1, 0.75, 0.89, 1.5, 0.5, 0.6, 0.5, 0.00001, 9)\n",
    "algorithm.work()\n",
    "\n",
    "print(algorithm.pool[0].x, algorithm.pool[0].f, algorithm.exact)\n",
    "print('Отклонение от точного решения:', algorithm.exact - algorithm.pool[0].f)"
   ]
  },
  {
   "cell_type": "code",
   "execution_count": null,
   "metadata": {},
   "outputs": [],
   "source": []
  },
  {
   "cell_type": "code",
   "execution_count": 11,
   "metadata": {},
   "outputs": [
    {
     "data": {
      "image/png": "[encoded data removed]",
      "text/plain": [
       "<Figure size 864x720 with 1 Axes>"
      ]
     },
     "metadata": {},
     "output_type": "display_data"
    },
    {
     "name": "stdout",
     "output_type": "stream",
     "text": [
      "work time :      2.79\n",
      "[420.95886755254674, 420.97324551768963] 837.9657596762934 837.9658\n",
      "Отклонение от точного решения: 4.03237065711437e-05\n"
     ]
    }
   ],
   "source": [
    "algorithm = SparrowSwarm(20, 2, 20, 15, 15, 50, 0.2, 1, 0.75, 0.89, 1.5, 0.5, 0.6, 0.5, 0.00001, 1)\n",
    "\n",
    "algorithm.work()\n",
    "\n",
    "print(algorithm.pool[0].x, algorithm.pool[0].f, algorithm.exact)\n",
    "print('Отклонение от точного решения:', algorithm.exact - algorithm.pool[0].f)"
   ]
  },
  {
   "cell_type": "code",
   "execution_count": 9,
   "metadata": {},
   "outputs": [
    {
     "data": {
      "image/png": "[encoded data removed]",
      "text/plain": [
       "<Figure size 864x720 with 1 Axes>"
      ]
     },
     "metadata": {},
     "output_type": "display_data"
    },
    {
     "name": "stdout",
     "output_type": "stream",
     "text": [
      "work time :      2.90\n",
      "[420.96341364075624, 420.96754000882987] 837.9657707728484 837.9658\n",
      "Отклонение от точного решения: 2.92271515718312e-05\n"
     ]
    }
   ],
   "source": [
    "algorithm = SparrowSwarm(20, 2, 20, 15, 15, 50, 0.2, 1, 0.75, 0.89, 1.5, 0.5, 0.6, 0.5, 0.00001, 1)\n",
    "\n",
    "algorithm.work()\n",
    "\n",
    "print(algorithm.pool[0].x, algorithm.pool[0].f, algorithm.exact)\n",
    "print('Отклонение от точного решения:', algorithm.exact - algorithm.pool[0].f)"
   ]
  },
  {
   "cell_type": "code",
   "execution_count": 10,
   "metadata": {},
   "outputs": [
    {
     "data": {
      "image/png": "[encoded data removed]",
      "text/plain": [
       "<Figure size 1152x1152 with 1 Axes>"
      ]
     },
     "metadata": {},
     "output_type": "display_data"
    },
    {
     "name": "stdout",
     "output_type": "stream",
     "text": [
      "work time :      4.55\n",
      "[420.96204638051574, 420.97674532078315] 837.9657608068653 837.9658\n",
      "Отклонение от точного решения: 3.9193134625747916e-05\n"
     ]
    }
   ],
   "source": [
    "algorithm = SparrowSwarm(30, 2, 20, 15, 15, 50, 0.2, 1, 0.75, 0.89, 1.5, 0.5, 0.6, 0.5, 0.00001, 1)\n",
    "\n",
    "algorithm.work()\n",
    "\n",
    "print(algorithm.pool[0].x, algorithm.pool[0].f, algorithm.exact)\n",
    "print('Отклонение от точного решения:', algorithm.exact - algorithm.pool[0].f)"
   ]
  },
  {
   "cell_type": "code",
   "execution_count": null,
   "metadata": {},
   "outputs": [],
   "source": []
  },
  {
   "cell_type": "code",
   "execution_count": null,
   "metadata": {},
   "outputs": [],
   "source": []
  },
  {
   "cell_type": "code",
   "execution_count": 4,
   "metadata": {},
   "outputs": [
    {
     "data": {
      "image/png": "[encoded data removed]",
      "text/plain": [
       "<Figure size 864x720 with 1 Axes>"
      ]
     },
     "metadata": {},
     "output_type": "display_data"
    },
    {
     "name": "stdout",
     "output_type": "stream",
     "text": [
      "work time :      3.33\n",
      "[-1.6298464688222551, 1.628106956786032] 4.253690953470013 4.253888\n",
      "Отклонение от точного решения: 0.00019704652998697725\n"
     ]
    }
   ],
   "source": [
    "algorithm = SparrowSwarm(20, 2, 20, 15, 15, 50, 0.2, 1, 0.75, 0.89, 1.5, 0.5, 0.6, 0.5, 0.00001, 2)\n",
    "\n",
    "algorithm.work()\n",
    "\n",
    "print(algorithm.pool[0].x, algorithm.pool[0].f, algorithm.exact)\n",
    "print('Отклонение от точного решения:', algorithm.exact - algorithm.pool[0].f)"
   ]
  },
  {
   "cell_type": "code",
   "execution_count": 5,
   "metadata": {},
   "outputs": [
    {
     "data": {
      "image/png": "[encoded data removed]",
      "text/plain": [
       "<Figure size 864x720 with 1 Axes>"
      ]
     },
     "metadata": {},
     "output_type": "display_data"
    },
    {
     "name": "stdout",
     "output_type": "stream",
     "text": [
      "work time :     32.30\n",
      "[1.6288994252989868, 1.6289059655445526] 4.25388835590295 4.253888\n",
      "Отклонение от точного решения: -3.55902949777942e-07\n"
     ]
    }
   ],
   "source": [
    "algorithm = SparrowSwarm(100, 2, 20, 15, 15, 50, 0.2, 1, 0.75, 0.89, 1.5, 0.5, 0.6, 0.5, 0.00001, 2)\n",
    "\n",
    "algorithm.work()\n",
    "\n",
    "print(algorithm.pool[0].x, algorithm.pool[0].f, algorithm.exact)\n",
    "print('Отклонение от точного решения:', algorithm.exact - algorithm.pool[0].f)"
   ]
  },
  {
   "cell_type": "code",
   "execution_count": 7,
   "metadata": {},
   "outputs": [
    {
     "data": {
      "image/png": "[encoded data removed]",
      "text/plain": [
       "<Figure size 864x720 with 1 Axes>"
      ]
     },
     "metadata": {},
     "output_type": "display_data"
    },
    {
     "name": "stdout",
     "output_type": "stream",
     "text": [
      "work time :    314.23\n",
      "[1.6288537305099753, -1.628934387510496] 4.253888000308976 4.253888\n",
      "Отклонение от точного решения: -3.0897595593160077e-10\n"
     ]
    }
   ],
   "source": [
    "algorithm = SparrowSwarm(350, 2, 20, 15, 15, 50, 0.2, 1, 0.75, 0.89, 1.5, 0.5, 0.6, 0.5, 0.00001, 2)\n",
    "\n",
    "algorithm.work()\n",
    "\n",
    "print(algorithm.pool[0].x, algorithm.pool[0].f, algorithm.exact)\n",
    "print('Отклонение от точного решения:', algorithm.exact - algorithm.pool[0].f)"
   ]
  },
  {
   "cell_type": "code",
   "execution_count": null,
   "metadata": {},
   "outputs": [],
   "source": []
  },
  {
   "cell_type": "code",
   "execution_count": null,
   "metadata": {},
   "outputs": [],
   "source": []
  },
  {
   "cell_type": "code",
   "execution_count": 582,
   "metadata": {},
   "outputs": [
    {
     "name": "stdout",
     "output_type": "stream",
     "text": [
      "work time :      0.21\n",
      "[421.56431713898127, 421.79891612257006] 837.8340190494287 837.9658\n",
      "Отклонение от точного решения: 0.13178095057128303\n"
     ]
    }
   ],
   "source": [
    "algorithm = SparrowSwarm(5, 2, 10, 5, 15, 50, 0.2, 1, 0.75, 0.89, 1.5, 0.5, 0.6, 0.5, 0.00001, 1)\n",
    "\n",
    "algorithm.work()\n",
    "\n",
    "print(algorithm.pool[0].x, algorithm.pool[0].f, algorithm.exact)\n",
    "print('Отклонение от точного решения:', algorithm.exact - algorithm.pool[0].f)"
   ]
  },
  {
   "cell_type": "code",
   "execution_count": 583,
   "metadata": {},
   "outputs": [
    {
     "name": "stdout",
     "output_type": "stream",
     "text": [
      "work time :      0.22\n",
      "[-301.6113902320239, 421.6425854430721] 719.3644957427359 837.9658\n",
      "Отклонение от точного решения: 118.60130425726402\n"
     ]
    }
   ],
   "source": [
    "algorithm = SparrowSwarm(5, 2, 10, 5, 15, 50, 0.2, 1, 0.75, 0.89, 1.5, 0.5, 0.6, 0.5, 0.00001, 1)\n",
    "\n",
    "algorithm.work()\n",
    "\n",
    "print(algorithm.pool[0].x, algorithm.pool[0].f, algorithm.exact)\n",
    "print('Отклонение от точного решения:', algorithm.exact - algorithm.pool[0].f)"
   ]
  },
  {
   "cell_type": "code",
   "execution_count": 584,
   "metadata": {},
   "outputs": [
    {
     "name": "stdout",
     "output_type": "stream",
     "text": [
      "work time :      0.22\n",
      "[420.4252659989806, 421.9728987262768] 837.8012356104393 837.9658\n",
      "Отклонение от точного решения: 0.16456438956060992\n"
     ]
    }
   ],
   "source": [
    "algorithm = SparrowSwarm(5, 2, 10, 5, 15, 50, 0.2, 1, 0.75, 0.89, 1.5, 0.5, 0.6, 0.5, 0.00001, 1)\n",
    "\n",
    "algorithm.work()\n",
    "\n",
    "print(algorithm.pool[0].x, algorithm.pool[0].f, algorithm.exact)\n",
    "print('Отклонение от точного решения:', algorithm.exact - algorithm.pool[0].f)"
   ]
  },
  {
   "cell_type": "code",
   "execution_count": 585,
   "metadata": {},
   "outputs": [
    {
     "name": "stdout",
     "output_type": "stream",
     "text": [
      "work time :      0.22\n",
      "[-303.0527217336948, -303.5028444069651] 600.9326527148797 837.9658\n",
      "Отклонение от точного решения: 237.0331472851202\n"
     ]
    }
   ],
   "source": [
    "algorithm = SparrowSwarm(5, 2, 10, 5, 15, 50, 0.2, 1, 0.75, 0.89, 1.5, 0.5, 0.6, 0.5, 0.00001, 1)\n",
    "\n",
    "algorithm.work()\n",
    "\n",
    "print(algorithm.pool[0].x, algorithm.pool[0].f, algorithm.exact)\n",
    "print('Отклонение от точного решения:', algorithm.exact - algorithm.pool[0].f)"
   ]
  },
  {
   "cell_type": "code",
   "execution_count": 586,
   "metadata": {},
   "outputs": [
    {
     "name": "stdout",
     "output_type": "stream",
     "text": [
      "work time :      0.21\n",
      "[-300.31969890668296, 415.2727435908325] 714.8342019681359 837.9658\n",
      "Отклонение от точного решения: 123.13159803186409\n"
     ]
    }
   ],
   "source": [
    "algorithm = SparrowSwarm(5, 2, 10, 5, 15, 50, 0.2, 1, 0.75, 0.89, 1.5, 0.5, 0.6, 0.5, 0.00001, 1)\n",
    "\n",
    "algorithm.work()\n",
    "\n",
    "print(algorithm.pool[0].x, algorithm.pool[0].f, algorithm.exact)\n",
    "print('Отклонение от точного решения:', algorithm.exact - algorithm.pool[0].f)"
   ]
  },
  {
   "cell_type": "code",
   "execution_count": 587,
   "metadata": {},
   "outputs": [
    {
     "name": "stdout",
     "output_type": "stream",
     "text": [
      "work time :      0.21\n",
      "[-298.7386048   422.83573707] 717.2772302884457 837.9658\n",
      "Отклонение от точного решения: 120.68856971155424\n"
     ]
    }
   ],
   "source": [
    "algorithm = SparrowSwarm(5, 2, 10, 5, 15, 100, 0.2, 1, 0.75, 0.89, 1.5, 0.5, 0.6, 0.5, 0.00001, 1)\n",
    "\n",
    "algorithm.work()\n",
    "\n",
    "print(algorithm.pool[0].x, algorithm.pool[0].f, algorithm.exact)\n",
    "print('Отклонение от точного решения:', algorithm.exact - algorithm.pool[0].f)"
   ]
  },
  {
   "cell_type": "code",
   "execution_count": 596,
   "metadata": {},
   "outputs": [
    {
     "name": "stdout",
     "output_type": "stream",
     "text": [
      "work time :      0.25\n",
      "[419.9463480912293, 421.4280610857496] 837.8073085877484 837.9658\n",
      "Отклонение от точного решения: 0.15849141225157837\n"
     ]
    }
   ],
   "source": [
    "algorithm = SparrowSwarm(5, 2, 10, 5, 15, 50, 0.2, 1, 0.75, 0.89, 1.5, 0.5, 0.6, 0.5, 0.00001, 1)\n",
    "\n",
    "algorithm.work()\n",
    "\n",
    "print(algorithm.pool[0].x, algorithm.pool[0].f, algorithm.exact)\n",
    "print('Отклонение от точного решения:', algorithm.exact - algorithm.pool[0].f)"
   ]
  },
  {
   "cell_type": "code",
   "execution_count": 593,
   "metadata": {},
   "outputs": [
    {
     "name": "stdout",
     "output_type": "stream",
     "text": [
      "work time :      0.21\n",
      "[420.5143617487854, -303.47532423270496] 719.3869516202489 837.9658\n",
      "Отклонение от точного решения: 118.5788483797511\n"
     ]
    }
   ],
   "source": [
    "algorithm = SparrowSwarm(5, 2, 10, 5, 15, 50, 0.2, 1, 0.2, 0.89, 1.5, 0.5, 0.6, 0.5, 0.00001, 1)\n",
    "\n",
    "algorithm.work()\n",
    "\n",
    "print(algorithm.pool[0].x, algorithm.pool[0].f, algorithm.exact)\n",
    "print('Отклонение от точного решения:', algorithm.exact - algorithm.pool[0].f)"
   ]
  },
  {
   "cell_type": "code",
   "execution_count": null,
   "metadata": {},
   "outputs": [],
   "source": []
  },
  {
   "cell_type": "markdown",
   "metadata": {},
   "source": [
    "## Замечания"
   ]
  },
  {
   "cell_type": "markdown",
   "metadata": {},
   "source": [
    "Было замечание по \"лучшая особь за все итерации\", строка 168\n",
    "\n",
    ">для каждой особи надо как-то хранить её лучшее положение за все проделанные итерации\n",
    "\n",
    ">для таких целей есть уже массив/список под хранение или нет?\n",
    "\n",
    ">если нет, надо создать и на каком-то этапе его обновлять\n",
    "\n",
    "Сейчас все исправлено"
   ]
  },
  {
   "cell_type": "markdown",
   "metadata": {},
   "source": [
    "По каким-то причинам в memory сначала есть элемент на iter_id=0, loop_id=0, а потом на он исчезает, а iter,loop_id остаются теми же"
   ]
  },
  {
   "cell_type": "markdown",
   "metadata": {},
   "source": [
    "## Какие промблемы могут возникнуть"
   ]
  },
  {
   "cell_type": "markdown",
   "metadata": {},
   "source": [
    "\n",
    "\n",
    "\n",
    "Бывало такое, что сделала проверку \"основных\" параметров, отвечающих за количество итераций (связанных с циклами), выбрала наиболее удачные значения. Начала при них подбирать смысловые параметры алгоитма, получила неудовлетворительные результаты. Изменила \"цикловой\" параметр, значения функции стало лучше. Странно. Вроде бы и параметры подобрала, а при дальнейшем подборе возникла такая ситуация. Выходит. замкнутый круг. Из него выйти сложно. Как его избежать? Не понятно... Возникает вопрос о правдивости метода подбора параметров. Насколько они верны и корректны? Перебор в \"лоб\" занимает много времени (как человеческого, если делать руками, так и программного, если делать это в цикле)"
   ]
  },
  {
   "cell_type": "markdown",
   "metadata": {},
   "source": [
    "## Параметры, которые перепроверены"
   ]
  },
  {
   "cell_type": "markdown",
   "metadata": {},
   "source": [
    "intensity = [0.1; 0.5], 0.2\n",
    "\n",
    "leader_step = 1\n"
   ]
  },
  {
   "cell_type": "code",
   "execution_count": null,
   "metadata": {},
   "outputs": [],
   "source": []
  }
 ],
 "metadata": {
  "kernelspec": {
   "display_name": "Python 3",
   "language": "python",
   "name": "python3"
  },
  "language_info": {
   "codemirror_mode": {
    "name": "ipython",
    "version": 3
   },
   "file_extension": ".py",
   "mimetype": "text/x-python",
   "name": "python",
   "nbconvert_exporter": "python",
   "pygments_lexer": "ipython3",
   "version": "3.6.5"
  }
 },
 "nbformat": 4,
 "nbformat_minor": 2
}
