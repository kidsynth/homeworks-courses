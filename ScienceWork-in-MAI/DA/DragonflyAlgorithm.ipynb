{
 "cells": [
  {
   "cell_type": "code",
   "execution_count": 1,
   "metadata": {},
   "outputs": [],
   "source": [
    "import math as m\n",
    "import numpy as np\n",
    "from typing import List, Tuple, Dict\n",
    "import matplotlib.pyplot as plt\n",
    "import time\n",
    "from copy import deepcopy"
   ]
  },
  {
   "cell_type": "code",
   "execution_count": 2,
   "metadata": {},
   "outputs": [],
   "source": [
    "class Dragonfly:\n",
    "    def __init__(\n",
    "        self, \n",
    "        x: List[float], \n",
    "        f: float\n",
    "             ):\n",
    "        self.x = x\n",
    "        self.f = f\n",
    "        \n",
    "class DragonflySwarm:\n",
    "    def __init__(\n",
    "        self,\n",
    "        swarm_size: int,\n",
    "        dim: int,\n",
    "        max_iter: int,\n",
    "        sep: float,\n",
    "        alignmnt: float,\n",
    "        cohesn: float,\n",
    "        tendnsy: float,\n",
    "        evatn: float,\n",
    "        weight: float, \n",
    "        alpha: float,\n",
    "        lmbd: float,\n",
    "        radius: float,\n",
    "        #area: List[List[float]],\n",
    "        func_num: int,\n",
    "        step_modification: int,\n",
    "        const_for_modif: float\n",
    "                 ):\n",
    "        self.swarm_size = swarm_size\n",
    "        self.dim = dim\n",
    "        self.max_iter = max_iter\n",
    "        self.current_iter = 0\n",
    "        self.sep = sep\n",
    "        self.alignmt = alignmnt\n",
    "        self.cohesn = cohesn\n",
    "        self.tendnsy = tendnsy\n",
    "        self.evatn = evatn\n",
    "        self.weight = weight\n",
    "        self.alpha = alpha\n",
    "        self.lmbd = lmbd\n",
    "        self.radius = radius\n",
    "        self.func_num = func_num\n",
    "        self.population = []\n",
    "        self.sep_list = []\n",
    "        self.alig_list = []\n",
    "        self.coh_list = []\n",
    "        self.food_attract = []\n",
    "        self.enemy_avoid = []\n",
    "        self.velocity_list =[]\n",
    "        self.euclid_list = []\n",
    "        self.best_list = []\n",
    "        self.worst_list = []\n",
    "        self.exact = 0\n",
    "        self.function_name = '-'\n",
    "        self.func_num = func_num\n",
    "        self.const_for_modif = 0.5#const_for_modif\n",
    "        self.step_modification = step_modification\n",
    "    \n",
    "    \n",
    "    def init_area(self):\n",
    "        if self.func_num == 0:\n",
    "            self.area = [[-5, 5], [-5, 5]]\n",
    "            self.exact = 0\n",
    "            self.function_name = 'Квадратичная'\n",
    "        elif self.func_num == 1:\n",
    "            self.area = [[-500, 500], [-500, 500]]\n",
    "            self.exact = 837.9658\n",
    "            self.function_name = 'Швефеля'\n",
    "        elif self.func_num == 2:\n",
    "            self.area = [[-2, 2], [-2, 2]]\n",
    "            self.exact = 4.253888\n",
    "            self.function_name = 'Мульти'\n",
    "        elif self.func_num == 3:\n",
    "            self.area = [[-2, 2], [-2, 2]]\n",
    "            self.exact = 1\n",
    "            self.function_name = 'Корневая'\n",
    "        elif self.func_num == 4:\n",
    "            self.area = [[-10, 10], [-10, 10]]\n",
    "            self.exact = 1\n",
    "            self.function_name = 'Шафер'\n",
    "        elif self.func_num == 5:\n",
    "            self.area = [[-5, 5], [-5, 5]]\n",
    "            self.exact = 20\n",
    "            self.function_name = 'Растригина'\n",
    "        elif self.func_num == 6:\n",
    "            self.area = [[-10, 10], [-10, 10]]\n",
    "            self.exact = 20\n",
    "            self.function_name = 'Экли'\n",
    "        elif self.func_num == 7:\n",
    "            self.area = [[-5, 5], [-5, 5]]\n",
    "            self.exact = 14.060606\n",
    "            self.function_name = 'Skin'\n",
    "        elif self.func_num == 8:\n",
    "            self.area = [[-5, 5], [-5, 5]]\n",
    "            self.exact = 1\n",
    "            self.function_name = 'Trapfall'\n",
    "        elif self.func_num == 9:\n",
    "            self.area = [[-3, 3], [-1, 5]]\n",
    "            self.exact = 0\n",
    "            self.function_name = 'Розенброка'\n",
    "        \n",
    "        \n",
    "\n",
    "    def form_first_pop(self):\n",
    "        print('Функция: ', algorithm.function_name)\n",
    "        self.population.clear()\n",
    "        for i in range(self.swarm_size):\n",
    "            coordinate = np.array([np.random.rand() * (self.area[j][1] - self.area[j][0]) + self.area[j][0] \n",
    "                          for j in range(self.dim)])\n",
    "            result = self.Func(coordinate)\n",
    "            member = Dragonfly(coordinate, result)\n",
    "            self.population.append(member)\n",
    "\n",
    "    def generate_step_coord(self):\n",
    "        self.velocity_list.clear()\n",
    "        for i in range(self.swarm_size):\n",
    "#             rj = np.random.uniform(-1, 1)\n",
    "            velocty = [(self.area[j][1] - self.area[j][0]) * np.random.uniform(-1, 1) / 100\n",
    "                for j in range(self.dim)]\n",
    "            self.velocity_list.append(velocty)\n",
    "            \n",
    "    # уже не WROOOONG\n",
    "    def move_swarm(self):\n",
    "        self.current_iter += 1\n",
    "        right_area = False # same as \"flag\" in a previous C# code\n",
    "        \n",
    "        radius_area = self.radius * self.current_iter / self.max_iter\n",
    "        trunk_ = self.max_iter - self.max_iter // 2\n",
    "        \n",
    "        population_copy = deepcopy(self.population)\n",
    "            \n",
    "        velocity_copy = deepcopy(self.velocity_list)\n",
    "        \n",
    "        #population_copy = self.population.copy() \n",
    "        \n",
    "#         print(\"_________________________\")\n",
    "#         for iii in range(len(population_copy)):\n",
    "#             print(population_copy[iii].x, population_copy[iii].f)\n",
    "#         print(\"_________________________\")\n",
    "        for i in range(self.swarm_size):\n",
    "            for j in range(self.swarm_size):\n",
    "                if i != j:\n",
    "                    dist = np.linalg.norm(np.array(population_copy[i].x) -\n",
    "                                          np.array(population_copy[j].x))\n",
    "                    if dist <= radius_area:\n",
    "                        self.euclid_list.append([j, dist])\n",
    "            \n",
    "            if len(self.euclid_list) > 1:\n",
    "#                 print(\"=================\")\n",
    "#                 for iii in range(len(self.population)):\n",
    "#                     print(self.population[iii].x, self.population[iii].f)\n",
    "#                 print(\"==================\")\n",
    "                #print('FORMULA')\n",
    "#                 print(\"iteration: \", i)\n",
    "                self.sep_list = self.separation(i, population_copy)\n",
    "                self.alig_list = self.alignment(i, velocity_copy)\n",
    "                self.coh_list = self.cohesion(i, population_copy)\n",
    "                self.food_attract = self.tendensy(i, population_copy)\n",
    "                self.enemy_avoid = self.evation(i, population_copy)\n",
    "                \n",
    "                self.velocity_list.append(self.velocity(i))\n",
    "                \n",
    "                #maybe here\n",
    "                if (self.current_iter < trunk_):\n",
    "                    tmp_list = self.find_new_position(i)\n",
    "                else:\n",
    "                    tmp_list = self.find_new_position_mod(i, self.step_modification)\n",
    "                \n",
    "                #add new function redused step\n",
    "                \n",
    "                \n",
    "                for ii in range(self.dim):\n",
    "                    self.population[i].x[ii] = tmp_list[ii]\n",
    "                \n",
    "                self.check_area(i)\n",
    "                \n",
    "            else:\n",
    "                half_set = int(self.dim / 2)\n",
    "                r_parameter = []\n",
    "                theta = []\n",
    "                l_parameter = []\n",
    "                xi_parameter = []\n",
    "                \n",
    "                \n",
    "                for ii in range(self.dim):\n",
    "                    iterator_0 = 0\n",
    "                    while not right_area:\n",
    "                        r_parameter.append(np.random.rand() * (self.area[ii][1] - self.area[ii][0]) + self.area[ii][0])\n",
    "#                         print(r_parameter[len(r_parameter)-1])\n",
    "                        \n",
    "                        theta.append(r_parameter[len(r_parameter) - 1] * 2 * np.pi)\n",
    "                        l_parameter.append(r_parameter[len(r_parameter) - 1] ** self.lmbd)\n",
    "\n",
    "                        if ii < half_set:\n",
    "                            xi_parameter.append(l_parameter[len(l_parameter) - 1] * np.sin(theta[len(theta) - 1]))\n",
    "                        else:\n",
    "                            xi_parameter.append(l_parameter[len(l_parameter) - 1] * np.cos(theta[len(theta) - 1]))\n",
    "                        \n",
    "\n",
    "                        check_obl = np.array(self.population[i].x[ii]) + \\\n",
    "                        (self.alpha / (self.current_iter + 1)) * xi_parameter[len(xi_parameter) - 1]\n",
    "                        #print(check_obl)\n",
    "                        if (check_obl < self.area[ii][0]) or (check_obl > self.area[ii][1]):\n",
    "                            right_area = False\n",
    "                        else:\n",
    "                            right_area = True\n",
    "                        iterator_0 += 1\n",
    "                    #print(iterator_0)\n",
    "                    right_area = False\n",
    "                    self.population[i].x[ii] = (self.population[i].x[ii]) + \\\n",
    "                        (self.alpha / (self.current_iter + 1)) * xi_parameter[len(xi_parameter) - 1]\n",
    "                \n",
    "            self.population[i].f = self.Func(self.population[i].x)\n",
    "            #self.population[i].f = self.Schwefel(self.population[i].x)\n",
    "            self.euclid_list.clear()\n",
    "        \n",
    "            \n",
    "            \n",
    "            \n",
    "    def separation(self, it, population_copy):\n",
    "#         print(\"--------------------\")\n",
    "        tmp = np.zeros(self.dim)\n",
    "        for indx, dist in self.euclid_list:\n",
    "            tmp += (np.array(population_copy[it].x) - np.array(population_copy[indx].x))\n",
    "            #print(tmp)\n",
    "        for i in range(self.dim):\n",
    "            area_tmp = self.area[i][1] - self.area[i][0]\n",
    "            while (np.abs(tmp[i]) >= area_tmp):\n",
    "                #print(tmp[i])\n",
    "                tmp[i] /= 10\n",
    "            #print(tmp[i],area_tmp/2 , \"while finished\")\n",
    "            if(tmp[i] >= (area_tmp/2)):\n",
    "                #print(tmp[i])\n",
    "                tmp[i] = tmp[i] / 2\n",
    "            #print(tmp)\n",
    "            tmp[i] = -tmp[i]\n",
    "#         print(\"sep:\", tmp)\n",
    "        return tmp#.tolist()\n",
    "    \n",
    "    def alignment(self, it, velocity_copy):\n",
    "#         print(\"--------------------\")\n",
    "        tmp = np.zeros(self.dim)\n",
    "        #print(self.velocity_list)\n",
    "        for indx, dist in self.euclid_list:\n",
    "            tmp += np.array(velocity_copy[indx])\n",
    "#             print(tmp)\n",
    "        tmp = tmp / len(self.euclid_list)\n",
    "        for i in range(self.dim):\n",
    "            area_tmp = self.area[i][1] - self.area[i][0]\n",
    "            while (np.abs(tmp[i]) >= area_tmp):\n",
    "#                 print(\"tmp[i]:\", tmp[i])\n",
    "                tmp[i] = tmp[i] / 10\n",
    "            if(tmp[i] >= (area_tmp/2)):\n",
    "                #print(tmp[i])\n",
    "                tmp[i] = tmp[i] / 2\n",
    "#         print(\"algn:\", tmp)\n",
    "        return tmp#.tolist()\n",
    "    \n",
    "    def cohesion(self, it, population_copy):\n",
    "#         print(\"--------------------\")\n",
    "        tmp = np.zeros(self.dim)\n",
    "        for indx, dist in self.euclid_list:\n",
    "            tmp += np.array(population_copy[indx].x)\n",
    "        tmp = tmp / len(self.euclid_list) - np.array(population_copy[it].x)\n",
    "        for i in range(self.dim):\n",
    "            area_tmp = self.area[i][1] - self.area[i][0]\n",
    "            while (np.abs(tmp[i]) >= area_tmp):\n",
    "#                 print(\"tmp[i]:\", tmp[i])\n",
    "                tmp[i] = tmp[i] / 10\n",
    "            if(tmp[i] >= (area_tmp/2)):\n",
    "                #print(tmp[i])\n",
    "                tmp[i] = tmp[i] / 2\n",
    "#         print(\"coh:\", tmp)\n",
    "        return tmp#.tolist()\n",
    "    \n",
    "    def tendensy(self, it, population_copy):\n",
    "        tmp = np.zeros(self.dim)\n",
    "#         print(\"--------------------\")\n",
    "        best_p = max(self.population, key=lambda member: member.f)\n",
    "        tmp = np.array(best_p.x) - np.array(population_copy[it].x)\n",
    "        for i in range(self.dim):\n",
    "            area_tmp = self.area[i][1] - self.area[i][0]\n",
    "            while (np.abs(tmp[i]) >= area_tmp):\n",
    "#                 print(\"tmp[i]:\", tmp[i])\n",
    "                tmp[i] = tmp[i] / 10\n",
    "            if(tmp[i] >= (area_tmp/2)):\n",
    "                tmp[i] = tmp[i] / 2\n",
    "#         print(\"tend:\", tmp)\n",
    "        return tmp#.tolist()\n",
    "    \n",
    "    def evation(self, it, population_copy):\n",
    "        tmp = np.zeros(self.dim)\n",
    "#         print(\"--------------------\")\n",
    "        worst_p = min(population_copy, key=lambda member: member.f)\n",
    "        tmp = np.array(worst_p.x) + np.array(population_copy[it].x)\n",
    "        for i in range(self.dim):\n",
    "            area_tmp = self.area[i][1] - self.area[i][0]\n",
    "            while (np.abs(tmp[i]) >= area_tmp):\n",
    "#                 print(\"tmp[i]:\", tmp[i])\n",
    "                tmp[i] = tmp[i] / 10\n",
    "            if(tmp[i] >= (area_tmp/2)):\n",
    "                tmp[i] = tmp[i] / 2\n",
    "#         print(\"evat:\", tmp)\n",
    "        return tmp#.tolist()\n",
    "    \n",
    "    def velocity(self, it):\n",
    "        \n",
    "        self.velocity_list[it] = (self.sep * np.array(self.sep_list) + self.alignmt * np.array(self.alig_list) + self.cohesn * np.array(self.coh_list) +\\\n",
    "        self.tendnsy * np.array(self.food_attract) + self.evatn * np.array(self.enemy_avoid) + self.weight * np.array(self.velocity_list[it]))#.tolist()\n",
    "    \n",
    "    def find_new_position(self, it):\n",
    "        tmp = np.zeros(self.dim)\n",
    "        tmp = np.array(self.population[it].x) + np.array(self.velocity_list[it])\n",
    "        return tmp\n",
    "        #self.population[it].f = self.Schwefel(self.population[it].x)\n",
    "    \n",
    "    def find_new_position_mod(self, it, modif):\n",
    "        tmp = np.zeros(self.dim)\n",
    "        if modif == 0:\n",
    "            tmp = np.array(self.population[it].x) + np.array(self.velocity_list[it]) / it\n",
    "        elif modif == 1:\n",
    "            tmp = np.array(self.population[it].x) + np.array(self.velocity_list[it]) / m.log(it+2)\n",
    "        elif modif == 2:\n",
    "            tmp = np.array(self.population[it].x) + np.array(self.velocity_list[it]) * m.log(0.8) / m.log(it+2)\n",
    "        elif modif == 3:\n",
    "            tmp = np.array(self.population[it].x) + np.array(self.velocity_list[it]) * m.exp((self.const_for_modif - 1) * it)\n",
    "        elif modif == 4:\n",
    "            tmp = np.array(self.population[it].x) + np.array(self.velocity_list[it])\n",
    "        return tmp\n",
    "            \n",
    "    def check_area(self, i):\n",
    "        if (self.population[i].x[0] < self.area[0][0]):\n",
    "            self.population[i].x[0] = self.area[0][0]\n",
    "        elif (self.population[i].x[0] > self.area[0][1]):\n",
    "            self.population[i].x[0] = self.area[0][1]\n",
    "        \n",
    "        if (self.population[i].x[1] < self.area[1][0]):\n",
    "            self.population[i].x[1] = self.area[1][0]\n",
    "        elif (self.population[i].x[1] > self.area[1][1]):\n",
    "            self.population[i].x[1] = self.area[1][1]\n",
    "    \n",
    "    def find_best(self):\n",
    "        return max(self.population, key=lambda dragonfly: dragonfly.f)\n",
    "    \n",
    "    def find_worst(self):\n",
    "        return min(self.population, key=lambda dragonfly: dragonfly.f)\n",
    "    \n",
    "    def Work(self):\n",
    "        start = time.monotonic()\n",
    "        time.sleep(0.1)\n",
    "        self.init_area()\n",
    "        self.form_first_pop()\n",
    "        self.generate_step_coord()\n",
    "        \n",
    "        best = self.find_best()\n",
    "        tmp = np.zeros(self.dim)\n",
    "        for i in range(self.dim):\n",
    "             tmp[i] = best.x[i]\n",
    "        member_temp = Dragonfly(tmp, best.f)\n",
    "        self.best_list.append(member_temp)\n",
    "    \n",
    "        worst = self.find_worst()\n",
    "        tmp = np.zeros(self.dim)\n",
    "        for i in range(self.dim):\n",
    "             tmp[i] = best.x[i]\n",
    "        member_temp = Dragonfly(tmp, worst.f)\n",
    "        self.worst_list.append(member_temp)\n",
    "        \n",
    "        for i in range(self.max_iter):\n",
    "            \n",
    "            self.move_swarm()\n",
    "            \n",
    "            best_temp = self.find_best()\n",
    "#             print(\"best temp in Work: \",i,\"---\", best_temp.x, best_temp.f)\n",
    "            \n",
    "            tmp = np.zeros(self.dim)\n",
    "            \n",
    "            for j in range(self.dim):\n",
    "                tmp[j] = best_temp.x[j]\n",
    "            #tmp = best_temp.x.copy()\n",
    "            member_temp = Dragonfly(tmp, best_temp.f)\n",
    "            \n",
    "            self.best_list.append(member_temp)\n",
    "            \n",
    "            worst_temp = self.find_worst()\n",
    "            tmp = np.zeros(self.dim)\n",
    "            \n",
    "            for j in range(self.dim):\n",
    "                tmp[j] = worst_temp.x[j]\n",
    "                \n",
    "            member_temp = Dragonfly(tmp, worst_temp.f)\n",
    "            self.worst_list.append(member_temp)\n",
    "            \n",
    "#             for ii in range(len(self.best_list)):\n",
    "#                 print(\"best:\", self.best_list[ii].x[0],self.best_list[ii].x[1], self.best_list[ii].f )\n",
    "        self.best_list.sort(reverse=True, key=lambda dragonfly: dragonfly.f)\n",
    "        end = time.monotonic()\n",
    "        self. draw_plots()\n",
    "        print('work time : {:>9.2f}'.format(end-start))\n",
    "        #self.worst_list.sort(key=lambda dragonfly: dragonfly.f)\n",
    "        #print(self.best_list[0], self.worst_list[0])\n",
    "                     \n",
    "    def draw_plots(self):\n",
    "        plt.figure(figsize=(12, 10))\n",
    "        \n",
    "        x1 = [self.best_list[i].x[0] for i in range(1, len(self.best_list))]\n",
    "        x2 = [self.best_list[i].x[1] for i in range(1, len(self.best_list))]\n",
    "        plt.plot(x1, x2, 'b.')\n",
    "        x_1 = self.best_list[0].x[0]\n",
    "        x_2 = self.best_list[0].x[1]\n",
    "        plt.plot(x_1, x_2, color = 'red', marker = '*')\n",
    "        plt.ylabel('x2')\n",
    "        plt.xlabel('x1')\n",
    "\n",
    "\n",
    "        plt.show()\n",
    "    def Func(self, coordinate: List[float]):\n",
    "            if self.func_num == 0:\n",
    "                self.area = [[-5, 5], [-5, 5]]\n",
    "                return -(np.array(coordinate)**2).sum()\n",
    "            elif self.func_num == 1:\n",
    "                self.area = [[-500, 500], [-500, 500]]\n",
    "                return coordinate[0] * m.sin(m.sqrt(abs(coordinate[0]))) + coordinate[1] * m.sin(m.sqrt(abs(coordinate[1])))\n",
    "            elif self.func_num == 2:\n",
    "                return coordinate[0] * m.sin(4 * m.pi * coordinate[0]) - coordinate[1] * m.sin(4 * m.pi * coordinate[1] + m.pi) +1\n",
    "            elif self.func_num == 3:\n",
    "                \n",
    "                return #(1 / (1 + ()**0.5))\n",
    "            elif self.func_num == 4:\n",
    "                return 0.5 - ((m.sin((coordinate[0]**2 + coordinate[1]**2)**0.5))**2 - 0.5) / (1 + 0.001 * (coordinate[0]**2 + coordinate[1]**2))\n",
    "            elif self.func_num == 5:\n",
    "                return (- coordinate[0]**2 + 10 * m.cos(2 * m.pi * coordinate[0])) + (-coordinate[1]**2 + 10 * m.cos(2 * m.pi * coordinate[1]))\n",
    "            elif self.func_num == 6:\n",
    "                return - m.exp + 20 * m.exp(-0.2 * ((coordinate[0]**2 + coordinate[1]**2) / 2)**0.5) + m.exp(m.cos(2 * m.pi * coordinate[0]) + m.cos(2 * m.pi * coordinate[1])) / 2\n",
    "            elif self.func_num == 7:\n",
    "                return (m.cos(2 * coordinate[0]) - 1.1)**2 + (m.sin(0.5 * coordinate[0]) - 1.2)**2 - (m.cos(2 * coordinate[1]) - 1.1)**2 + (m.sin(0.5 * coordinate[1]) - 1.2)**2\n",
    "            elif self.func_num == 8:\n",
    "                return -(abs(m.sin(m.sin((abs(m.sin(coordinate[0] - 1)))**0.5 + (abs(m.sin(coordinate[1] + 2)))**0.5))))**0.5 + 1\n",
    "            elif self.func_num == 9:\n",
    "                return -(1 - coordinate[0])**2 - 100 * (coordinate[1] - coordinate[0]**2)**2\n",
    "\n",
    "        #return -(np.array(coordinate)**2).sum()\n",
    "\n",
    "        #return coordinate[0] * m.sin(m.sqrt(abs(coordinate[0]))) + coordinate[1] * m.sin(m.sqrt(abs(coordinate[1])))\n",
    "        #return coordinate[0] * m.sin(4 * m.pi * coordinate[0]) - coordinate[1] * m.sin(4 * m.pi * coordinate[1] + m.pi) +1\n",
    "\n",
    "    \n",
    "    @staticmethod\n",
    "    def Schwefel(coordinate: List[float]):\n",
    "        return coordinate[0] * m.sin(m.sqrt(abs(coordinate[0]))) + coordinate[1] * m.sin(m.sqrt(abs(coordinate[1])))\n",
    " \n",
    "    @staticmethod\n",
    "    def Multifunc(coordinate: List[float]):\n",
    "        return coordinate[0] * m.sin(4 * m.pi * coordinate[0]) - coordinate[1] * m.sin(4 * m.pi * coordinate[1] + m.pi) +1"
   ]
  },
  {
   "cell_type": "code",
   "execution_count": 7,
   "metadata": {},
   "outputs": [
    {
     "name": "stdout",
     "output_type": "stream",
     "text": [
      "Функция:  Розенброка\n"
     ]
    },
    {
     "data": {
      "image/png": "[encoded data removed]",
      "text/plain": [
       "<Figure size 864x720 with 1 Axes>"
      ]
     },
     "metadata": {},
     "output_type": "display_data"
    },
    {
     "name": "stdout",
     "output_type": "stream",
     "text": [
      "work time :     18.63\n",
      "[0.97998239 0.94149191] -0.03602188165964447 0\n",
      "Отклонение от точного решения: 0.03602188165964447\n"
     ]
    }
   ],
   "source": [
    "algorithm = DragonflySwarm(150, 2, 70, 0.1, 0.1, 0.7, 1, 1, 0.9, 1, 1, 10, 9, 4, 0.5)\n",
    "#print('Функция: ', algorithm.function_name)\n",
    "algorithm.Work()\n",
    "print(algorithm.best_list[0].x, algorithm.best_list[0].f, algorithm.exact)\n",
    "print('Отклонение от точного решения:', algorithm.exact - algorithm.best_list[0].f)"
   ]
  },
  {
   "cell_type": "code",
   "execution_count": 5,
   "metadata": {
    "scrolled": true
   },
   "outputs": [
    {
     "name": "stdout",
     "output_type": "stream",
     "text": [
      "Функция:  Квадратичная\n",
      "work time :     42.55\n",
      "[-0.06998516 -0.03681296] -0.006253116087057308 0\n",
      "Отклонение от точного решения: 0.006253116087057308\n"
     ]
    }
   ],
   "source": [
    "algorithm = DragonflySwarm(150, 2, 170, 0.1, 0.1, 0.7, 1, 1, 0.9, 1, 1, 10, 0, 4, 0.5)\n",
    "#print('Функция: ', algorithm.function_name)\n",
    "algorithm.Work()\n",
    "print(algorithm.best_list[0].x, algorithm.best_list[0].f, algorithm.exact)\n",
    "print('Отклонение от точного решения:', algorithm.exact - algorithm.best_list[0].f)"
   ]
  },
  {
   "cell_type": "code",
   "execution_count": 19,
   "metadata": {},
   "outputs": [],
   "source": [
    "#    algorithm = DragonflySwarm(150, 2, 170, 0.1, 0.1, 0.7, 1, 1, 0.9, 1, 1, 10, 1, 0, 0.5)\n",
    "# #print('Функция: ', algorithm.function_name)\n",
    "# algorithm.Work()\n",
    "# print(algorithm.best_list[0].x, algorithm.best_list[0].f, algorithm.exact)\n",
    "# print('Отклонение от точного решения:', algorithm.exact - algorithm.best_list[0].f) "
   ]
  },
  {
   "cell_type": "code",
   "execution_count": 8,
   "metadata": {},
   "outputs": [
    {
     "name": "stdout",
     "output_type": "stream",
     "text": [
      "Функция:  Мульти\n",
      "work time :     94.35\n",
      "[-1.63978494  1.65077816] 4.176484427163521 4.253888\n",
      "Отклонение от точного решения: 0.07740357283647903\n"
     ]
    }
   ],
   "source": [
    "algorithm = DragonflySwarm(250, 2, 170, 0.6, 0.5, 0.7, 1, 1, 0.9, 1, 1, 10, 2, 3, 0.5)\n",
    "#print('Функция: ', algorithm.function_name)\n",
    "algorithm.Work()\n",
    "print(algorithm.best_list[0].x, algorithm.best_list[0].f, algorithm.exact)\n",
    "print('Отклонение от точного решения:', algorithm.exact - algorithm.best_list[0].f)"
   ]
  },
  {
   "cell_type": "code",
   "execution_count": 23,
   "metadata": {},
   "outputs": [
    {
     "name": "stdout",
     "output_type": "stream",
     "text": [
      "Функция:  Квадратичная\n",
      "work time :     35.94\n",
      "[0.08688172 0.07130817] -0.01263328948279525 0\n",
      "Отклонение от точного решения: 0.01263328948279525\n"
     ]
    }
   ],
   "source": [
    "algorithm = DragonflySwarm(150, 2, 170, 0.1, 0.1, 0.7, 1, 1, 0.9, 1, 1, 10, 0, 3, 0.5)\n",
    "#print('Функция: ', algorithm.function_name)\n",
    "algorithm.Work()\n",
    "print(algorithm.best_list[0].x, algorithm.best_list[0].f, algorithm.exact)\n",
    "print('Отклонение от точного решения:', algorithm.exact - algorithm.best_list[0].f)"
   ]
  },
  {
   "cell_type": "code",
   "execution_count": null,
   "metadata": {},
   "outputs": [],
   "source": []
  },
  {
   "cell_type": "code",
   "execution_count": null,
   "metadata": {},
   "outputs": [],
   "source": []
  },
  {
   "cell_type": "code",
   "execution_count": 7,
   "metadata": {},
   "outputs": [
    {
     "name": "stdout",
     "output_type": "stream",
     "text": [
      "Функция:  Мульти\n"
     ]
    },
    {
     "data": {
      "image/png": "[encoded data removed]",
      "text/plain": [
       "<Figure size 864x720 with 1 Axes>"
      ]
     },
     "metadata": {},
     "output_type": "display_data"
    },
    {
     "name": "stdout",
     "output_type": "stream",
     "text": [
      "work time :      1.90\n",
      "[-1.66195323  1.6515317 ] 4.046546796546965 4.253888\n",
      "Отклонение от точного решения: 0.2073412034530353\n"
     ]
    }
   ],
   "source": [
    "algorithm = DragonflySwarm(20, 2, 170, 0.6, 0.5, 0.7, 1, 1, 0.9, 1, 1, 10, 2, 3, 0.5)\n",
    "#print('Функция: ', algorithm.function_name)\n",
    "algorithm.Work()\n",
    "print(algorithm.best_list[0].x, algorithm.best_list[0].f, algorithm.exact)\n",
    "print('Отклонение от точного решения:', algorithm.exact - algorithm.best_list[0].f)"
   ]
  },
  {
   "cell_type": "code",
   "execution_count": 11,
   "metadata": {},
   "outputs": [
    {
     "name": "stdout",
     "output_type": "stream",
     "text": [
      "Функция:  Растригина\n"
     ]
    },
    {
     "data": {
      "image/png": "[encoded data removed]",
      "text/plain": [
       "<Figure size 864x720 with 1 Axes>"
      ]
     },
     "metadata": {},
     "output_type": "display_data"
    },
    {
     "name": "stdout",
     "output_type": "stream",
     "text": [
      "work time :     57.54\n",
      "[0.04264322 0.04049705] 19.317754946247632 20\n",
      "Отклонение от точного решения: 0.6822450537523679\n"
     ]
    }
   ],
   "source": [
    "algorithm = DragonflySwarm(120, 2, 270, 0.6, 0.5, 0.7, 1, 1, 0.9, 1, 1, 10, 5, 2, 0.5)\n",
    "#print('Функция: ', algorithm.function_name)\n",
    "algorithm.Work()\n",
    "print(algorithm.best_list[0].x, algorithm.best_list[0].f, algorithm.exact)\n",
    "print('Отклонение от точного решения:', algorithm.exact - algorithm.best_list[0].f)"
   ]
  },
  {
   "cell_type": "code",
   "execution_count": null,
   "metadata": {},
   "outputs": [],
   "source": []
  },
  {
   "cell_type": "code",
   "execution_count": null,
   "metadata": {},
   "outputs": [],
   "source": []
  },
  {
   "cell_type": "code",
   "execution_count": null,
   "metadata": {},
   "outputs": [],
   "source": []
  },
  {
   "cell_type": "code",
   "execution_count": null,
   "metadata": {},
   "outputs": [],
   "source": []
  },
  {
   "cell_type": "code",
   "execution_count": null,
   "metadata": {},
   "outputs": [],
   "source": []
  },
  {
   "cell_type": "code",
   "execution_count": null,
   "metadata": {},
   "outputs": [],
   "source": []
  },
  {
   "cell_type": "code",
   "execution_count": null,
   "metadata": {},
   "outputs": [],
   "source": []
  },
  {
   "cell_type": "code",
   "execution_count": 14,
   "metadata": {},
   "outputs": [
    {
     "name": "stdout",
     "output_type": "stream",
     "text": [
      "Функция:  Мульти\n"
     ]
    },
    {
     "data": {
      "image/png": "[encoded data removed]",
      "text/plain": [
       "<Figure size 864x720 with 1 Axes>"
      ]
     },
     "metadata": {},
     "output_type": "display_data"
    },
    {
     "name": "stdout",
     "output_type": "stream",
     "text": [
      "work time :    233.82\n",
      "[1.62049836 1.6379124 ] 4.234303580904484 4.253888\n",
      "Отклонение от точного решения: 0.01958441909551567\n"
     ]
    }
   ],
   "source": [
    "algorithm = DragonflySwarm(350, 2, 200, 0.6, 0.5, 0.7, 1, 1, 0.9, 1, 1, 10, 2, 3, 0.5)\n",
    "#print('Функция: ', algorithm.function_name)\n",
    "algorithm.Work()\n",
    "print(algorithm.best_list[0].x, algorithm.best_list[0].f, algorithm.exact)\n",
    "print('Отклонение от точного решения:', algorithm.exact - algorithm.best_list[0].f)"
   ]
  },
  {
   "cell_type": "code",
   "execution_count": 11,
   "metadata": {},
   "outputs": [
    {
     "name": "stdout",
     "output_type": "stream",
     "text": [
      "Функция:  Мульти\n"
     ]
    },
    {
     "data": {
      "image/png": "[encoded data removed]",
      "text/plain": [
       "<Figure size 864x720 with 1 Axes>"
      ]
     },
     "metadata": {},
     "output_type": "display_data"
    },
    {
     "name": "stdout",
     "output_type": "stream",
     "text": [
      "work time :    703.53\n",
      "[-1.62622212  1.64216868] 4.230127861338703 4.253888\n",
      "Отклонение от точного решения: 0.023760138661296892\n"
     ]
    }
   ],
   "source": [
    "algorithm = DragonflySwarm(550, 2, 200, 0.6, 0.5, 0.7, 1, 1, 0.9, 1, 1, 10, 2, 3, 0.5)\n",
    "#print('Функция: ', algorithm.function_name)\n",
    "algorithm.Work()\n",
    "print(algorithm.best_list[0].x, algorithm.best_list[0].f, algorithm.exact)\n",
    "print('Отклонение от точного решения:', algorithm.exact - algorithm.best_list[0].f)"
   ]
  },
  {
   "cell_type": "code",
   "execution_count": null,
   "metadata": {},
   "outputs": [],
   "source": []
  }
 ],
 "metadata": {
  "kernelspec": {
   "display_name": "Python 3",
   "language": "python",
   "name": "python3"
  },
  "language_info": {
   "codemirror_mode": {
    "name": "ipython",
    "version": 3
   },
   "file_extension": ".py",
   "mimetype": "text/x-python",
   "name": "python",
   "nbconvert_exporter": "python",
   "pygments_lexer": "ipython3",
   "version": "3.6.5"
  }
 },
 "nbformat": 4,
 "nbformat_minor": 2
}
