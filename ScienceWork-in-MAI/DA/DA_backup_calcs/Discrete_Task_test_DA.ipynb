{
 "cells": [
  {
   "cell_type": "markdown",
   "metadata": {},
   "source": [
    "## А вообще косяков здесь много....\n",
    "UPD вроде уже нет"
   ]
  },
  {
   "cell_type": "code",
   "execution_count": 1,
   "metadata": {},
   "outputs": [],
   "source": [
    "import math as m\n",
    "import numpy as np\n",
    "from typing import List, Tuple, Dict\n",
    "import matplotlib.pyplot as plt\n",
    "from copy import deepcopy\n",
    "import time"
   ]
  },
  {
   "cell_type": "code",
   "execution_count": 2,
   "metadata": {},
   "outputs": [],
   "source": [
    "class Dragonfly:\n",
    "    def __init__(\n",
    "        self, \n",
    "        u: np.array(float), \n",
    "        f: float\n",
    "             ):\n",
    "        self.u = u\n",
    "        self.f = f\n",
    "        \n",
    "class DragonflySwarm:\n",
    "    def __init__(\n",
    "        self,\n",
    "        swarm_size: int,\n",
    "        dim: int,\n",
    "        max_iter: int,\n",
    "        sep: float,\n",
    "        alignmnt: float,\n",
    "        cohesn: float,\n",
    "        tendnsy: float,\n",
    "        evatn: float,\n",
    "        weight: float, \n",
    "        alpha: float,\n",
    "        lmbd: float,\n",
    "        radius: float,\n",
    "        step_modification: int,\n",
    "        const_for_modif: float\n",
    "        #area: List[List[float]],\n",
    "                 ):\n",
    "        self.swarm_size = swarm_size\n",
    "        self.dim = dim\n",
    "        self.u_dim = dim - 1\n",
    "        self.max_iter = max_iter\n",
    "        self.current_iter = 0\n",
    "        self.sep = sep\n",
    "        self.alignmt = alignmnt\n",
    "        self.cohesn = cohesn\n",
    "        self.tendnsy = tendnsy\n",
    "        self.evatn = evatn\n",
    "        self.weight = weight\n",
    "        self.alpha = alpha\n",
    "        self.lmbd = lmbd\n",
    "        self.radius = radius\n",
    "        self.population = []\n",
    "        self.sep_list = np.zeros(self.u_dim)\n",
    "        self.alig_list = np.zeros(self.u_dim)\n",
    "        self.coh_list = np.zeros(self.u_dim)\n",
    "        self.food_attract = np.zeros(self.u_dim)\n",
    "        self.enemy_avoid = np.zeros(self.u_dim) #было array\n",
    "        self.velocity_list = []# np.zeros(self.u_dim)\n",
    "        self.euclid_list = []\n",
    "        self.best_list = []\n",
    "        self.worst_list = []\n",
    "        self.exact = 0\n",
    "        self.best_x1 = []\n",
    "        self.best_x2 = []\n",
    "        self.const_for_modif = 0.5#const_for_modif\n",
    "        self.step_modification = step_modification\n",
    "    \n",
    "    \n",
    "    def init_area(self, control):\n",
    "        self.area = [np.array([0, 100]) for i in range(control.N_step - 1)] #deleted np.array(*)\n",
    "        self.exact = control.ExactI()\n",
    "\n",
    "               \n",
    "    # the dims are ok now -  the problem was at the dragonfly constructor\n",
    "    def form_first_pop(self, control):\n",
    "        self.population.clear()\n",
    "        for i in range(self.swarm_size):\n",
    "            coordinate = np.array([np.random.rand() * (self.area[j][1] - self.area[j][0]) + self.area[j][0] \n",
    "                          for j in range(self.u_dim)])\n",
    "            #print(coordinate)\n",
    "            result = control.Functional(coordinate)\n",
    "            #print(result)\n",
    "            member = Dragonfly(coordinate, result)\n",
    "            self.population.append(member)\n",
    "            \n",
    "    def form_first_test(self, control):\n",
    "        self.population.clear()\n",
    "        coordinate = [1, 1,  1,  2]\n",
    "        result = control.Functional(coordinate)\n",
    "        member = Dragonfly(coordinate, result)\n",
    "        self.population.append(member)\n",
    "        coordinate = [2, 1 , 1, 2]\n",
    "        result = control.Functional(coordinate)\n",
    "        member = Dragonfly(coordinate, result)\n",
    "        self.population.append(member)\n",
    "        coordinate = [2, 3, 4, 1]\n",
    "        result = control.Functional(coordinate)\n",
    "        member = Dragonfly(coordinate, result)\n",
    "        self.population.append(member)\n",
    "        coordinate = [1, 2, 3, 1]\n",
    "        result = control.Functional(coordinate)\n",
    "        member = Dragonfly(coordinate, result)\n",
    "        self.population.append(member)\n",
    "        coordinate = [1, 3, 5, 1]\n",
    "        result = control.Functional(coordinate)\n",
    "        member = Dragonfly(coordinate, result)\n",
    "        self.population.append(member)\n",
    "        \n",
    "    def test_form(self, control):\n",
    "        #tst - это u\n",
    "        tst = [10, 3]\n",
    "        result = control.Functional(tst)\n",
    "        member = Dragonfly(tst, result)\n",
    "        self.population.append(member)   \n",
    "        tst = [2, 5]\n",
    "        result = control.Functional(tst)\n",
    "        member = Dragonfly(tst, result)\n",
    "        self.population.append(member)   \n",
    "        tst = [4, 7]\n",
    "        result = control.Functional(tst)\n",
    "        member = Dragonfly(tst, result)\n",
    "        self.population.append(member) \n",
    "\n",
    "        \n",
    "\n",
    "    \n",
    "    def generate_step_test(self):\n",
    "        self.velocity_list.clear()\n",
    "        for i in range(self.swarm_size):\n",
    "            velocty = [0.01 for j in range(self.u_dim)]\n",
    "            tmp = np.zeros(self.u_dim)\n",
    "            for ind in range(self.u_dim):\n",
    "                tmp[ind] = velocty[ind]\n",
    "            self.velocity_list.append(tmp)\n",
    "\n",
    "    def generate_step_coord(self):\n",
    "        self.velocity_list.clear()\n",
    "        for i in range(self.swarm_size):\n",
    "            velocty = [(self.area[j][1] - self.area[j][0]) * np.random.uniform(-1, 1) / 100\n",
    "                for j in range(self.u_dim)]\n",
    "            tmp = np.zeros(self.u_dim)\n",
    "            for ind in range(self.u_dim):\n",
    "                tmp[ind] = velocty[ind]\n",
    "            self.velocity_list.append(tmp)\n",
    "            \n",
    "    def move_swarm(self, control):\n",
    "        self.current_iter += 1\n",
    "        right_area = False # same as \"flag\" in a previous C# code \n",
    "        \n",
    "        radius_area = self.radius * self.current_iter / self.max_iter\n",
    "        trunk_ = self.max_iter - self.max_iter // 2\n",
    "        \n",
    "        population_copy = deepcopy(self.population)\n",
    "        velocity_copy = deepcopy(self.velocity_list)\n",
    "        \n",
    "        for i in range(self.swarm_size):\n",
    "            for j in range(self.swarm_size):\n",
    "                if i != j:\n",
    "                    dist = np.linalg.norm(np.array(population_copy[i].u) - np.array(population_copy[j].u))\n",
    "                    if dist <= radius_area:\n",
    "                        self.euclid_list.append([j, dist])\n",
    "            if len(self.euclid_list) > 1:\n",
    "                #print('Formula')\n",
    "                self.sep_list = self.separation2(i, population_copy)\n",
    "                self.alig_list = self.alignment2(i, velocity_copy)\n",
    "                self.coh_list = self.cohesion2(i, population_copy)\n",
    "                self.food_attract = self.tendensy2(i, population_copy)\n",
    "                self.enemy_avoid = self.evation2(i, population_copy)\n",
    "                #выходит за пределы массива в скорости 25 из 24\n",
    "                tmp_velo = np.zeros(self.u_dim)\n",
    "                tmp_velo = self.velocity(i)\n",
    "                self.velocity_list[i] = tmp_velo #self.velocity_list.append(self.velocity(i))\n",
    "                \n",
    "                if (self.current_iter < trunk_):\n",
    "                    tmp_list = self.find_new_position(i)\n",
    "                    #print(tmp_list)\n",
    "                else:\n",
    "                    tmp_list = self.find_new_position_mod(i, self.step_modification)\n",
    "                \n",
    "                \n",
    "                for ii in range(self.u_dim):\n",
    "                    #не так все равно tmp_list вектор или вектор векторов?\n",
    "                    self.population[i].u[ii] = tmp_list[ii]\n",
    "                self.check_area(i)\n",
    "            else:\n",
    "                half_set = int((self.u_dim) / 2)\n",
    "                r_parameter = []\n",
    "                theta = []\n",
    "                l_parameter = []\n",
    "                xi_parameter = []\n",
    "                \n",
    "                \n",
    "                for ii in range(self.u_dim):\n",
    "                    iterator_0 = 0\n",
    "                    while not right_area:\n",
    "                        r_parameter.append(np.random.rand() * (self.area[ii][1] - self.area[ii][0]) + self.area[ii][0])\n",
    "                        theta.append(r_parameter[len(r_parameter) - 1] * 2 * np.pi)\n",
    "                        l_parameter.append(r_parameter[len(r_parameter) - 1] ** self.lmbd)\n",
    "                        \n",
    "                        if ii < half_set:\n",
    "                            xi_parameter.append(l_parameter[len(l_parameter) - 1] * np.sin(theta[len(theta) - 1]))\n",
    "                        else:\n",
    "                            xi_parameter.append(l_parameter[len(l_parameter) - 1] * np.cos(theta[len(theta) - 1]))\n",
    "                                                \n",
    "                        check_obl = np.array(self.population[i].u[ii]) + \\\n",
    "                        (self.alpha / (self.current_iter + 1)) * xi_parameter[len(xi_parameter) - 1]\n",
    "                        if (check_obl < self.area[ii][0]) or (check_obl > self.area[ii][1]):\n",
    "                            right_area = False\n",
    "                            if iterator_0 > 100:\n",
    "                                check_obl = np.abs(check_obl) / 2\n",
    "                                right_area = True\n",
    "                                break      \n",
    "                        else:\n",
    "                            right_area = True\n",
    "                        iterator_0 += 1\n",
    "                    right_area = False\n",
    "                    self.population[i].u[ii] = (self.population[i].u[ii]) + \\\n",
    "                        (self.alpha / (self.current_iter + 1)) * xi_parameter[len(xi_parameter) - 1]\n",
    "                    #print(self.population[i].u)\n",
    "                \n",
    "            self.population[i].f = control.Functional(self.population[i].u)\n",
    "            self.euclid_list.clear()\n",
    "            \n",
    "    def separation(self, it, population_copy):\n",
    "        tmp = np.zeros(self.u_dim)\n",
    "        for indx, dist in self.euclid_list:\n",
    "            tmp += (np.array(population_copy[it].u) - np.array(population_copy[indx].u))\n",
    "        \n",
    "        print('after summerize: ', tmp, '\\n')\n",
    "        \n",
    "        for i in range(self.u_dim):\n",
    "            area_tmp = self.area[i][1] - self.area[i][0]\n",
    "            while (np.abs(tmp[i]) >= area_tmp):\n",
    "                tmp[i] /= 10\n",
    "            if(np.abs(tmp[i]) >= (area_tmp / 3)):\n",
    "                tmp[i] = tmp[i] / 3\n",
    "            tmp[i] = -tmp[i]\n",
    "        print('after all: ', tmp)\n",
    "        return tmp\n",
    "    \n",
    "    def separation2(self, it, population_copy):\n",
    "        tmp = np.zeros(self.u_dim)\n",
    "        flag = 0\n",
    "        for indx, dist in self.euclid_list:\n",
    "            tmp += (np.array(population_copy[it].u) - np.array(population_copy[indx].u))\n",
    "        #print('after summerize', tmp, '\\n')\n",
    "        \n",
    "        for i in range(self.u_dim):\n",
    "            area_tmp = self.area[i][1] - self.area[i][0]\n",
    "            if(np.abs(tmp[i]) >= (area_tmp / 4)):\n",
    "                flag += 1\n",
    "        if flag != 0:\n",
    "            tmp = tmp / 400\n",
    "        tmp = -tmp\n",
    "        return tmp\n",
    "    \n",
    "    \n",
    "    def alignment(self, it, velocity_copy):\n",
    "        tmp = np.zeros(self.u_dim)\n",
    "        for indx, dist in self.euclid_list:\n",
    "            tmp_velo = np.array(velocity_copy[indx])\n",
    "            tmp += tmp_velo\n",
    "        tmp = tmp / len(self.euclid_list)\n",
    "        print('after summerize', tmp, '\\n')\n",
    "        for i in range(self.u_dim):\n",
    "            area_tmp = self.area[i][1] - self.area[i][0]\n",
    "            while (np.abs(tmp[i]) >= area_tmp):\n",
    "                tmp[i] = tmp[i] / 10\n",
    "            if(np.abs(tmp[i]) >= (area_tmp / 3)):\n",
    "                tmp[i] = tmp[i] / 3\n",
    "        print('after all: ', tmp)\n",
    "        return tmp\n",
    "    \n",
    "    def alignment2(self, it, velocity_copy):\n",
    "        tmp = np.zeros(self.u_dim)\n",
    "        flag = 0\n",
    "        for indx, dist in self.euclid_list:\n",
    "            tmp_velo = np.array(velocity_copy[indx])\n",
    "            tmp += tmp_velo\n",
    "            \n",
    "        tmp = tmp / len(self.euclid_list)\n",
    "        #print('after summerize', tmp, '\\n')\n",
    "        for i in range(self.u_dim):\n",
    "            area_tmp = self.area[i][1] - self.area[i][0]\n",
    "            if(np.abs(tmp[i]) >= (area_tmp / 4)):\n",
    "                flag += 1\n",
    "        if flag != 0:\n",
    "            tmp = tmp / 400\n",
    "        #print('after all: ', tmp)\n",
    "        return tmp\n",
    "    \n",
    "    def cohesion(self, it, population_copy):\n",
    "        tmp = np.zeros(self.u_dim)\n",
    "        for indx, dist in self.euclid_list:\n",
    "            tmp += np.array(population_copy[indx].u)\n",
    "        tmp = tmp / len(self.euclid_list) - np.array(population_copy[it].u)\n",
    "        print('after summerize', tmp, '\\n')\n",
    "        \n",
    "        for i in range(self.u_dim):\n",
    "            area_tmp = self.area[i][1] - self.area[i][0]\n",
    "            while (np.abs(tmp[i]) >= area_tmp):\n",
    "                tmp[i] = tmp[i] / 10\n",
    "            if(np.abs(tmp[i]) >= (area_tmp / 3)):\n",
    "                tmp[i] = tmp[i] / 3\n",
    "        print('after all: ', tmp)\n",
    "        return tmp\n",
    "    \n",
    "    \n",
    "    def cohesion2(self, it, population_copy):\n",
    "        tmp = np.zeros(self.u_dim)\n",
    "        flag = 0\n",
    "        for indx, dist in self.euclid_list:\n",
    "            tmp += np.array(population_copy[indx].u)\n",
    "        tmp = tmp / len(self.euclid_list) - np.array(population_copy[it].u)\n",
    "        #print('after summerize', tmp, '\\n')\n",
    "        \n",
    "        for i in range(self.u_dim):\n",
    "            area_tmp = self.area[i][1] - self.area[i][0]\n",
    "            if(np.abs(tmp[i]) >= (area_tmp / 4)):\n",
    "                flag += 1\n",
    "        if flag != 0:\n",
    "            tmp = tmp / 400\n",
    "        #print('after all: ', tmp)\n",
    "        return tmp\n",
    "    \n",
    "    def tendensy(self, it, population_copy):\n",
    "        tmp = np.zeros(self.u_dim)\n",
    "        best_p = max(population_copy, key=lambda member: member.f)\n",
    "        print(best_p)\n",
    "        tmp = np.array(best_p.u) - np.array(population_copy[it].u)\n",
    "        print('after summerize', tmp, '\\n')\n",
    "        \n",
    "        for i in range(self.u_dim):\n",
    "            area_tmp = self.area[i][1] - self.area[i][0]\n",
    "            while (np.abs(tmp[i]) >= area_tmp):\n",
    "                tmp[i] = tmp[i] / 10\n",
    "            if(np.abs(tmp[i] )>= (area_tmp / 3)):\n",
    "                tmp[i] = tmp[i] / 3\n",
    "        print('after all: ', tmp)\n",
    "        return tmp\n",
    "    \n",
    "    \n",
    "    def tendensy2(self, it, population_copy):\n",
    "        tmp = np.zeros(self.u_dim)\n",
    "        flag = 0\n",
    "        best_p = max(population_copy, key=lambda member: member.f)\n",
    "        tmp = np.array(best_p.u) - np.array(population_copy[it].u)\n",
    "        #print('after summerize', tmp, '\\n')\n",
    "        \n",
    "        for i in range(self.u_dim):\n",
    "            area_tmp = self.area[i][1] - self.area[i][0]\n",
    "            if(np.abs(tmp[i] ) >= (area_tmp / 4)):\n",
    "                flag += 1\n",
    "        if flag != 0:\n",
    "            tmp = tmp / 400\n",
    "        #print('after all: ', tmp)\n",
    "        return tmp\n",
    "    \n",
    "    \n",
    "    def evation(self, it, population_copy):\n",
    "        tmp = np.zeros(self.u_dim)\n",
    "        worst_p = min(population_copy, key=lambda member: member.f)\n",
    "        tmp = np.array(worst_p.u) + np.array(population_copy[it].u)\n",
    "        print('after summerize', tmp, '\\n')\n",
    "        \n",
    "        \n",
    "        for i in range(self.u_dim):\n",
    "            area_tmp = self.area[i][1] - self.area[i][0]\n",
    "            while (np.abs(tmp[i]) >= area_tmp):\n",
    "                tmp[i] = tmp[i] / 10\n",
    "            if(np.abs(tmp[i]) >= (area_tmp / 3)):\n",
    "                tmp[i] = tmp[i] / 3\n",
    "        print('after all: ', tmp)\n",
    "        return tmp\n",
    "    \n",
    "    \n",
    "    def evation2(self, it, population_copy):\n",
    "        tmp = np.zeros(self.u_dim)\n",
    "        flag = 0\n",
    "        worst_p = min(population_copy, key=lambda member: member.f)\n",
    "        #print(worst_p)\n",
    "        tmp = np.array(worst_p.u) + np.array(population_copy[it].u)\n",
    "        #print('after summerize', tmp, '\\n')\n",
    "        \n",
    "        \n",
    "        for i in range(self.u_dim):\n",
    "            area_tmp = self.area[i][1] - self.area[i][0]\n",
    "            if(np.abs(tmp[i]) >= (area_tmp / 4)):\n",
    "                flag += 1\n",
    "        if flag != 0:\n",
    "            tmp = tmp / 400\n",
    "        #print('after all: ', tmp)\n",
    "        return tmp\n",
    "    \n",
    "    \n",
    "    def velocity(self, it):\n",
    "#         print('S')\n",
    "#         print(self.sep, np.array(self.sep_list))\n",
    "        S = self.sep * np.array(self.sep_list)\n",
    "#         print(S, '\\n')\n",
    "        \n",
    "#         print('A')\n",
    "#         print(self.alignmt, np.array(self.alig_list))\n",
    "        A = self.alignmt * np.array(self.alig_list)\n",
    "#         print(A, '\\n')\n",
    "        \n",
    "#         print('C')\n",
    "#         print(self.cohesn, np.array(self.coh_list))\n",
    "        C = self.cohesn * np.array(self.coh_list)\n",
    "#         print(C, '\\n')\n",
    "        \n",
    "#         print('F')\n",
    "#         print(self.tendnsy, np.array(self.food_attract))\n",
    "        F = self.tendnsy * np.array(self.food_attract)\n",
    "#         print(F, '\\n')\n",
    "        \n",
    "#         print('E')\n",
    "#         print(self.evatn, np.array(self.enemy_avoid))\n",
    "        E = self.evatn * np.array(self.enemy_avoid)\n",
    "#         print(E, '\\n')\n",
    "        \n",
    "#         print('W')\n",
    "#         print(self.weight, np.array(self.velocity_list[it]))\n",
    "        W = self.weight * np.array(self.velocity_list[it])\n",
    "#         print(W, '\\n')\n",
    "        tmp_velocity = S + A + C + F + E + W\n",
    "        #self.velocity_list[it] = S + A + C + F + E + W\n",
    "        return tmp_velocity\n",
    "    \n",
    "    def find_new_position(self, it):\n",
    "        tmp = np.array(self.population[it].u) + np.array(self.velocity_list[it])\n",
    "        return tmp\n",
    "    \n",
    "    def find_new_position_mod(self, it, modif):\n",
    "        if modif == 0:\n",
    "            tmp = np.array(self.population[it].u) + np.array(self.velocity_list[it]) / it\n",
    "        elif modif == 1:\n",
    "            tmp = np.array(self.population[it].u) + np.array(self.velocity_list[it]) / m.log(it+2)\n",
    "        elif modif == 2:\n",
    "            tmp = np.array(self.population[it].u) + np.array(self.velocity_list[it]) * m.log(0.8) / m.log(it+2)\n",
    "        elif modif == 3:\n",
    "            tmp = np.array(self.population[it].u) + np.array(self.velocity_list[it]) * m.exp((self.const_for_modif - 1) * it)\n",
    "        elif modif == 4:\n",
    "            tmp = np.array(self.population[it].u) + np.array(self.velocity_list[it])\n",
    "        return tmp\n",
    "            \n",
    "    def check_area(self, it): #fixed\n",
    "        for j in range(self.u_dim):\n",
    "            if (self.population[it].u[j] < self.area[j][0]):\n",
    "                self.population[it].u[j] = self.area[j][0] + abs(self.population[it].u[j])\n",
    "            elif (self.population[it].u[j] > self.area[j][1]):\n",
    "                self.population[it].u[j] = self.area[j][1] - abs(self.population[it].u[j])\n",
    "        \n",
    "#         if (self.population[it].u[1] < self.area[1][0]):\n",
    "#             self.population[it].u[1] = self.area[1][0]\n",
    "#         elif (self.population[it].u[1] > self.area[1][1]):\n",
    "#             self.population[it].u[1] = self.area[1][1]\n",
    "#         for i in range(self.u_dim):\n",
    "#             if (self.population[it].u[i] < self.area[i][0]):\n",
    "#                 self.population[it].u[i] = self.area[i][0]\n",
    "            \n",
    "#             if (self.population[it].u[i] > self.area[i][1]):\n",
    "#                 self.population[it].u[i] = self.area[i][1]\n",
    "    \n",
    "    \n",
    "    def find_best(self):\n",
    "        return max(self.population, key=lambda dragonfly: dragonfly.f)\n",
    "    \n",
    "    def find_worst(self):\n",
    "        return min(self.population, key=lambda dragonfly: dragonfly.f)\n",
    "    \n",
    "    def Work(self, control):\n",
    "        start = time.monotonic()\n",
    "        time.sleep(0.1)\n",
    "        \n",
    "        self.init_area(control)\n",
    "        self.form_first_pop(control)\n",
    "        self.generate_step_coord()\n",
    "\n",
    "        best = self.find_best()\n",
    "        tmp = np.zeros(self.u_dim)\n",
    "        for i in range(self.u_dim):\n",
    "             tmp[i] = best.u[i]     \n",
    "        member_temp = Dragonfly(tmp, best.f)\n",
    "        self.best_list.append(member_temp)\n",
    "        \n",
    "        worst = self.find_worst()\n",
    "        tmp = np.zeros(self.u_dim)\n",
    "        for i in range(self.u_dim):\n",
    "             tmp[i] = best.u[i]\n",
    "        member_temp = Dragonfly(tmp, worst.f)\n",
    "        self.worst_list.append(member_temp)\n",
    "        \n",
    "        \n",
    "        for i in range(self.max_iter):\n",
    "            \n",
    "            self.move_swarm(control)\n",
    "            \n",
    "            tmp = np.zeros(self.u_dim)\n",
    "            best_temp = self.find_best()\n",
    "            for j in range(self.u_dim):\n",
    "                tmp[j] = best_temp.u[j]\n",
    "            member_temp = Dragonfly(tmp, best_temp.f)\n",
    "            self.best_list.append(member_temp)\n",
    "            \n",
    "            tmp = np.zeros(self.u_dim)\n",
    "            worst_temp = self.find_worst()\n",
    "            for j in range(self.u_dim):\n",
    "                tmp[j] = worst_temp.u[j]\n",
    "            member_temp = Dragonfly(tmp, worst_temp.f)\n",
    "            self.worst_list.append(member_temp)\n",
    "            \n",
    "        self.best_list.sort(reverse=True, key=lambda dragonfly: dragonfly.f)\n",
    "        self.worst_list.sort(key=lambda dragonfly: dragonfly.f)\n",
    "        \n",
    "        self.make_best_x(self.best_list[0].u)\n",
    "        self.draw_plots()\n",
    "        print(self.best_list[0].u, self.best_list[0].f,'  Presize = ', self.exact,'  Error = ', (self.exact-self.best_list[0].f))\n",
    "        end = time.monotonic()\n",
    "        print('work time : {:>9.2f}'.format(end-start))\n",
    "    \n",
    "    def make_best_x(self, u):\n",
    "        self.best_x1.clear()\n",
    "        self.best_x2.clear()\n",
    "        self.best_x1.append(0)\n",
    "        self.best_x2.append(0)\n",
    "        for i in range(1, self.dim):\n",
    "            tmp_x1 = self.best_x2[i - 1]\n",
    "            tmp_x2 = 2 * self.best_x2[i - 1] - self.best_x1[i - 1] + 1 / (self.dim**2) * u[i - 1]\n",
    "            self.best_x1.append(tmp_x1)\n",
    "            self.best_x2.append(tmp_x2)\n",
    "        self.best_x1 = np.array(self.best_x1)\n",
    "        self.best_x2 = np.array(self.best_x2)\n",
    "    \n",
    "    def draw_plots(self):\n",
    "        plt.figure(figsize=(18, 6))\n",
    "\n",
    "        #    list_sorted = list(self.best_list[0].u)\n",
    "        #    list_sorted.sort()\n",
    "        #    list_sorted.reverse()\n",
    "        plt.subplot(1,3,1)\n",
    "        #    plt.plot(list_sorted)\n",
    "        #plt.plot(self.best_list[0].u, '.')\n",
    "        plt.plot(self.best_list[0].u)\n",
    "        plt.ylabel('u')\n",
    "        plt.xlabel('t')\n",
    "\n",
    "        plt.subplot(1,3,2)\n",
    "        plt.plot(self.best_x1, '.')\n",
    "        plt.ylabel('$x_{1}$')\n",
    "        plt.xlabel('t')\n",
    "\n",
    "        plt.subplot(1,3,3)\n",
    "        plt.plot(self.best_x2, '.')\n",
    "        plt.ylabel('$x_{2}$')\n",
    "        plt.xlabel('t')\n",
    "\n",
    "        plt.show()\n",
    "            "
   ]
  },
  {
   "cell_type": "code",
   "execution_count": 3,
   "metadata": {},
   "outputs": [],
   "source": [
    "class DiscreteSystem:\n",
    "    def __init__(\n",
    "    self, \n",
    "    N_step: int,\n",
    "    ):\n",
    "        self.N_step = N_step # N is the dimention of the x, dim for u is the N-1\n",
    "        self.u_min = 0\n",
    "        self.u_max = 100\n",
    "\n",
    "    def make_x(self, u):\n",
    "        x1 = []\n",
    "        x2 = []\n",
    "        x1.append(0)\n",
    "        x2.append(0)\n",
    "        u = np.array(u)\n",
    "        for i in range(1, self.N_step):\n",
    "            tmp_x1 = x2[i - 1]\n",
    "            tmp_x2 = 2 * x2[i - 1] - x1[i - 1] + 1 / self.N_step**2 * u[i - 1]\n",
    "            x1.append(tmp_x1)\n",
    "            x2.append(tmp_x2)\n",
    "        x1 = np.array(x1)\n",
    "        x2 = np.array(x2)\n",
    "        return x1, x2\n",
    "\n",
    "    def Functional(self, u):\n",
    "        x1 = []\n",
    "        x2 = []\n",
    "        x1, x2 = self.make_x(u)\n",
    "        x1 = np.array(x1)\n",
    "        x2 = np.array(x2)\n",
    "        #print(x1)\n",
    "        #print(x2)\n",
    "        #print('-----------------------------------')\n",
    "        #print(x1[len(x1) - 1] - 1 / (2 * self.N_step) * sum(np.array(u)**2))\n",
    "        return x1[len(x1) - 1] - 1 / (2 * self.N_step) * sum(np.array(u)**2)\n",
    "        \n",
    "        \n",
    "    def ExactI(self):\n",
    "        return 1/3 - (3 * self.N_step - 1) / (6 * self.N_step**2) - 1 / (2 * self.N_step**3) * sum([t**2 for t in range(self.N_step)])"
   ]
  },
  {
   "cell_type": "code",
   "execution_count": 4,
   "metadata": {},
   "outputs": [],
   "source": [
    "def print_some(list_):\n",
    "    for indx in range(len(list_)):\n",
    "        print('iter: ',indx, '   ', list_[indx].u, list_[indx].f)"
   ]
  },
  {
   "cell_type": "code",
   "execution_count": 575,
   "metadata": {},
   "outputs": [],
   "source": [
    "# a = DiscreteSystem(5)\n",
    "# algorithm = DragonflySwarm(10, a.N_step, 13, 0.01, 0.01, 0.07, 0.01, 0.01, 0.09, 1, 1, 100000, 4, 0.5)\n",
    "# algorithm.Work(a)"
   ]
  },
  {
   "cell_type": "code",
   "execution_count": 271,
   "metadata": {},
   "outputs": [],
   "source": [
    "a = DiscreteSystem(5)\n",
    "algorithm = DragonflySwarm(5, a.N_step, 3, 0.1, 0.1, 0.7, 0.1, 0.1, 0.9, 1, 1, 100000, 4, 0.5)"
   ]
  },
  {
   "cell_type": "markdown",
   "metadata": {},
   "source": [
    "Инициализация ограничений на управление |u|<100 и рассчет точного значения:"
   ]
  },
  {
   "cell_type": "code",
   "execution_count": 272,
   "metadata": {},
   "outputs": [],
   "source": [
    "algorithm.init_area(a)"
   ]
  },
  {
   "cell_type": "code",
   "execution_count": 273,
   "metadata": {},
   "outputs": [
    {
     "data": {
      "text/plain": [
       "[array([  0, 100]), array([  0, 100]), array([  0, 100]), array([  0, 100])]"
      ]
     },
     "execution_count": 273,
     "metadata": {},
     "output_type": "execute_result"
    }
   ],
   "source": [
    "algorithm.area"
   ]
  },
  {
   "cell_type": "code",
   "execution_count": 274,
   "metadata": {},
   "outputs": [
    {
     "data": {
      "text/plain": [
       "0.12"
      ]
     },
     "execution_count": 274,
     "metadata": {},
     "output_type": "execute_result"
    }
   ],
   "source": [
    "algorithm.exact"
   ]
  },
  {
   "cell_type": "markdown",
   "metadata": {},
   "source": [
    "Для удобства создаем тестовый набор значений управления (один и тот же, чтобы не делать одни и те же рассчеты с каждым запуском):"
   ]
  },
  {
   "cell_type": "code",
   "execution_count": 275,
   "metadata": {},
   "outputs": [],
   "source": [
    "algorithm.form_first_test(a)"
   ]
  },
  {
   "cell_type": "code",
   "execution_count": 276,
   "metadata": {},
   "outputs": [
    {
     "name": "stdout",
     "output_type": "stream",
     "text": [
      "iter:  0     [1, 1, 1, 2] -0.4600000000000001\n",
      "iter:  1     [2, 1, 1, 2] -0.64\n",
      "iter:  2     [2, 3, 4, 1] -2.36\n",
      "iter:  3     [1, 2, 3, 1] -1.1\n",
      "iter:  4     [1, 3, 5, 1] -3.04\n"
     ]
    }
   ],
   "source": [
    "print_some(algorithm.population)"
   ]
  },
  {
   "cell_type": "markdown",
   "metadata": {},
   "source": [
    "Генерация начальной скорости (для каждой особи значения скорости по всем направлениям):\n",
    "   \n",
    "   Имеем вектор число особей * количество измерений"
   ]
  },
  {
   "cell_type": "code",
   "execution_count": 277,
   "metadata": {},
   "outputs": [],
   "source": [
    "algorithm.generate_step_test()"
   ]
  },
  {
   "cell_type": "code",
   "execution_count": 278,
   "metadata": {},
   "outputs": [
    {
     "data": {
      "text/plain": [
       "[array([0.01, 0.01, 0.01, 0.01]),\n",
       " array([0.01, 0.01, 0.01, 0.01]),\n",
       " array([0.01, 0.01, 0.01, 0.01]),\n",
       " array([0.01, 0.01, 0.01, 0.01]),\n",
       " array([0.01, 0.01, 0.01, 0.01])]"
      ]
     },
     "execution_count": 278,
     "metadata": {},
     "output_type": "execute_result"
    }
   ],
   "source": [
    "algorithm.velocity_list"
   ]
  },
  {
   "cell_type": "markdown",
   "metadata": {},
   "source": [
    "Поиск наилучшего и наихудшего значения в начальной популяции:"
   ]
  },
  {
   "cell_type": "code",
   "execution_count": 279,
   "metadata": {},
   "outputs": [
    {
     "name": "stdout",
     "output_type": "stream",
     "text": [
      "[1, 1, 1, 2] -0.4600000000000001 \n",
      " [1, 3, 5, 1] -3.04\n"
     ]
    }
   ],
   "source": [
    "best = algorithm.find_best()\n",
    "worst = algorithm.find_worst()\n",
    "print(best.u, best.f, '\\n', worst.u, worst.f)"
   ]
  },
  {
   "cell_type": "code",
   "execution_count": 280,
   "metadata": {},
   "outputs": [],
   "source": [
    "member_temp = Dragonfly(best.u, best.f)\n",
    "algorithm.best_list.append(member_temp)\n",
    "\n",
    "member_temp = Dragonfly(worst.u, worst.f)\n",
    "algorithm.worst_list.append(member_temp)"
   ]
  },
  {
   "cell_type": "markdown",
   "metadata": {},
   "source": [
    "Проверка, верно ли записались значения лучшего и худшего в списки:"
   ]
  },
  {
   "cell_type": "code",
   "execution_count": 281,
   "metadata": {},
   "outputs": [
    {
     "name": "stdout",
     "output_type": "stream",
     "text": [
      "Best:\n",
      "iter:  0     [1, 1, 1, 2] -0.4600000000000001\n",
      "\n",
      "\n",
      "Worst:\n",
      "iter:  0     [1, 3, 5, 1] -3.04\n"
     ]
    }
   ],
   "source": [
    "print('Best:')\n",
    "print_some(algorithm.best_list)\n",
    "print('\\n')\n",
    "print('Worst:')\n",
    "print_some(algorithm.worst_list)"
   ]
  },
  {
   "cell_type": "markdown",
   "metadata": {},
   "source": [
    "Теперь начинается АД -- цикл с функцией move_swarm, которую по-хорошему, наверное, стоило разбить на еще более мелкие функции. Или хотя бы проверять каждую сразу после написания, чтобы точно знать, что где получается. (Надеюсь, следующий код с воробьями или коршунами я буду писать с умом....)"
   ]
  },
  {
   "cell_type": "markdown",
   "metadata": {},
   "source": [
    "ФУНКЦИЯ move_swarm ПЕРЕПИСАНА НИЖЕ ЧАСТЯМИ:\n",
    "\n",
    "algorithm.move_swarm(a)"
   ]
  },
  {
   "cell_type": "markdown",
   "metadata": {},
   "source": [
    "## Начальная итерация i = 0"
   ]
  },
  {
   "cell_type": "markdown",
   "metadata": {},
   "source": [
    "Приготовления до циклов:"
   ]
  },
  {
   "cell_type": "code",
   "execution_count": 579,
   "metadata": {},
   "outputs": [
    {
     "name": "stdout",
     "output_type": "stream",
     "text": [
      "iter:  0     [2.597, 4.3645, 6.5995, 1.717] -6.304695849999999\n",
      "iter:  1     [1.5345, 4.3645, 6.5995, 1.717] -5.993223974999999\n",
      "iter:  2     [1.5345, 2.2395, 3.412, 2.7795] -2.173961475\n",
      "iter:  3     [2.597, 3.3020000000000005, 4.4745, 2.7795] -3.78465835\n",
      "iter:  4     [2.597, 2.2395, 2.3495, 2.7795] -1.915773975000001\n",
      "\n",
      "\n",
      "iter:  0     [3.33465, 5.057525, 7.224525, 3.3267749999999996] -8.902223312437501\n",
      "iter:  1     [3.131525, 5.057525, 7.224525, 3.3267749999999996] -8.79525413275\n",
      "iter:  2     [3.131525, 4.651275, 6.61515, 3.5299000000000005] -7.753630148375001\n",
      "iter:  3     [3.33465, 4.8544, 6.818275, 3.5299000000000005] -8.302174796812501\n",
      "iter:  4     [3.33465, 4.651275, 6.412025, 3.5299000000000005] -7.604109835875002\n"
     ]
    }
   ],
   "source": [
    "print_some(population_copy)\n",
    "print('\\n')\n",
    "print_some(algorithm.population)"
   ]
  },
  {
   "cell_type": "code",
   "execution_count": 580,
   "metadata": {},
   "outputs": [],
   "source": [
    "algorithm.current_iter += 1\n",
    "right_area = False # same as \"flag\" in a previous C# code \n",
    "\n",
    "radius_area = algorithm.radius * algorithm.current_iter / algorithm.max_iter\n",
    "trunk_ = algorithm.max_iter - algorithm.max_iter // 2\n",
    "        \n",
    "population_copy = deepcopy(algorithm.population)\n",
    "velocity_copy = deepcopy(algorithm.velocity_list)"
   ]
  },
  {
   "cell_type": "markdown",
   "metadata": {},
   "source": [
    "## Начало цикла \"for i\""
   ]
  },
  {
   "cell_type": "code",
   "execution_count": 581,
   "metadata": {},
   "outputs": [],
   "source": [
    "i = 0"
   ]
  },
  {
   "cell_type": "markdown",
   "metadata": {},
   "source": [
    "Далее разберем одну итерацию цикла, без внешнего for'а:\n",
    "\n",
    "Посчитаем сначала расстояния от каждой особи до остальных"
   ]
  },
  {
   "cell_type": "code",
   "execution_count": 582,
   "metadata": {},
   "outputs": [],
   "source": [
    "for j in range(algorithm.swarm_size):\n",
    "    if i != j:\n",
    "        dist = np.linalg.norm(np.array(population_copy[i].u) - np.array(population_copy[j].u))\n",
    "        if dist <= radius_area:\n",
    "            algorithm.euclid_list.append([j, dist])"
   ]
  },
  {
   "cell_type": "code",
   "execution_count": 583,
   "metadata": {},
   "outputs": [
    {
     "name": "stdout",
     "output_type": "stream",
     "text": [
      "[[1, 0.203125], [2, 0.7866997421983818], [3, 0.4975526040028334], [4, 0.9308356880379052]]\n"
     ]
    }
   ],
   "source": [
    "print(algorithm.euclid_list)"
   ]
  },
  {
   "cell_type": "markdown",
   "metadata": {},
   "source": [
    "Далее проверяется условие\n",
    "\n",
    " if len(self.euclid_list) > 1\n",
    "    \n",
    "Если оно выполняется, пересчет новых положений происходит по первой из двух формул. Алгоритм её исполнения ниже:"
   ]
  },
  {
   "cell_type": "markdown",
   "metadata": {},
   "source": [
    "Separation"
   ]
  },
  {
   "cell_type": "code",
   "execution_count": 584,
   "metadata": {},
   "outputs": [
    {
     "name": "stdout",
     "output_type": "stream",
     "text": [
      "[-0.40625  -1.015625 -1.828125  0.609375]\n"
     ]
    }
   ],
   "source": [
    "algorithm.sep_list = algorithm.separation2(i, population_copy)\n",
    "print(algorithm.sep_list)"
   ]
  },
  {
   "cell_type": "markdown",
   "metadata": {},
   "source": [
    "Alignment (тут могут быть разные значения, так как скорость каждый раз генерируется произвольно)"
   ]
  },
  {
   "cell_type": "code",
   "execution_count": 585,
   "metadata": {},
   "outputs": [
    {
     "name": "stdout",
     "output_type": "stream",
     "text": [
      "[1.1673375  1.76724375 2.55861875 0.96524375]\n"
     ]
    }
   ],
   "source": [
    "algorithm.alig_list = algorithm.alignment2(i, velocity_copy)\n",
    "print(algorithm.alig_list)"
   ]
  },
  {
   "cell_type": "markdown",
   "metadata": {},
   "source": [
    "Cohesion"
   ]
  },
  {
   "cell_type": "code",
   "execution_count": 586,
   "metadata": {},
   "outputs": [
    {
     "name": "stdout",
     "output_type": "stream",
     "text": [
      "[-0.1015625  -0.25390625 -0.45703125  0.15234375]\n"
     ]
    }
   ],
   "source": [
    "algorithm.coh_list = algorithm.cohesion2(i, population_copy)\n",
    "print(algorithm.coh_list)"
   ]
  },
  {
   "cell_type": "markdown",
   "metadata": {},
   "source": [
    "Tendensy"
   ]
  },
  {
   "cell_type": "code",
   "execution_count": 587,
   "metadata": {},
   "outputs": [
    {
     "name": "stdout",
     "output_type": "stream",
     "text": [
      "[ 0.       -0.40625  -0.8125    0.203125]\n"
     ]
    }
   ],
   "source": [
    "algorithm.food_attract = algorithm.tendensy2(i, population_copy)\n",
    "print(algorithm.food_attract)"
   ]
  },
  {
   "cell_type": "markdown",
   "metadata": {},
   "source": [
    "Evation"
   ]
  },
  {
   "cell_type": "code",
   "execution_count": 588,
   "metadata": {},
   "outputs": [
    {
     "name": "stdout",
     "output_type": "stream",
     "text": [
      "[ 6.6693  10.11505 14.44905  6.65355]\n"
     ]
    }
   ],
   "source": [
    "algorithm.enemy_avoid = algorithm.evation2(i, population_copy)\n",
    "print(algorithm.enemy_avoid)"
   ]
  },
  {
   "cell_type": "markdown",
   "metadata": {},
   "source": [
    "Velocity"
   ]
  },
  {
   "cell_type": "code",
   "execution_count": 589,
   "metadata": {},
   "outputs": [],
   "source": [
    "tmp_velo = np.zeros(algorithm.u_dim)\n",
    "tmp_velo = algorithm.velocity(i)"
   ]
  },
  {
   "cell_type": "code",
   "execution_count": 590,
   "metadata": {},
   "outputs": [
    {
     "name": "stdout",
     "output_type": "stream",
     "text": [
      "[1.33583   1.49203   1.679305  2.3985675]\n"
     ]
    }
   ],
   "source": [
    "print(tmp_velo)"
   ]
  },
  {
   "cell_type": "code",
   "execution_count": 591,
   "metadata": {},
   "outputs": [],
   "source": [
    "algorithm.velocity_list[i] = tmp_velo #self.velocity_list.append(self.velocity(i))"
   ]
  },
  {
   "cell_type": "code",
   "execution_count": 592,
   "metadata": {},
   "outputs": [
    {
     "data": {
      "text/plain": [
       "[array([1.33583  , 1.49203  , 1.679305 , 2.3985675]),\n",
       " array([1.597025, 0.693025, 0.625025, 1.609775]),\n",
       " array([1.597025, 2.411775, 3.20315 , 0.7504  ]),\n",
       " array([0.73765 , 1.5524  , 2.343775, 0.7504  ]),\n",
       " array([0.73765 , 2.411775, 4.062525, 0.7504  ])]"
      ]
     },
     "execution_count": 592,
     "metadata": {},
     "output_type": "execute_result"
    }
   ],
   "source": [
    "algorithm.velocity_list"
   ]
  },
  {
   "cell_type": "markdown",
   "metadata": {},
   "source": [
    "Поиск нового положения в зависимости от выбранной модификации шага (последняя треть итераций выполняются с модификацией)"
   ]
  },
  {
   "cell_type": "code",
   "execution_count": 593,
   "metadata": {},
   "outputs": [
    {
     "name": "stdout",
     "output_type": "stream",
     "text": [
      "else: [4.67048   6.549555  8.90383   5.7253425]\n"
     ]
    }
   ],
   "source": [
    "if (algorithm.current_iter < trunk_):\n",
    "    tmp_list = algorithm.find_new_position(i)\n",
    "    print(tmp_list)\n",
    "else:\n",
    "    tmp_list = algorithm.find_new_position_mod(i, algorithm.step_modification)\n",
    "    print('else:', tmp_list)"
   ]
  },
  {
   "cell_type": "markdown",
   "metadata": {},
   "source": [
    "Запись найденного положения в список с популяцией"
   ]
  },
  {
   "cell_type": "code",
   "execution_count": 594,
   "metadata": {},
   "outputs": [],
   "source": [
    "for ii in range(algorithm.u_dim):\n",
    "    #не так все равно tmp_list вектор или вектор векторов?\n",
    "    algorithm.population[i].u[ii] = tmp_list[ii]"
   ]
  },
  {
   "cell_type": "code",
   "execution_count": 595,
   "metadata": {},
   "outputs": [
    {
     "name": "stdout",
     "output_type": "stream",
     "text": [
      "[4.67048   6.549555  8.90383   5.7253425] -8.902223312437501\n",
      "[3.131525 5.057525 7.224525 3.326775] -8.79525413275\n",
      "[3.131525 4.651275 6.61515  3.5299  ] -7.753630148375001\n",
      "[3.33465  4.8544   6.818275 3.5299  ] -8.302174796812501\n",
      "[3.33465  4.651275 6.412025 3.5299  ] -7.604109835875002\n"
     ]
    }
   ],
   "source": [
    "for ii in range(len(algorithm.population)):\n",
    "    print(np.array(algorithm.population[ii].u), algorithm.population[ii].f)"
   ]
  },
  {
   "cell_type": "markdown",
   "metadata": {},
   "source": [
    "Проверка выхода за границы"
   ]
  },
  {
   "cell_type": "code",
   "execution_count": 596,
   "metadata": {},
   "outputs": [],
   "source": [
    "algorithm.check_area(i)"
   ]
  },
  {
   "cell_type": "code",
   "execution_count": 597,
   "metadata": {},
   "outputs": [
    {
     "name": "stdout",
     "output_type": "stream",
     "text": [
      "iter:  0     [4.6704799999999995, 6.549555000000001, 8.90383, 5.7253425] -8.902223312437501\n",
      "iter:  1     [3.131525, 5.057525, 7.224525, 3.3267749999999996] -8.79525413275\n",
      "iter:  2     [3.131525, 4.651275, 6.61515, 3.5299000000000005] -7.753630148375001\n",
      "iter:  3     [3.33465, 4.8544, 6.818275, 3.5299000000000005] -8.302174796812501\n",
      "iter:  4     [3.33465, 4.651275, 6.412025, 3.5299000000000005] -7.604109835875002\n"
     ]
    }
   ],
   "source": [
    "print_some(algorithm.population)"
   ]
  },
  {
   "cell_type": "markdown",
   "metadata": {},
   "source": [
    "Подсчет функционала для i=0 особи, очищение списка euclid"
   ]
  },
  {
   "cell_type": "code",
   "execution_count": 598,
   "metadata": {},
   "outputs": [],
   "source": [
    "algorithm.population[i].f = a.Functional(algorithm.population[i].u)\n"
   ]
  },
  {
   "cell_type": "code",
   "execution_count": 599,
   "metadata": {},
   "outputs": [
    {
     "name": "stdout",
     "output_type": "stream",
     "text": [
      "[4.6704799999999995, 6.549555000000001, 8.90383, 5.7253425] -16.236203753963125\n",
      "[3.131525, 5.057525, 7.224525, 3.3267749999999996] -8.79525413275\n",
      "[3.131525, 4.651275, 6.61515, 3.5299000000000005] -7.753630148375001\n",
      "[3.33465, 4.8544, 6.818275, 3.5299000000000005] -8.302174796812501\n",
      "[3.33465, 4.651275, 6.412025, 3.5299000000000005] -7.604109835875002\n"
     ]
    }
   ],
   "source": [
    "for ii in range(len(algorithm.population)):\n",
    "    print(algorithm.population[ii].u, algorithm.population[ii].f)"
   ]
  },
  {
   "cell_type": "code",
   "execution_count": 600,
   "metadata": {},
   "outputs": [],
   "source": [
    "algorithm.euclid_list.clear()"
   ]
  },
  {
   "cell_type": "markdown",
   "metadata": {},
   "source": [
    "## Итерация  i = 1"
   ]
  },
  {
   "cell_type": "code",
   "execution_count": 601,
   "metadata": {},
   "outputs": [
    {
     "data": {
      "text/plain": [
       "5"
      ]
     },
     "execution_count": 601,
     "metadata": {},
     "output_type": "execute_result"
    }
   ],
   "source": [
    "algorithm.swarm_size"
   ]
  },
  {
   "cell_type": "code",
   "execution_count": 602,
   "metadata": {},
   "outputs": [],
   "source": [
    "i = 1"
   ]
  },
  {
   "cell_type": "markdown",
   "metadata": {},
   "source": [
    "Вычисление расстояний между особями"
   ]
  },
  {
   "cell_type": "code",
   "execution_count": 603,
   "metadata": {},
   "outputs": [],
   "source": [
    "for j in range(algorithm.swarm_size):\n",
    "    if i != j:\n",
    "        dist = np.linalg.norm(np.array(population_copy[i].u) - np.array(population_copy[j].u))\n",
    "        if dist <= radius_area:\n",
    "            algorithm.euclid_list.append([j, dist])"
   ]
  },
  {
   "cell_type": "code",
   "execution_count": 604,
   "metadata": {},
   "outputs": [
    {
     "name": "stdout",
     "output_type": "stream",
     "text": [
      "[[0, 0.203125], [2, 0.760024156688457], [3, 0.5374182350599953], [4, 0.9527407012141343]]\n"
     ]
    }
   ],
   "source": [
    "print(algorithm.euclid_list)"
   ]
  },
  {
   "cell_type": "markdown",
   "metadata": {},
   "source": [
    "Separation"
   ]
  },
  {
   "cell_type": "code",
   "execution_count": 605,
   "metadata": {},
   "outputs": [
    {
     "name": "stdout",
     "output_type": "stream",
     "text": [
      "[ 0.609375 -1.015625 -1.828125  0.609375]\n"
     ]
    }
   ],
   "source": [
    "algorithm.sep_list = algorithm.separation2(i, population_copy)\n",
    "print(algorithm.sep_list)"
   ]
  },
  {
   "cell_type": "markdown",
   "metadata": {},
   "source": [
    "Alignment (тут могут быть разные значения, так как скорость каждый раз генерируется произвольно)"
   ]
  },
  {
   "cell_type": "code",
   "execution_count": 606,
   "metadata": {},
   "outputs": [
    {
     "name": "stdout",
     "output_type": "stream",
     "text": [
      "[0.95249375 1.76724375 2.55861875 0.96524375]\n"
     ]
    }
   ],
   "source": [
    "algorithm.alig_list = algorithm.alignment2(i, velocity_copy)\n",
    "print(algorithm.alig_list)"
   ]
  },
  {
   "cell_type": "markdown",
   "metadata": {},
   "source": [
    "Cohesion"
   ]
  },
  {
   "cell_type": "code",
   "execution_count": 607,
   "metadata": {},
   "outputs": [
    {
     "name": "stdout",
     "output_type": "stream",
     "text": [
      "[ 0.15234375 -0.25390625 -0.45703125  0.15234375]\n"
     ]
    }
   ],
   "source": [
    "algorithm.coh_list = algorithm.cohesion2(i, population_copy)\n",
    "print(algorithm.coh_list)"
   ]
  },
  {
   "cell_type": "markdown",
   "metadata": {},
   "source": [
    "Tendensy"
   ]
  },
  {
   "cell_type": "code",
   "execution_count": 608,
   "metadata": {},
   "outputs": [
    {
     "name": "stdout",
     "output_type": "stream",
     "text": [
      "[ 0.203125 -0.40625  -0.8125    0.203125]\n"
     ]
    }
   ],
   "source": [
    "algorithm.food_attract = algorithm.tendensy2(i, population_copy)\n",
    "print(algorithm.food_attract)"
   ]
  },
  {
   "cell_type": "markdown",
   "metadata": {},
   "source": [
    "Evation"
   ]
  },
  {
   "cell_type": "code",
   "execution_count": 609,
   "metadata": {},
   "outputs": [
    {
     "name": "stdout",
     "output_type": "stream",
     "text": [
      "[ 6.466175 10.11505  14.44905   6.65355 ]\n"
     ]
    }
   ],
   "source": [
    "algorithm.enemy_avoid = algorithm.evation2(i, population_copy)\n",
    "print(algorithm.enemy_avoid)"
   ]
  },
  {
   "cell_type": "markdown",
   "metadata": {},
   "source": [
    "Velocity"
   ]
  },
  {
   "cell_type": "code",
   "execution_count": 610,
   "metadata": {},
   "outputs": [
    {
     "name": "stdout",
     "output_type": "stream",
     "text": [
      "[2.36708   1.49203   1.679305  2.3985675]\n"
     ]
    }
   ],
   "source": [
    "tmp_velo = np.zeros(algorithm.u_dim)\n",
    "tmp_velo = algorithm.velocity(i)\n",
    "print(tmp_velo)"
   ]
  },
  {
   "cell_type": "code",
   "execution_count": 611,
   "metadata": {},
   "outputs": [],
   "source": [
    "algorithm.velocity_list[i] = tmp_velo #self.velocity_list.append(self.velocity(i))"
   ]
  },
  {
   "cell_type": "code",
   "execution_count": 612,
   "metadata": {},
   "outputs": [
    {
     "data": {
      "text/plain": [
       "[array([1.33583  , 1.49203  , 1.679305 , 2.3985675]),\n",
       " array([2.36708  , 1.49203  , 1.679305 , 2.3985675]),\n",
       " array([1.597025, 2.411775, 3.20315 , 0.7504  ]),\n",
       " array([0.73765 , 1.5524  , 2.343775, 0.7504  ]),\n",
       " array([0.73765 , 2.411775, 4.062525, 0.7504  ])]"
      ]
     },
     "execution_count": 612,
     "metadata": {},
     "output_type": "execute_result"
    }
   ],
   "source": [
    "algorithm.velocity_list"
   ]
  },
  {
   "cell_type": "markdown",
   "metadata": {},
   "source": [
    "Поиск нового положения с учетом модификации шага"
   ]
  },
  {
   "cell_type": "code",
   "execution_count": 613,
   "metadata": {},
   "outputs": [
    {
     "name": "stdout",
     "output_type": "stream",
     "text": [
      "else: [5.498605  6.549555  8.90383   5.7253425]\n"
     ]
    }
   ],
   "source": [
    "if (algorithm.current_iter < trunk_):\n",
    "    tmp_list = algorithm.find_new_position(i)\n",
    "    print(tmp_list)\n",
    "else:\n",
    "    tmp_list = algorithm.find_new_position_mod(i, algorithm.step_modification)\n",
    "    print('else:', tmp_list)"
   ]
  },
  {
   "cell_type": "markdown",
   "metadata": {},
   "source": [
    "Запись найденного положения в список с популяцией"
   ]
  },
  {
   "cell_type": "code",
   "execution_count": 614,
   "metadata": {},
   "outputs": [],
   "source": [
    "for ii in range(algorithm.u_dim):\n",
    "    #не так все равно tmp_list вектор или вектор векторов?\n",
    "    algorithm.population[i].u[ii] = tmp_list[ii]"
   ]
  },
  {
   "cell_type": "code",
   "execution_count": 615,
   "metadata": {},
   "outputs": [
    {
     "name": "stdout",
     "output_type": "stream",
     "text": [
      "[4.6704799999999995, 6.549555000000001, 8.90383, 5.7253425] -16.236203753963125\n",
      "[5.4986049999999995, 6.549555000000001, 8.90383, 5.7253425] -8.79525413275\n",
      "[3.131525, 4.651275, 6.61515, 3.5299000000000005] -7.753630148375001\n",
      "[3.33465, 4.8544, 6.818275, 3.5299000000000005] -8.302174796812501\n",
      "[3.33465, 4.651275, 6.412025, 3.5299000000000005] -7.604109835875002\n"
     ]
    }
   ],
   "source": [
    "for ii in range(len(algorithm.population)):\n",
    "    print(algorithm.population[ii].u, algorithm.population[ii].f)"
   ]
  },
  {
   "cell_type": "markdown",
   "metadata": {},
   "source": [
    "Проверка выхода за границы"
   ]
  },
  {
   "cell_type": "code",
   "execution_count": 616,
   "metadata": {},
   "outputs": [],
   "source": [
    "algorithm.check_area(i)"
   ]
  },
  {
   "cell_type": "code",
   "execution_count": 617,
   "metadata": {},
   "outputs": [
    {
     "name": "stdout",
     "output_type": "stream",
     "text": [
      "iter:  0     [4.6704799999999995, 6.549555000000001, 8.90383, 5.7253425] -16.236203753963125\n",
      "iter:  1     [5.4986049999999995, 6.549555000000001, 8.90383, 5.7253425] -8.79525413275\n",
      "iter:  2     [3.131525, 4.651275, 6.61515, 3.5299000000000005] -7.753630148375001\n",
      "iter:  3     [3.33465, 4.8544, 6.818275, 3.5299000000000005] -8.302174796812501\n",
      "iter:  4     [3.33465, 4.651275, 6.412025, 3.5299000000000005] -7.604109835875002\n"
     ]
    }
   ],
   "source": [
    "print_some(algorithm.population)"
   ]
  },
  {
   "cell_type": "markdown",
   "metadata": {},
   "source": [
    "Подсчет функционала для i=1 особи, очищение списка euclid"
   ]
  },
  {
   "cell_type": "code",
   "execution_count": 618,
   "metadata": {},
   "outputs": [],
   "source": [
    "algorithm.population[i].f = a.Functional(algorithm.population[i].u)"
   ]
  },
  {
   "cell_type": "code",
   "execution_count": 619,
   "metadata": {},
   "outputs": [
    {
     "name": "stdout",
     "output_type": "stream",
     "text": [
      "iter:  0     [4.6704799999999995, 6.549555000000001, 8.90383, 5.7253425] -16.236203753963125\n",
      "iter:  1     [5.4986049999999995, 6.549555000000001, 8.90383, 5.7253425] -16.978956105525626\n",
      "iter:  2     [3.131525, 4.651275, 6.61515, 3.5299000000000005] -7.753630148375001\n",
      "iter:  3     [3.33465, 4.8544, 6.818275, 3.5299000000000005] -8.302174796812501\n",
      "iter:  4     [3.33465, 4.651275, 6.412025, 3.5299000000000005] -7.604109835875002\n"
     ]
    }
   ],
   "source": [
    "print_some(algorithm.population)"
   ]
  },
  {
   "cell_type": "code",
   "execution_count": 620,
   "metadata": {},
   "outputs": [],
   "source": [
    "algorithm.euclid_list.clear()"
   ]
  },
  {
   "cell_type": "markdown",
   "metadata": {},
   "source": [
    "## Итерация  i = 2"
   ]
  },
  {
   "cell_type": "code",
   "execution_count": 621,
   "metadata": {},
   "outputs": [],
   "source": [
    "i = 2"
   ]
  },
  {
   "cell_type": "markdown",
   "metadata": {},
   "source": [
    "Вычисление расстояний между особями"
   ]
  },
  {
   "cell_type": "code",
   "execution_count": 622,
   "metadata": {},
   "outputs": [
    {
     "name": "stdout",
     "output_type": "stream",
     "text": [
      "[[0, 0.7866997421983818], [1, 0.760024156688457], [3, 0.3518228202874282], [4, 0.2872621298570349]]\n"
     ]
    }
   ],
   "source": [
    "for j in range(algorithm.swarm_size):\n",
    "    if i != j:\n",
    "        dist = np.linalg.norm(np.array(population_copy[i].u) - np.array(population_copy[j].u))\n",
    "        if dist <= radius_area:\n",
    "            algorithm.euclid_list.append([j, dist])\n",
    "print(algorithm.euclid_list)"
   ]
  },
  {
   "cell_type": "markdown",
   "metadata": {},
   "source": [
    "Separation"
   ]
  },
  {
   "cell_type": "code",
   "execution_count": 623,
   "metadata": {},
   "outputs": [
    {
     "name": "stdout",
     "output_type": "stream",
     "text": [
      "[ 0.609375  1.015625  1.21875  -0.40625 ]\n"
     ]
    }
   ],
   "source": [
    "algorithm.sep_list = algorithm.separation2(i, population_copy)\n",
    "print(algorithm.sep_list)"
   ]
  },
  {
   "cell_type": "markdown",
   "metadata": {},
   "source": [
    "Alignment (тут могут быть разные значения, так как скорость каждый раз генерируется произвольно)"
   ]
  },
  {
   "cell_type": "code",
   "execution_count": 624,
   "metadata": {},
   "outputs": [
    {
     "name": "stdout",
     "output_type": "stream",
     "text": [
      "[0.95249375 1.33755625 1.9140875  1.1800875 ]\n"
     ]
    }
   ],
   "source": [
    "algorithm.alig_list = algorithm.alignment2(i, velocity_copy)\n",
    "print(algorithm.alig_list)"
   ]
  },
  {
   "cell_type": "markdown",
   "metadata": {},
   "source": [
    "Cohesion"
   ]
  },
  {
   "cell_type": "code",
   "execution_count": 625,
   "metadata": {},
   "outputs": [
    {
     "name": "stdout",
     "output_type": "stream",
     "text": [
      "[ 0.15234375  0.25390625  0.3046875  -0.1015625 ]\n"
     ]
    }
   ],
   "source": [
    "algorithm.coh_list = algorithm.cohesion2(i, population_copy)\n",
    "print(algorithm.coh_list)"
   ]
  },
  {
   "cell_type": "markdown",
   "metadata": {},
   "source": [
    "Tendensy"
   ]
  },
  {
   "cell_type": "code",
   "execution_count": 626,
   "metadata": {},
   "outputs": [
    {
     "name": "stdout",
     "output_type": "stream",
     "text": [
      "[ 0.203125  0.       -0.203125  0.      ]\n"
     ]
    }
   ],
   "source": [
    "algorithm.food_attract = algorithm.tendensy2(i, population_copy)\n",
    "print(algorithm.food_attract)"
   ]
  },
  {
   "cell_type": "markdown",
   "metadata": {},
   "source": [
    "Evation"
   ]
  },
  {
   "cell_type": "code",
   "execution_count": 627,
   "metadata": {},
   "outputs": [
    {
     "name": "stdout",
     "output_type": "stream",
     "text": [
      "[ 6.466175  9.7088   13.839675  6.856675]\n"
     ]
    }
   ],
   "source": [
    "algorithm.enemy_avoid = algorithm.evation2(i, population_copy)\n",
    "print(algorithm.enemy_avoid)"
   ]
  },
  {
   "cell_type": "markdown",
   "metadata": {},
   "source": [
    "Velocity"
   ]
  },
  {
   "cell_type": "code",
   "execution_count": 628,
   "metadata": {},
   "outputs": [
    {
     "name": "stdout",
     "output_type": "stream",
     "text": [
      "[2.36708   3.55453   4.773055  1.3673175]\n"
     ]
    }
   ],
   "source": [
    "tmp_velo = np.zeros(algorithm.u_dim)\n",
    "tmp_velo = algorithm.velocity(i)\n",
    "print(tmp_velo)"
   ]
  },
  {
   "cell_type": "code",
   "execution_count": 629,
   "metadata": {},
   "outputs": [],
   "source": [
    "algorithm.velocity_list[i] = tmp_velo #self.velocity_list.append(self.velocity(i))"
   ]
  },
  {
   "cell_type": "code",
   "execution_count": 630,
   "metadata": {},
   "outputs": [
    {
     "data": {
      "text/plain": [
       "[array([1.33583  , 1.49203  , 1.679305 , 2.3985675]),\n",
       " array([2.36708  , 1.49203  , 1.679305 , 2.3985675]),\n",
       " array([2.36708  , 3.55453  , 4.773055 , 1.3673175]),\n",
       " array([0.73765 , 1.5524  , 2.343775, 0.7504  ]),\n",
       " array([0.73765 , 2.411775, 4.062525, 0.7504  ])]"
      ]
     },
     "execution_count": 630,
     "metadata": {},
     "output_type": "execute_result"
    }
   ],
   "source": [
    "algorithm.velocity_list"
   ]
  },
  {
   "cell_type": "markdown",
   "metadata": {},
   "source": [
    "Поиск нового положения с учетом модификации шага"
   ]
  },
  {
   "cell_type": "code",
   "execution_count": 631,
   "metadata": {},
   "outputs": [
    {
     "name": "stdout",
     "output_type": "stream",
     "text": [
      "else: [ 5.498605   8.205805  11.388205   4.8972175]\n"
     ]
    }
   ],
   "source": [
    "if (algorithm.current_iter < trunk_):\n",
    "    tmp_list = algorithm.find_new_position(i)\n",
    "    print(tmp_list)\n",
    "else:\n",
    "    tmp_list = algorithm.find_new_position_mod(i, algorithm.step_modification)\n",
    "    print('else:', tmp_list)"
   ]
  },
  {
   "cell_type": "markdown",
   "metadata": {},
   "source": [
    "Запись найденного положения в список с популяцией"
   ]
  },
  {
   "cell_type": "code",
   "execution_count": 632,
   "metadata": {},
   "outputs": [],
   "source": [
    "for ii in range(algorithm.u_dim):\n",
    "    #не так все равно tmp_list вектор или вектор векторов?\n",
    "    algorithm.population[i].u[ii] = tmp_list[ii]"
   ]
  },
  {
   "cell_type": "code",
   "execution_count": 633,
   "metadata": {},
   "outputs": [
    {
     "name": "stdout",
     "output_type": "stream",
     "text": [
      "[4.6704799999999995, 6.549555000000001, 8.90383, 5.7253425] -16.236203753963125\n",
      "[5.4986049999999995, 6.549555000000001, 8.90383, 5.7253425] -16.978956105525626\n",
      "[5.4986049999999995, 8.205805, 11.388205, 4.8972175] -7.753630148375001\n",
      "[3.33465, 4.8544, 6.818275, 3.5299000000000005] -8.302174796812501\n",
      "[3.33465, 4.651275, 6.412025, 3.5299000000000005] -7.604109835875002\n"
     ]
    }
   ],
   "source": [
    "for ii in range(len(algorithm.population)):\n",
    "    print(algorithm.population[ii].u, algorithm.population[ii].f)"
   ]
  },
  {
   "cell_type": "markdown",
   "metadata": {},
   "source": [
    "Проверка выхода за границы"
   ]
  },
  {
   "cell_type": "code",
   "execution_count": 634,
   "metadata": {},
   "outputs": [],
   "source": [
    "algorithm.check_area(i)"
   ]
  },
  {
   "cell_type": "code",
   "execution_count": 635,
   "metadata": {},
   "outputs": [
    {
     "name": "stdout",
     "output_type": "stream",
     "text": [
      "iter:  0     [4.6704799999999995, 6.549555000000001, 8.90383, 5.7253425] -16.236203753963125\n",
      "iter:  1     [5.4986049999999995, 6.549555000000001, 8.90383, 5.7253425] -16.978956105525626\n",
      "iter:  2     [5.4986049999999995, 8.205805, 11.388205, 4.8972175] -7.753630148375001\n",
      "iter:  3     [3.33465, 4.8544, 6.818275, 3.5299000000000005] -8.302174796812501\n",
      "iter:  4     [3.33465, 4.651275, 6.412025, 3.5299000000000005] -7.604109835875002\n"
     ]
    }
   ],
   "source": [
    "print_some(algorithm.population)"
   ]
  },
  {
   "cell_type": "markdown",
   "metadata": {},
   "source": [
    "Подсчет функционала для i=2 особи, очищение списка euclid"
   ]
  },
  {
   "cell_type": "code",
   "execution_count": 636,
   "metadata": {},
   "outputs": [],
   "source": [
    "algorithm.population[i].f = a.Functional(algorithm.population[i].u)"
   ]
  },
  {
   "cell_type": "code",
   "execution_count": 637,
   "metadata": {},
   "outputs": [
    {
     "name": "stdout",
     "output_type": "stream",
     "text": [
      "[4.6704799999999995, 6.549555000000001, 8.90383, 5.7253425] -16.236203753963125\n",
      "[5.4986049999999995, 6.549555000000001, 8.90383, 5.7253425] -16.978956105525626\n",
      "[5.4986049999999995, 8.205805, 11.388205, 4.8972175] -23.352559300838127\n",
      "[3.33465, 4.8544, 6.818275, 3.5299000000000005] -8.302174796812501\n",
      "[3.33465, 4.651275, 6.412025, 3.5299000000000005] -7.604109835875002\n"
     ]
    }
   ],
   "source": [
    "for ii in range(len(algorithm.population)):\n",
    "    print(algorithm.population[ii].u, algorithm.population[ii].f)"
   ]
  },
  {
   "cell_type": "code",
   "execution_count": 638,
   "metadata": {},
   "outputs": [],
   "source": [
    "algorithm.euclid_list.clear()"
   ]
  },
  {
   "cell_type": "markdown",
   "metadata": {},
   "source": [
    "## Итерация i = 3"
   ]
  },
  {
   "cell_type": "code",
   "execution_count": 639,
   "metadata": {},
   "outputs": [],
   "source": [
    "i = 3"
   ]
  },
  {
   "cell_type": "markdown",
   "metadata": {},
   "source": [
    "Вычисление расстояний между особями"
   ]
  },
  {
   "cell_type": "code",
   "execution_count": 640,
   "metadata": {},
   "outputs": [
    {
     "name": "stdout",
     "output_type": "stream",
     "text": [
      "[[0, 0.4975526040028334], [1, 0.5374182350599953], [2, 0.3518228202874282], [4, 0.4542013079296448]]\n"
     ]
    }
   ],
   "source": [
    "for j in range(algorithm.swarm_size):\n",
    "    if i != j:\n",
    "        dist = np.linalg.norm(np.array(population_copy[i].u) - np.array(population_copy[j].u))\n",
    "        if dist <= radius_area:\n",
    "            algorithm.euclid_list.append([j, dist])\n",
    "print(algorithm.euclid_list)"
   ]
  },
  {
   "cell_type": "markdown",
   "metadata": {},
   "source": [
    "Separation"
   ]
  },
  {
   "cell_type": "code",
   "execution_count": 641,
   "metadata": {},
   "outputs": [
    {
     "name": "stdout",
     "output_type": "stream",
     "text": [
      "[-0.40625  -0.        0.203125 -0.40625 ]\n"
     ]
    }
   ],
   "source": [
    "algorithm.sep_list = algorithm.separation2(i, population_copy)\n",
    "print(algorithm.sep_list)"
   ]
  },
  {
   "cell_type": "markdown",
   "metadata": {},
   "source": [
    "Alignment (тут могут быть разные значения, так как скорость каждый раз генерируется произвольно)"
   ]
  },
  {
   "cell_type": "code",
   "execution_count": 642,
   "metadata": {},
   "outputs": [
    {
     "name": "stdout",
     "output_type": "stream",
     "text": [
      "[1.1673375  1.5524     2.12893125 1.1800875 ]\n"
     ]
    }
   ],
   "source": [
    "algorithm.alig_list = algorithm.alignment2(i, velocity_copy)\n",
    "print(algorithm.alig_list)"
   ]
  },
  {
   "cell_type": "markdown",
   "metadata": {},
   "source": [
    "Cohesion"
   ]
  },
  {
   "cell_type": "code",
   "execution_count": 643,
   "metadata": {},
   "outputs": [
    {
     "name": "stdout",
     "output_type": "stream",
     "text": [
      "[-0.1015625   0.          0.05078125 -0.1015625 ]\n"
     ]
    }
   ],
   "source": [
    "algorithm.coh_list = algorithm.cohesion2(i, population_copy)\n",
    "print(algorithm.coh_list)"
   ]
  },
  {
   "cell_type": "markdown",
   "metadata": {},
   "source": [
    "Tendensy"
   ]
  },
  {
   "cell_type": "code",
   "execution_count": 644,
   "metadata": {},
   "outputs": [
    {
     "name": "stdout",
     "output_type": "stream",
     "text": [
      "[ 0.       -0.203125 -0.40625   0.      ]\n"
     ]
    }
   ],
   "source": [
    "algorithm.food_attract = algorithm.tendensy2(i, population_copy)\n",
    "print(algorithm.food_attract)"
   ]
  },
  {
   "cell_type": "markdown",
   "metadata": {},
   "source": [
    "Evation"
   ]
  },
  {
   "cell_type": "code",
   "execution_count": 645,
   "metadata": {},
   "outputs": [
    {
     "name": "stdout",
     "output_type": "stream",
     "text": [
      "[ 6.6693    9.911925 14.0428    6.856675]\n"
     ]
    }
   ],
   "source": [
    "algorithm.enemy_avoid = algorithm.evation2(i, population_copy)\n",
    "print(algorithm.enemy_avoid)"
   ]
  },
  {
   "cell_type": "markdown",
   "metadata": {},
   "source": [
    "Velocity"
   ]
  },
  {
   "cell_type": "code",
   "execution_count": 646,
   "metadata": {},
   "outputs": [
    {
     "name": "stdout",
     "output_type": "stream",
     "text": [
      "[1.33583   2.52328   3.741805  1.3673175]\n"
     ]
    }
   ],
   "source": [
    "tmp_velo = np.zeros(algorithm.u_dim)\n",
    "tmp_velo = algorithm.velocity(i)\n",
    "print(tmp_velo)"
   ]
  },
  {
   "cell_type": "code",
   "execution_count": 647,
   "metadata": {},
   "outputs": [],
   "source": [
    "algorithm.velocity_list[i] = tmp_velo #self.velocity_list.append(self.velocity(i))"
   ]
  },
  {
   "cell_type": "code",
   "execution_count": 648,
   "metadata": {},
   "outputs": [
    {
     "data": {
      "text/plain": [
       "[array([1.33583  , 1.49203  , 1.679305 , 2.3985675]),\n",
       " array([2.36708  , 1.49203  , 1.679305 , 2.3985675]),\n",
       " array([2.36708  , 3.55453  , 4.773055 , 1.3673175]),\n",
       " array([1.33583  , 2.52328  , 3.741805 , 1.3673175]),\n",
       " array([0.73765 , 2.411775, 4.062525, 0.7504  ])]"
      ]
     },
     "execution_count": 648,
     "metadata": {},
     "output_type": "execute_result"
    }
   ],
   "source": [
    "algorithm.velocity_list"
   ]
  },
  {
   "cell_type": "markdown",
   "metadata": {},
   "source": [
    "Поиск нового положения с учетом модификации шага"
   ]
  },
  {
   "cell_type": "code",
   "execution_count": 649,
   "metadata": {},
   "outputs": [
    {
     "name": "stdout",
     "output_type": "stream",
     "text": [
      "else: [ 4.67048    7.37768   10.56008    4.8972175]\n"
     ]
    }
   ],
   "source": [
    "if (algorithm.current_iter < trunk_):\n",
    "    tmp_list = algorithm.find_new_position(i)\n",
    "    print(tmp_list)\n",
    "else:\n",
    "    tmp_list = algorithm.find_new_position_mod(i, algorithm.step_modification)\n",
    "    print('else:', tmp_list)"
   ]
  },
  {
   "cell_type": "markdown",
   "metadata": {},
   "source": [
    "Запись найденного положения в список с популяцией"
   ]
  },
  {
   "cell_type": "code",
   "execution_count": 650,
   "metadata": {},
   "outputs": [],
   "source": [
    "for ii in range(algorithm.u_dim):\n",
    "    #не так все равно tmp_list вектор или вектор векторов?\n",
    "    algorithm.population[i].u[ii] = tmp_list[ii]"
   ]
  },
  {
   "cell_type": "code",
   "execution_count": 651,
   "metadata": {},
   "outputs": [
    {
     "name": "stdout",
     "output_type": "stream",
     "text": [
      "iter:  0     [4.6704799999999995, 6.549555000000001, 8.90383, 5.7253425] -16.236203753963125\n",
      "iter:  1     [5.4986049999999995, 6.549555000000001, 8.90383, 5.7253425] -16.978956105525626\n",
      "iter:  2     [5.4986049999999995, 8.205805, 11.388205, 4.8972175] -23.352559300838127\n",
      "iter:  3     [4.6704799999999995, 7.37768, 10.56008, 4.8972175] -8.302174796812501\n",
      "iter:  4     [3.33465, 4.651275, 6.412025, 3.5299000000000005] -7.604109835875002\n"
     ]
    }
   ],
   "source": [
    "print_some(algorithm.population)"
   ]
  },
  {
   "cell_type": "markdown",
   "metadata": {},
   "source": [
    "Проверка выхода за границы"
   ]
  },
  {
   "cell_type": "code",
   "execution_count": 652,
   "metadata": {},
   "outputs": [
    {
     "name": "stdout",
     "output_type": "stream",
     "text": [
      "iter:  0     [4.6704799999999995, 6.549555000000001, 8.90383, 5.7253425] -16.236203753963125\n",
      "iter:  1     [5.4986049999999995, 6.549555000000001, 8.90383, 5.7253425] -16.978956105525626\n",
      "iter:  2     [5.4986049999999995, 8.205805, 11.388205, 4.8972175] -23.352559300838127\n",
      "iter:  3     [4.6704799999999995, 7.37768, 10.56008, 4.8972175] -8.302174796812501\n",
      "iter:  4     [3.33465, 4.651275, 6.412025, 3.5299000000000005] -7.604109835875002\n"
     ]
    }
   ],
   "source": [
    "algorithm.check_area(i)\n",
    "print_some(algorithm.population)"
   ]
  },
  {
   "cell_type": "markdown",
   "metadata": {},
   "source": [
    "Подсчет функционала для i = 3 особи, очищение списка euclid"
   ]
  },
  {
   "cell_type": "code",
   "execution_count": 653,
   "metadata": {},
   "outputs": [],
   "source": [
    "algorithm.population[i].f = a.Functional(algorithm.population[i].u)"
   ]
  },
  {
   "cell_type": "code",
   "execution_count": 654,
   "metadata": {},
   "outputs": [
    {
     "name": "stdout",
     "output_type": "stream",
     "text": [
      "iter:  0     [4.6704799999999995, 6.549555000000001, 8.90383, 5.7253425] -16.236203753963125\n",
      "iter:  1     [5.4986049999999995, 6.549555000000001, 8.90383, 5.7253425] -16.978956105525626\n",
      "iter:  2     [5.4986049999999995, 8.205805, 11.388205, 4.8972175] -23.352559300838127\n",
      "iter:  3     [4.6704799999999995, 7.37768, 10.56008, 4.8972175] -19.60108224615062\n",
      "iter:  4     [3.33465, 4.651275, 6.412025, 3.5299000000000005] -7.604109835875002\n"
     ]
    }
   ],
   "source": [
    "print_some(algorithm.population)"
   ]
  },
  {
   "cell_type": "code",
   "execution_count": 655,
   "metadata": {},
   "outputs": [],
   "source": [
    "algorithm.euclid_list.clear()"
   ]
  },
  {
   "cell_type": "markdown",
   "metadata": {},
   "source": [
    "## Итерация i = 4"
   ]
  },
  {
   "cell_type": "code",
   "execution_count": 656,
   "metadata": {},
   "outputs": [],
   "source": [
    "i = 4"
   ]
  },
  {
   "cell_type": "markdown",
   "metadata": {},
   "source": [
    "Вычисление расстояний между особями"
   ]
  },
  {
   "cell_type": "code",
   "execution_count": 657,
   "metadata": {},
   "outputs": [
    {
     "name": "stdout",
     "output_type": "stream",
     "text": [
      "[[0, 0.9308356880379052], [1, 0.9527407012141343], [2, 0.2872621298570349], [3, 0.4542013079296448]]\n"
     ]
    }
   ],
   "source": [
    "for j in range(algorithm.swarm_size):\n",
    "    if i != j:\n",
    "        dist = np.linalg.norm(np.array(population_copy[i].u) - np.array(population_copy[j].u))\n",
    "        if dist <= radius_area:\n",
    "            algorithm.euclid_list.append([j, dist])\n",
    "print(algorithm.euclid_list)"
   ]
  },
  {
   "cell_type": "markdown",
   "metadata": {},
   "source": [
    "Separation"
   ]
  },
  {
   "cell_type": "code",
   "execution_count": 658,
   "metadata": {},
   "outputs": [
    {
     "name": "stdout",
     "output_type": "stream",
     "text": [
      "[-0.40625   1.015625  2.234375 -0.40625 ]\n"
     ]
    }
   ],
   "source": [
    "algorithm.sep_list = algorithm.separation2(i, population_copy)\n",
    "print(algorithm.sep_list)"
   ]
  },
  {
   "cell_type": "markdown",
   "metadata": {},
   "source": [
    "Alignment (тут могут быть разные значения, так как скорость каждый раз генерируется произвольно)"
   ]
  },
  {
   "cell_type": "code",
   "execution_count": 659,
   "metadata": {},
   "outputs": [
    {
     "name": "stdout",
     "output_type": "stream",
     "text": [
      "[1.1673375  1.33755625 1.69924375 1.1800875 ]\n"
     ]
    }
   ],
   "source": [
    "algorithm.alig_list = algorithm.alignment2(i, velocity_copy)\n",
    "print(algorithm.alig_list)"
   ]
  },
  {
   "cell_type": "markdown",
   "metadata": {},
   "source": [
    "Cohesion"
   ]
  },
  {
   "cell_type": "code",
   "execution_count": 660,
   "metadata": {},
   "outputs": [
    {
     "name": "stdout",
     "output_type": "stream",
     "text": [
      "[-0.1015625   0.25390625  0.55859375 -0.1015625 ]\n"
     ]
    }
   ],
   "source": [
    "algorithm.coh_list = algorithm.cohesion2(i, population_copy)\n",
    "print(algorithm.coh_list)"
   ]
  },
  {
   "cell_type": "markdown",
   "metadata": {},
   "source": [
    "Tendensy"
   ]
  },
  {
   "cell_type": "code",
   "execution_count": 661,
   "metadata": {},
   "outputs": [
    {
     "name": "stdout",
     "output_type": "stream",
     "text": [
      "[0. 0. 0. 0.]\n"
     ]
    }
   ],
   "source": [
    "algorithm.food_attract = algorithm.tendensy2(i, population_copy)\n",
    "print(algorithm.food_attract)"
   ]
  },
  {
   "cell_type": "markdown",
   "metadata": {},
   "source": [
    "Evation"
   ]
  },
  {
   "cell_type": "code",
   "execution_count": 662,
   "metadata": {},
   "outputs": [
    {
     "name": "stdout",
     "output_type": "stream",
     "text": [
      "[ 6.6693    9.7088   13.63655   6.856675]\n"
     ]
    }
   ],
   "source": [
    "algorithm.enemy_avoid = algorithm.evation2(i, population_copy)\n",
    "print(algorithm.enemy_avoid)"
   ]
  },
  {
   "cell_type": "markdown",
   "metadata": {},
   "source": [
    "Velocity"
   ]
  },
  {
   "cell_type": "code",
   "execution_count": 663,
   "metadata": {},
   "outputs": [
    {
     "name": "stdout",
     "output_type": "stream",
     "text": [
      "[1.33583   3.55453   5.804305  1.3673175]\n"
     ]
    }
   ],
   "source": [
    "tmp_velo = np.zeros(algorithm.u_dim)\n",
    "tmp_velo = algorithm.velocity(i)\n",
    "print(tmp_velo)"
   ]
  },
  {
   "cell_type": "code",
   "execution_count": 664,
   "metadata": {},
   "outputs": [],
   "source": [
    "algorithm.velocity_list[i] = tmp_velo #self.velocity_list.append(self.velocity(i))"
   ]
  },
  {
   "cell_type": "code",
   "execution_count": 665,
   "metadata": {},
   "outputs": [
    {
     "data": {
      "text/plain": [
       "[array([1.33583  , 1.49203  , 1.679305 , 2.3985675]),\n",
       " array([2.36708  , 1.49203  , 1.679305 , 2.3985675]),\n",
       " array([2.36708  , 3.55453  , 4.773055 , 1.3673175]),\n",
       " array([1.33583  , 2.52328  , 3.741805 , 1.3673175]),\n",
       " array([1.33583  , 3.55453  , 5.804305 , 1.3673175])]"
      ]
     },
     "execution_count": 665,
     "metadata": {},
     "output_type": "execute_result"
    }
   ],
   "source": [
    "algorithm.velocity_list"
   ]
  },
  {
   "cell_type": "markdown",
   "metadata": {},
   "source": [
    "Поиск нового положения с учетом модификации шага"
   ]
  },
  {
   "cell_type": "code",
   "execution_count": 666,
   "metadata": {},
   "outputs": [
    {
     "name": "stdout",
     "output_type": "stream",
     "text": [
      "else: [ 4.67048    8.205805  12.21633    4.8972175]\n"
     ]
    }
   ],
   "source": [
    "if (algorithm.current_iter < trunk_):\n",
    "    tmp_list = algorithm.find_new_position(i)\n",
    "    print(tmp_list)\n",
    "else:\n",
    "    tmp_list = algorithm.find_new_position_mod(i, algorithm.step_modification)\n",
    "    print('else:', tmp_list)"
   ]
  },
  {
   "cell_type": "markdown",
   "metadata": {},
   "source": [
    "Запись найденного положения в список с популяцией"
   ]
  },
  {
   "cell_type": "code",
   "execution_count": 667,
   "metadata": {},
   "outputs": [],
   "source": [
    "for ii in range(algorithm.u_dim):\n",
    "    #не так все равно tmp_list вектор или вектор векторов?\n",
    "    algorithm.population[i].u[ii] = tmp_list[ii]"
   ]
  },
  {
   "cell_type": "code",
   "execution_count": 668,
   "metadata": {},
   "outputs": [
    {
     "name": "stdout",
     "output_type": "stream",
     "text": [
      "iter:  0     [4.6704799999999995, 6.549555000000001, 8.90383, 5.7253425] -16.236203753963125\n",
      "iter:  1     [5.4986049999999995, 6.549555000000001, 8.90383, 5.7253425] -16.978956105525626\n",
      "iter:  2     [5.4986049999999995, 8.205805, 11.388205, 4.8972175] -23.352559300838127\n",
      "iter:  3     [4.6704799999999995, 7.37768, 10.56008, 4.8972175] -19.60108224615062\n",
      "iter:  4     [4.6704799999999995, 8.205805, 12.21633, 4.8972175] -7.604109835875002\n"
     ]
    }
   ],
   "source": [
    "print_some(algorithm.population)"
   ]
  },
  {
   "cell_type": "markdown",
   "metadata": {},
   "source": [
    "Проверка выхода за границы"
   ]
  },
  {
   "cell_type": "code",
   "execution_count": 669,
   "metadata": {},
   "outputs": [
    {
     "name": "stdout",
     "output_type": "stream",
     "text": [
      "iter:  0     [4.6704799999999995, 6.549555000000001, 8.90383, 5.7253425] -16.236203753963125\n",
      "iter:  1     [5.4986049999999995, 6.549555000000001, 8.90383, 5.7253425] -16.978956105525626\n",
      "iter:  2     [5.4986049999999995, 8.205805, 11.388205, 4.8972175] -23.352559300838127\n",
      "iter:  3     [4.6704799999999995, 7.37768, 10.56008, 4.8972175] -19.60108224615062\n",
      "iter:  4     [4.6704799999999995, 8.205805, 12.21633, 4.8972175] -7.604109835875002\n"
     ]
    }
   ],
   "source": [
    "algorithm.check_area(i)\n",
    "print_some(algorithm.population)"
   ]
  },
  {
   "cell_type": "markdown",
   "metadata": {},
   "source": [
    "Подсчет функционала для i = 4 особи, очищение списка euclid"
   ]
  },
  {
   "cell_type": "code",
   "execution_count": 670,
   "metadata": {},
   "outputs": [],
   "source": [
    "algorithm.population[i].f = a.Functional(algorithm.population[i].u)"
   ]
  },
  {
   "cell_type": "code",
   "execution_count": 671,
   "metadata": {},
   "outputs": [
    {
     "name": "stdout",
     "output_type": "stream",
     "text": [
      "iter:  0     [4.6704799999999995, 6.549555000000001, 8.90383, 5.7253425] -16.236203753963125\n",
      "iter:  1     [5.4986049999999995, 6.549555000000001, 8.90383, 5.7253425] -16.978956105525626\n",
      "iter:  2     [5.4986049999999995, 8.205805, 11.388205, 4.8972175] -23.352559300838127\n",
      "iter:  3     [4.6704799999999995, 7.37768, 10.56008, 4.8972175] -19.60108224615062\n",
      "iter:  4     [4.6704799999999995, 8.205805, 12.21633, 4.8972175] -24.531432503963124\n"
     ]
    }
   ],
   "source": [
    "print_some(algorithm.population)"
   ]
  },
  {
   "cell_type": "code",
   "execution_count": 578,
   "metadata": {},
   "outputs": [],
   "source": [
    "algorithm.euclid_list.clear()"
   ]
  },
  {
   "cell_type": "markdown",
   "metadata": {},
   "source": [
    "## Подсчет лучшего и худшего положений за прошедший цикл"
   ]
  },
  {
   "cell_type": "code",
   "execution_count": 388,
   "metadata": {},
   "outputs": [],
   "source": [
    "temp = np.zeros(algorithm.u_dim)\n",
    "best_temp = algorithm.find_best()\n",
    "for j in range(algorithm.u_dim):\n",
    "    temp[j] = best_temp.u[j]\n",
    "member_temp = Dragonfly(temp, best_temp.f)\n",
    "algorithm.best_list.append(member_temp)"
   ]
  },
  {
   "cell_type": "code",
   "execution_count": 389,
   "metadata": {},
   "outputs": [],
   "source": [
    "temp = np.zeros(algorithm.u_dim)\n",
    "worst_temp = algorithm.find_worst()\n",
    "for j in range(algorithm.u_dim):\n",
    "    temp[j] = worst_temp.u[j]\n",
    "member_temp = Dragonfly(temp, worst_temp.f)\n",
    "algorithm.worst_list.append(member_temp)"
   ]
  },
  {
   "cell_type": "code",
   "execution_count": 390,
   "metadata": {},
   "outputs": [
    {
     "name": "stdout",
     "output_type": "stream",
     "text": [
      "Best:\n",
      "iter:  0     [1.7599999999999998, 2.7849999999999997, 4.085, 1.485] -0.4600000000000001\n",
      "iter:  1     [1.76  2.035 2.585 1.86 ] -1.260665\n",
      "\n",
      "\n",
      "Worst:\n",
      "iter:  0     [1.7599999999999998, 2.035, 2.585, 1.8599999999999999] -3.04\n",
      "iter:  1     [1.76  2.785 4.085 1.485] -2.3772275\n"
     ]
    }
   ],
   "source": [
    "print('Best:')\n",
    "print_some(algorithm.best_list)\n",
    "print('\\n')\n",
    "print('Worst:')\n",
    "print_some(algorithm.worst_list)"
   ]
  },
  {
   "cell_type": "markdown",
   "metadata": {},
   "source": [
    "# Доп код"
   ]
  },
  {
   "cell_type": "code",
   "execution_count": 227,
   "metadata": {},
   "outputs": [
    {
     "data": {
      "text/plain": [
       "array([0.        , 0.        , 2.2827951 , 5.30160489, 9.89290877])"
      ]
     },
     "execution_count": 227,
     "metadata": {},
     "output_type": "execute_result"
    }
   ],
   "source": [
    "algorithm.best_x1"
   ]
  },
  {
   "cell_type": "code",
   "execution_count": 234,
   "metadata": {},
   "outputs": [
    {
     "data": {
      "text/plain": [
       "array([0.     , 0.05024, 0.16092, 0.30594, 0.5386 ])"
      ]
     },
     "execution_count": 234,
     "metadata": {},
     "output_type": "execute_result"
    }
   ],
   "source": [
    "algorithm.best_x2"
   ]
  },
  {
   "cell_type": "code",
   "execution_count": 241,
   "metadata": {},
   "outputs": [
    {
     "data": {
      "text/plain": [
       "9.39816025"
      ]
     },
     "execution_count": 241,
     "metadata": {},
     "output_type": "execute_result"
    }
   ],
   "source": [
    "sum(np.array(algorithm.best_list[0].u)**2)"
   ]
  },
  {
   "cell_type": "code",
   "execution_count": 242,
   "metadata": {},
   "outputs": [
    {
     "data": {
      "text/plain": [
       "[1.256, 1.5110000000000001, 0.8585, 2.191]"
      ]
     },
     "execution_count": 242,
     "metadata": {},
     "output_type": "execute_result"
    }
   ],
   "source": [
    "algorithm.best_list[0].u"
   ]
  },
  {
   "cell_type": "code",
   "execution_count": 246,
   "metadata": {},
   "outputs": [
    {
     "data": {
      "text/plain": [
       "-0.4012160250000001"
      ]
     },
     "execution_count": 246,
     "metadata": {},
     "output_type": "execute_result"
    }
   ],
   "source": [
    "0.5386 - (1.256**2+1.5110000000000001**2+0.8585**2+2.191**2)/10"
   ]
  },
  {
   "cell_type": "markdown",
   "metadata": {},
   "source": [
    "## Итог: что сделано, где я остановилась"
   ]
  },
  {
   "cell_type": "markdown",
   "metadata": {},
   "source": [
    "#24 марта\n",
    "\n",
    "Сделала разбор одной итерации алгоритма. Надо проверить, как работает следующая итерация (вероятно, расписав таким же образом, как и первую, чтобы оставалась предыстория. Сейчас должно быть легче, ибо для следующих итераций нужно делать просто copy paste)"
   ]
  },
  {
   "cell_type": "markdown",
   "metadata": {},
   "source": [
    "#30 марта\n",
    "\n",
    "Добавила еще две итерации алгоритма. Нашла ошибку в алгоритме: список pop_copy не использовался в методах расчета шага (separation, tendensy...) -- это обнаружилось в методе tendensy: новый подсчет внутри одной итерации i=const происходил по уже измененному списку population. \n",
    "\n",
    "Аналогично была исправлена работа со списком velocity_list.\n",
    "Очищение pop_copy проводить не нужно, т.к. список создается каждый раз заново при новой итерации после поиска расстояний euclid()\n",
    "\n",
    "Уменьшила коэффициенты у s, a, c, f, e, w, на порядок, чтобы не уменьшать их внутри каждой функции отдельно.\n",
    "\n",
    "    В принципе после этих действий значения функционала стали уменьшаться, а не увеличиваться. Выглядит, как хороший знак.\n",
    "   "
   ]
  },
  {
   "cell_type": "markdown",
   "metadata": {},
   "source": [
    "#2 апреля\n",
    "\n",
    "Исправлено копирование списков popelation и velocity_list. Копирование этих списков происходит с помощью бибилиотечной функции deepcopy. Безопасность!\n",
    "\n",
    "Еще раз проверила все итерации. Не могу понять, где конкретно ошибка. Есть варианты:\n",
    "    - ☖ в самом алгоритме DA, т.е. он в принципе считает неверно, \n",
    "    - ☖ либо в его интеграции с задачей, \n",
    "    - ☗ либо в самой задаче. \n",
    "\n",
    "1) Проверяла сам алгоритм отдельно. Он находит экстремум с хорошей точностью. Несмотря на это я находила некоторые неточности в нем, например, в функциях separate и т.д. при проверке в попадание в половину области - деление происходило только положительных элементов вектора (не был прописан модуль). Это можно считать незначительной багой. Но может ли это сильно повлиять на решение дискретной задачи?\n",
    "\n",
    "2) Интеграция с дискретной задачей. Тут совсем все непонятно. Надо разбираться внимательнее...\n",
    "\n",
    "3) Ошибка в задаче: вручную посчитала значение функционала на полученном векторе управления и получила значение отличное от тогшо, которое выдает алгоритм. Вектору соответствует не то значение функционала. Либо я посчитала неверно (проверяется внимательным подсчетом при нескольких запусках и разных векторах), либо в процессе доавления в список best проблемы с указателями. Ведь сама по себе формула из задачи считает правильно...\n",
    "\n",
    "UPD пункт 3. Это я посчитала что-то не так."
   ]
  },
  {
   "cell_type": "markdown",
   "metadata": {},
   "source": [
    "#3 апреля\n",
    "\n",
    "Надо пройтись еще раз по коду, проверить гипотезу о неверном вычислении функционала, устранить эту проблему. \n",
    "\n",
    "Параллельно сяду переписывать алгоритм стаи воробьев с шарпов.\n",
    "\n",
    "Еще нашла, что в Work при подсчете худшего значения добавлялся вектор best, а не worst. Но это ни на что не влияло, так как список worst_list не использовался."
   ]
  },
  {
   "cell_type": "markdown",
   "metadata": {},
   "source": [
    "#4 апреля \n",
    "\n",
    "Нашла баги. В find_new_position и find_new_position_mod создавался вектор tmp размерностью dim вместо u_dim. Исправла. А еще удалила лишние строчки в этих функциях: не обязательно создавать явно tmp, а потом в него помещать другой вектор.\n",
    "\n",
    "В функции check_area проверялись на выход за границы только первые два элемента вектора, а не все u_dim штук. Исправила. Но теперь после второго запуска move_swarm некоторые координаты обнуляются. За ними следом весь вектор u обнуляется. Видимо, надо проверять функции separation и т.д. Потому что если элементы вектора становятся равными 0 или 100, значит сбиваются к границам области определения, значит срабатывает функция check_area. Значит, до этого генерируется такой шаг стрекоз, что они вылетают за пределы области.\n",
    "\n",
    "В структуре Dragonfly переписала x на u для удобства восприятия.\n",
    "\n",
    "Кажется, что надо исправить генерацию начальных скоростей в generate_step_ccord, ибо получается несбалансированная формула, в которой alignment не имеет сильного влияния. Может быть, на первом шаге это и верно с точки зрения физического смысла."
   ]
  },
  {
   "cell_type": "code",
   "execution_count": null,
   "metadata": {},
   "outputs": [],
   "source": []
  },
  {
   "cell_type": "code",
   "execution_count": null,
   "metadata": {},
   "outputs": [],
   "source": []
  },
  {
   "cell_type": "code",
   "execution_count": null,
   "metadata": {},
   "outputs": [],
   "source": []
  },
  {
   "cell_type": "markdown",
   "metadata": {},
   "source": [
    "## Проверка соответствия значения функционала полученному вектору управления"
   ]
  },
  {
   "cell_type": "code",
   "execution_count": 93,
   "metadata": {},
   "outputs": [
    {
     "name": "stdout",
     "output_type": "stream",
     "text": [
      "[15.83737698 22.13679409 92.71921616 35.95941864] -1055.6991022051336   Presize =  0.12   Error =  1055.8191022051335\n",
      "work time :      0.12\n"
     ]
    }
   ],
   "source": [
    "a = DiscreteSystem(5)\n",
    "algorithm = DragonflySwarm(5, a.N_step, 13, 0.1, 0.1, 0.7, 0.1, 0.1, 0.9, 1, 1, 100000, 4, 0.5)\n",
    "algorithm.Work(a)"
   ]
  },
  {
   "cell_type": "code",
   "execution_count": 94,
   "metadata": {},
   "outputs": [
    {
     "name": "stdout",
     "output_type": "stream",
     "text": [
      "[0.         0.         0.63349508 2.15246192 7.38019741] \n",
      " [ 0.          0.63349508  2.15246192  7.38019741 14.04630965]\n"
     ]
    }
   ],
   "source": [
    "print(algorithm.best_x1, '\\n', algorithm.best_x2)"
   ]
  },
  {
   "cell_type": "code",
   "execution_count": 95,
   "metadata": {},
   "outputs": [
    {
     "name": "stdout",
     "output_type": "stream",
     "text": [
      "iter:  0     [15.83737698 22.13679409 92.71921616 35.95941864] -1055.6991022051336\n",
      "iter:  1     [16.95836521 23.72622026 92.34194493 37.50561355] -1070.795772736856\n",
      "iter:  2     [19.60173939 26.2397499  92.06219343 39.86415091] -1105.6011884110333\n",
      "iter:  3     [23.53307435 29.52181876 91.96357828 42.92223976] -1163.6319192309807\n",
      "iter:  4     [28.5144354  33.41981318 92.12959151 46.56896442] -1248.8682007854115\n",
      "iter:  5     [46.78847853 34.85433762 87.58626819 50.41834464] -1349.8286274875445\n",
      "iter:  6     [45.04106447 37.50831987 87.90854209 50.31618669] -1357.5982614275902\n",
      "iter:  7     [82.26056631 33.50549451 49.97979147 57.9650283 ] -1360.1834001122816\n",
      "iter:  8     [58.47693321 30.61220419 84.88343884 58.20881641] -1482.1507801009623\n",
      "iter:  9     [79.33355728 39.08297529 59.68196218 61.12255879] -1496.8856638337534\n",
      "iter:  10     [64.79169447 35.59578286 82.63540885 59.02146456] -1563.788668123579\n",
      "iter:  11     [63.0621343  31.86595437 86.77920396 61.30161805] -1614.4911439839898\n",
      "iter:  12     [74.42819786 44.56736676 79.89186864 49.43351889] -1619.5265803199618\n",
      "iter:  13     [76.7582593  44.88195613 69.84446932 64.56864419] -1679.7626801284944\n"
     ]
    }
   ],
   "source": [
    "print_some(algorithm.best_list)"
   ]
  },
  {
   "cell_type": "code",
   "execution_count": 96,
   "metadata": {},
   "outputs": [
    {
     "name": "stdout",
     "output_type": "stream",
     "text": [
      "iter:  0     [63.0621343  31.86595437 86.77920396 61.30161805] -1614.4911439839898\n",
      "iter:  1     [70.18320743 32.6802711  82.40903978 61.32204802] -1640.1998453225217\n",
      "iter:  2     [76.78462629 43.23643233 90.0831828  52.21897843] -1844.4305475659512\n",
      "iter:  3     [64.0395117  33.55744112 90.08962196 71.86569759] -1836.8250173189626\n",
      "iter:  4     [81.46070148 28.71310886 72.52685413 63.00025446] -1653.9731068472154\n"
     ]
    }
   ],
   "source": [
    "print_some(algorithm.population)"
   ]
  },
  {
   "cell_type": "code",
   "execution_count": 13,
   "metadata": {},
   "outputs": [
    {
     "data": {
      "text/plain": [
       "-1335.991054530494"
      ]
     },
     "execution_count": 13,
     "metadata": {},
     "output_type": "execute_result"
    }
   ],
   "source": [
    "a.Functional(algorithm.best_list[0].u)"
   ]
  },
  {
   "cell_type": "code",
   "execution_count": 14,
   "metadata": {},
   "outputs": [
    {
     "data": {
      "text/plain": [
       "(array([ 0.        ,  0.        ,  3.33634465,  8.82503499, 15.45015436]),\n",
       " array([ 0.        ,  3.33634465,  8.82503499, 15.45015436, 24.21251514]))"
      ]
     },
     "execution_count": 14,
     "metadata": {},
     "output_type": "execute_result"
    }
   ],
   "source": [
    "a.make_x(algorithm.best_list[0].u)"
   ]
  },
  {
   "cell_type": "code",
   "execution_count": 95,
   "metadata": {},
   "outputs": [
    {
     "data": {
      "text/plain": [
       "array([66.85852758, 18.69418277, 18.35880979, 42.96096453])"
      ]
     },
     "execution_count": 95,
     "metadata": {},
     "output_type": "execute_result"
    }
   ],
   "source": [
    "algorithm.best_list[0].u"
   ]
  },
  {
   "cell_type": "code",
   "execution_count": 96,
   "metadata": {},
   "outputs": [
    {
     "data": {
      "text/plain": [
       "7002.22555050728"
      ]
     },
     "execution_count": 96,
     "metadata": {},
     "output_type": "execute_result"
    }
   ],
   "source": [
    "sum(np.array(algorithm.best_list[0].u)**2)"
   ]
  },
  {
   "cell_type": "code",
   "execution_count": 97,
   "metadata": {},
   "outputs": [
    {
     "data": {
      "text/plain": [
       "-689.9696447307281"
      ]
     },
     "execution_count": 97,
     "metadata": {},
     "output_type": "execute_result"
    }
   ],
   "source": [
    "10.25291032 - 1/(2*a.N_step) * sum(np.array(algorithm.best_list[0].u)**2)"
   ]
  },
  {
   "cell_type": "code",
   "execution_count": null,
   "metadata": {},
   "outputs": [],
   "source": []
  },
  {
   "cell_type": "markdown",
   "metadata": {},
   "source": [
    "# Проход по внешнему циклу в Work() "
   ]
  },
  {
   "cell_type": "code",
   "execution_count": 218,
   "metadata": {},
   "outputs": [],
   "source": [
    "a = DiscreteSystem(5)\n",
    "algorithm = DragonflySwarm(5, a.N_step, 13, 0.01, 0.09, 0.7, 10, -10, 0.9, 1, 1, 100000, 4, 0.5)"
   ]
  },
  {
   "cell_type": "markdown",
   "metadata": {},
   "source": [
    "Создание начальной популяции, скорости и области определения"
   ]
  },
  {
   "cell_type": "code",
   "execution_count": 219,
   "metadata": {},
   "outputs": [
    {
     "name": "stdout",
     "output_type": "stream",
     "text": [
      "Population:\n",
      "iter:  0     [4.81443006 3.59212887 4.78353478 0.97993954] -4.936018007068235\n",
      "iter:  1     [0.15968795 1.5078262  9.03542361 6.79396612] -12.508383956644137\n",
      "iter:  2     [2.93756009 4.83732085 0.15851087 4.31652145] -4.322808221434077\n",
      "iter:  3     [1.20713608 9.56354772 3.39631536 9.41951072] -18.272283513853118\n",
      "iter:  4     [8.1734941  1.35741957 8.58372058 2.2324842 ] -13.298522159877551\n",
      "\n",
      "\n",
      "Velocity:\n",
      "[ 0.07325646 -0.06324124  0.04350051 -0.03860847]\n",
      "[ 0.02440334 -0.04876108 -0.07992366 -0.06336936]\n",
      "[-0.01151484 -0.00785061  0.08737474 -0.01343908]\n",
      "[-0.02192147  0.03234348  0.0620301   0.03733313]\n",
      "[ 0.00392648 -0.00028945  0.08274946  0.01755899]\n"
     ]
    }
   ],
   "source": [
    "algorithm.init_area(a)\n",
    "algorithm.form_first_pop(a)\n",
    "print('Population:')\n",
    "print_some(algorithm.population)\n",
    "print('\\n')\n",
    "algorithm.generate_step_coord()\n",
    "print('Velocity:')\n",
    "for k in range(len(algorithm.velocity_list)):\n",
    "    print(algorithm.velocity_list[k])\n"
   ]
  },
  {
   "cell_type": "markdown",
   "metadata": {},
   "source": [
    "Подсчет лучшего и худшего значений на нулевой итерации:"
   ]
  },
  {
   "cell_type": "code",
   "execution_count": 220,
   "metadata": {
    "scrolled": true
   },
   "outputs": [
    {
     "name": "stdout",
     "output_type": "stream",
     "text": [
      "tmp Best: [2.93756009 4.83732085 0.15851087 4.31652145] -4.322808221434077\n",
      "Best list:\n",
      "iter:  0     [2.93756009 4.83732085 0.15851087 4.31652145] -4.322808221434077\n",
      "\n",
      "\n",
      "tmp Worst: [1.20713608 9.56354772 3.39631536 9.41951072] -18.272283513853118\n",
      "Worst list:\n",
      "iter:  0     [1.20713608 9.56354772 3.39631536 9.41951072] -18.272283513853118\n",
      "\n",
      "\n"
     ]
    }
   ],
   "source": [
    "best = algorithm.find_best()\n",
    "print('tmp Best:', best.u, best.f)\n",
    "\n",
    "tmp = np.zeros(algorithm.u_dim)\n",
    "for i in range(algorithm.u_dim):\n",
    "    tmp[i] = best.u[i]     \n",
    "member_temp = Dragonfly(tmp, best.f)\n",
    "algorithm.best_list.append(member_temp)\n",
    "\n",
    "print('Best list:')\n",
    "print_some(algorithm.best_list)\n",
    "print('\\n')    \n",
    "    \n",
    "worst = algorithm.find_worst()\n",
    "print('tmp Worst:', worst.u, worst.f)\n",
    "\n",
    "tmp = np.zeros(algorithm.u_dim)\n",
    "for i in range(algorithm.u_dim):\n",
    "    tmp[i] = worst.u[i]\n",
    "member_temp = Dragonfly(tmp, worst.f)\n",
    "algorithm.worst_list.append(member_temp)\n",
    "\n",
    "print('Worst list:')\n",
    "print_some(algorithm.worst_list)\n",
    "print('\\n')    "
   ]
  },
  {
   "cell_type": "markdown",
   "metadata": {},
   "source": [
    "Проход по внешнему циклу max_iter (Повторить этот кусок кода max_iter раз)"
   ]
  },
  {
   "cell_type": "markdown",
   "metadata": {},
   "source": [
    "Перемещение стаи:"
   ]
  },
  {
   "cell_type": "code",
   "execution_count": 227,
   "metadata": {},
   "outputs": [
    {
     "name": "stdout",
     "output_type": "stream",
     "text": [
      "Population BEFORE moving:\n",
      "iter:  0     [ 0. 10.  0. 10.] -19.2\n",
      "iter:  1     [0. 0. 0. 0.] 0.0\n",
      "iter:  2     [0.81812012 0.         0.         0.        ] 0.031242361135367908\n",
      "iter:  3     [8.51265493 0.         0.         0.        ] -6.225010797288181\n",
      "iter:  4     [0.         3.08259679 0.         0.        ] -0.7036325523225796\n",
      "Population AFTER moving:\n",
      "iter:  0     [ 0. 10.  0. 10.] -19.2\n",
      "iter:  1     [4.12973038 0.         0.         0.        ] -1.2098996542559288\n",
      "iter:  2     [0.31004278 0.         0.         0.        ] 0.027592480985878687\n",
      "iter:  3     [10.  0.  0.  0.] -8.8\n",
      "iter:  4     [0.         5.45070642 0.         0.        ] -2.534963529350067\n",
      "\n",
      "\n",
      "\n",
      "\n",
      "tmp Best: [0.31004278 0.         0.         0.        ] 0.027592480985878687\n",
      "Best list:\n",
      "iter:  0     [2.93756009 4.83732085 0.15851087 4.31652145] -4.322808221434077\n",
      "iter:  1     [2.82657638 4.46689538 0.16235429 3.96096495] -3.662794099987888\n",
      "iter:  2     [2.61720878 3.76545356 0.05843796 3.28743989] -2.566270976104227\n",
      "iter:  3     [2.31393086 2.78546256 0.         2.34184999] -1.3592251961977582\n",
      "iter:  4     [1.9248984  1.59615645 0.         1.18817986] -0.40779173958090714\n",
      "iter:  5     [1.36055616 0.38913382 0.         0.00808913] -0.005862917885163438\n",
      "iter:  6     [0.81812012 0.         0.         0.        ] 0.031242361135367908\n",
      "iter:  7     [0.31004278 0.         0.         0.        ] 0.027592480985878687\n",
      "\n",
      "\n",
      "tmp Worst: [ 0. 10.  0. 10.] -19.2\n",
      "Worst list:\n",
      "iter:  0     [1.20713608 9.56354772 3.39631536 9.41951072] -18.272283513853118\n",
      "iter:  1     [1.17754335 8.98115182 3.20854121 8.84155672] -16.06341683683714\n",
      "iter:  2     [1.12586138 7.8575539  2.77712682 7.71756188] -12.153398441404843\n",
      "iter:  3     [1.0389687  6.29305292 2.12550891 6.144934  ] -7.582856473582819\n",
      "iter:  4     [4.96583269 0.         4.32305223 0.0715841 ] -3.566517905715246\n",
      "iter:  5     [ 0.          8.77224215  0.         10.        ] -16.99344386386842\n",
      "iter:  6     [ 0. 10.  0. 10.] -19.2\n",
      "iter:  7     [ 0. 10.  0. 10.] -19.2\n",
      "\n",
      "\n"
     ]
    }
   ],
   "source": [
    "print('Population BEFORE moving:')\n",
    "print_some(algorithm.population)\n",
    "\n",
    "\n",
    "algorithm.move_swarm(a)\n",
    "\n",
    "\n",
    "print('Population AFTER moving:')\n",
    "print_some(algorithm.population)\n",
    "print('\\n')\n",
    "print('\\n') \n",
    "\n",
    "\n",
    "tmp = np.zeros(algorithm.u_dim)\n",
    "best_temp = algorithm.find_best()\n",
    "print('tmp Best:', best_temp.u, best_temp.f)\n",
    "\n",
    "for j in range(algorithm.u_dim):\n",
    "    tmp[j] = best_temp.u[j]\n",
    "member_temp = Dragonfly(tmp, best_temp.f)\n",
    "algorithm.best_list.append(member_temp)\n",
    "print('Best list:')\n",
    "print_some(algorithm.best_list)\n",
    "print('\\n') \n",
    "\n",
    "            \n",
    "tmp = np.zeros(algorithm.u_dim)\n",
    "worst_temp = algorithm.find_worst()\n",
    "print('tmp Worst:', worst_temp.u, worst_temp.f)\n",
    "\n",
    "for j in range(algorithm.u_dim):\n",
    "    tmp[j] = worst_temp.u[j]\n",
    "member_temp = Dragonfly(tmp, worst_temp.f)\n",
    "algorithm.worst_list.append(member_temp)\n",
    "print('Worst list:')\n",
    "print_some(algorithm.worst_list)\n",
    "print('\\n') "
   ]
  },
  {
   "cell_type": "markdown",
   "metadata": {},
   "source": [
    "Лучшее и худшее значение стаи после работы алгоритма:"
   ]
  },
  {
   "cell_type": "code",
   "execution_count": 33,
   "metadata": {},
   "outputs": [
    {
     "name": "stdout",
     "output_type": "stream",
     "text": [
      "Best list final:\n",
      "iter:  0     [25.1303703  70.3661625  50.13678559 30.89572079] -894.4671080895477\n",
      "iter:  1     [ 3.44958265 88.35600442 27.79537758 26.00440916] -918.1552994705002\n",
      "iter:  2     [63.78730823 70.33013935 30.65138111  0.38135459] -980.9732353966588\n",
      "iter:  3     [  0. 100.   0.   0.] -992.0\n",
      "iter:  4     [  0. 100.   0.   0.] -992.0\n",
      "iter:  5     [  0. 100.   0.   0.] -992.0\n",
      "iter:  6     [  0. 100.   0.   0.] -992.0\n",
      "iter:  7     [  0. 100.   0.   0.] -992.0\n",
      "iter:  8     [  0. 100.   0.   0.] -992.0\n",
      "iter:  9     [64.70471265 70.9592961  29.31558565  0.23260689] -993.5239884077015\n",
      "iter:  10     [  0.         100.           2.43881972   5.18698267] -995.1877102890759\n",
      "\n",
      "\n",
      "Worst list final:\n",
      "iter:  0     [72.08885918 50.01437272 95.05602854 62.54758081] -2048.154898366681\n",
      "iter:  1     [ 7.06906835 72.25341041 80.32058416 83.23814306] -1855.2097899497887\n",
      "iter:  2     [ 1.30459531 77.15255765 72.60906628 79.24924877] -1741.440786965823\n",
      "iter:  3     [ 0.         94.84929821 48.18014066 70.95587108] -1625.729947089165\n",
      "iter:  4     [  0.         100.          25.62848309  62.6876843 ] -1449.6313515399306\n",
      "iter:  5     [  0.         100.           0.          65.88660613] -1426.1044866939008\n",
      "iter:  6     [  0.         100.           0.          65.33780583] -1418.9028870849095\n",
      "iter:  7     [  0.         100.           0.          63.97947737] -1401.33735244579\n",
      "iter:  8     [  0.         100.           0.          62.60220312] -1383.903583563376\n",
      "iter:  9     [  0.         100.           0.          60.56978203] -1358.869849520407\n",
      "iter:  10     [  0.         100.           0.          60.35239716] -1356.2411843116965\n"
     ]
    }
   ],
   "source": [
    "algorithm.best_list.sort(reverse=True, key=lambda dragonfly: dragonfly.f)\n",
    "algorithm.worst_list.sort(key=lambda dragonfly: dragonfly.f)\n",
    "print('Best list final:')\n",
    "print_some(algorithm.best_list)\n",
    "print('\\n')\n",
    "print('Worst list final:')\n",
    "print_some(algorithm.worst_list)"
   ]
  },
  {
   "cell_type": "code",
   "execution_count": 69,
   "metadata": {},
   "outputs": [],
   "source": [
    "#print(self.best_list[0].u, self.best_list[0].f,'  Presize = ', self.exact,'  Error = ', (self.exact-self.best_list[0].f))\n",
    "#self.make_best_x(self.best_list[0].u)"
   ]
  },
  {
   "cell_type": "markdown",
   "metadata": {},
   "source": [
    "# Заметки по коду\n"
   ]
  },
  {
   "cell_type": "markdown",
   "metadata": {},
   "source": [
    "Проверила работу алгоритма по итерациям. Значения вектора u только увеличиваются по модулю с каждой итерацией. Даже не видно какого-то движения к 0.12"
   ]
  },
  {
   "cell_type": "markdown",
   "metadata": {},
   "source": [
    "# Результат работы алгоритма:"
   ]
  },
  {
   "cell_type": "code",
   "execution_count": 47,
   "metadata": {},
   "outputs": [
    {
     "data": {
      "image/png": "[encoded data removed]",
      "text/plain": [
       "<Figure size 1296x432 with 3 Axes>"
      ]
     },
     "metadata": {},
     "output_type": "display_data"
    },
    {
     "name": "stdout",
     "output_type": "stream",
     "text": [
      "[ 2.33470797e-02  6.14017355e-01  2.58091476e+00  4.20959795e+01\n",
      "  5.74221428e-01  2.29980097e+01  5.21476773e+00  5.61995917e-01\n",
      "  4.84662261e+01  1.18419971e-04  9.09048605e-02 -5.33285722e-01\n",
      "  1.80430593e-02  7.33908502e-04  1.98220169e-02  4.95883498e-01\n",
      "  2.84449231e-01  3.49489738e-03  7.23310544e-02  5.63680777e+00\n",
      "  2.87579749e+01  2.38364277e-02  1.72604415e-06  1.87220590e+00] -107.32309441735245   Presize =  0.1568   Error =  107.47989441735245\n",
      "work time :     87.63\n"
     ]
    }
   ],
   "source": [
    "a = DiscreteSystem(25)\n",
    "algorithm = DragonflySwarm(80, a.N_step, 980, 0.047, 0.063, 0.08, 0.95, 0.22, 0.74, 1, 1, 100000, 3, 0.5)\n",
    "\n",
    "algorithm.Work(a)"
   ]
  },
  {
   "cell_type": "code",
   "execution_count": 35,
   "metadata": {},
   "outputs": [
    {
     "data": {
      "image/png": "[encoded data removed]",
      "text/plain": [
       "<Figure size 1296x432 with 3 Axes>"
      ]
     },
     "metadata": {},
     "output_type": "display_data"
    },
    {
     "name": "stdout",
     "output_type": "stream",
     "text": [
      "[1.49034795 0.00750761 0.35920956 0.53885643 0.20161833 0.57135598\n",
      " 0.59716848 0.67925205 1.03663437 0.46825154 0.68629164 0.11976743\n",
      " 0.02067007 0.01185031 0.50600726 0.49663594 0.04764474 0.60755483\n",
      " 0.03945624 0.06922201 0.07084863 0.02834188 0.0046615  0.01089908] 0.08450323053426456   Presize =  0.1568   Error =  0.07229676946573543\n",
      "work time :     57.82\n"
     ]
    }
   ],
   "source": [
    "a = DiscreteSystem(25)\n",
    "algorithm = DragonflySwarm(70, a.N_step, 800, 0.05, 0.06, 0.07, 0.95, 0.22, 0.74, 1, 1, 100000, 3, 0.5)\n",
    "algorithm.Work(a)"
   ]
  },
  {
   "cell_type": "code",
   "execution_count": 42,
   "metadata": {},
   "outputs": [
    {
     "data": {
      "image/png": "[encoded data removed]",
      "text/plain": [
       "<Figure size 1296x432 with 3 Axes>"
      ]
     },
     "metadata": {},
     "output_type": "display_data"
    },
    {
     "name": "stdout",
     "output_type": "stream",
     "text": [
      "[ 2.01266007 26.15023019  1.03721907 -0.22669756  8.36618104  2.57317681\n",
      "  0.52807393  1.26080115  8.26440457  2.75096997 10.00881682 23.7857479\n",
      "  2.25528804  1.57374653 17.94383135  0.54922272  1.53778509  2.16771769\n",
      "  8.00768142  0.27385413  4.53463743 37.13041797  0.06239125  0.06383923] -63.296068246624074   Presize =  0.1568   Error =  63.45286824662407\n",
      "work time :    124.38\n"
     ]
    }
   ],
   "source": [
    "a = DiscreteSystem(25)\n",
    "algorithm = DragonflySwarm(70, a.N_step, 1800, 0.03, 0.08, 0.07, 0.95, 0.22, 0.74, 1, 1, 100000, 3, 0.5)\n",
    "\n",
    "algorithm.Work(a)"
   ]
  },
  {
   "cell_type": "code",
   "execution_count": 8,
   "metadata": {},
   "outputs": [
    {
     "data": {
      "image/png": "[encoded data removed]",
      "text/plain": [
       "<Figure size 1296x432 with 3 Axes>"
      ]
     },
     "metadata": {},
     "output_type": "display_data"
    },
    {
     "name": "stdout",
     "output_type": "stream",
     "text": [
      "[-0.16917054  3.70965934  2.18996094  0.72673208  0.72259194  3.03709257\n",
      "  1.43300384 25.69848413  0.99550768 33.97095235  8.20491163  2.31857161\n",
      "  1.58338649  6.90070032  1.53180156  0.98717072  2.51238424  0.52820788\n",
      "  0.32591093  0.39603409  0.99143876 36.25678793  0.22772112  0.16438333] -63.53916910144368   Presize =  0.1568   Error =  63.69596910144368\n",
      "work time :    342.35\n"
     ]
    }
   ],
   "source": [
    "a = DiscreteSystem(25)\n",
    "algorithm = DragonflySwarm(120, a.N_step, 1500, 0.05, 0.06, 0.07, 0.95, 0.22, 0.74, 1, 1, 100000, 3, 0.5)\n",
    "\n",
    "algorithm.Work(a)"
   ]
  },
  {
   "cell_type": "code",
   "execution_count": 7,
   "metadata": {},
   "outputs": [
    {
     "data": {
      "image/png": "[encoded data removed]",
      "text/plain": [
       "<Figure size 1296x432 with 3 Axes>"
      ]
     },
     "metadata": {},
     "output_type": "display_data"
    },
    {
     "name": "stdout",
     "output_type": "stream",
     "text": [
      "[37.30952933 39.49338167  4.94836035 26.68209158 50.11612542  0.7709202\n",
      " 26.169508   18.28945736 60.03689882  8.10305715  2.32771313 20.00533798\n",
      " 14.21454316 42.32153513 42.29716494 72.32127442 53.57222869 53.53578873\n",
      " 53.61574647 24.24808037 40.64158096  3.03721041 94.32031064  4.32218544] -788.573520400901   Presize =  0.1568   Error =  788.730320400901\n",
      "work time :    115.78\n"
     ]
    }
   ],
   "source": [
    "b = DiscreteSystem(25)\n",
    "algorithm_ = DragonflySwarm(165, a.N_step, 500,  0.95, 1, 0.8, 0.5, 0.98, 0.3, 1, 1, 10, 2, 0.5)\n",
    "algorithm_.Work(b)"
   ]
  },
  {
   "cell_type": "markdown",
   "metadata": {},
   "source": [
    "# Вспомогательные функции для вывода значений векторов"
   ]
  },
  {
   "cell_type": "code",
   "execution_count": 32,
   "metadata": {},
   "outputs": [],
   "source": [
    "algorithm.make_best_x(u)"
   ]
  },
  {
   "cell_type": "code",
   "execution_count": 71,
   "metadata": {},
   "outputs": [
    {
     "name": "stdout",
     "output_type": "stream",
     "text": [
      "[0.        0.        3.6301029] [0.         3.6301029  9.44602777]\n"
     ]
    }
   ],
   "source": [
    "print(algorithm.best_x1, algorithm.best_x2)"
   ]
  },
  {
   "cell_type": "code",
   "execution_count": 66,
   "metadata": {},
   "outputs": [],
   "source": [
    "# for i in range(len(algorithm.population)):\n",
    "#     print(algorithm.velocity_list[i])"
   ]
  },
  {
   "cell_type": "code",
   "execution_count": 708,
   "metadata": {},
   "outputs": [],
   "source": [
    " best_p = min(algorithm.population, key=lambda member: member.f)"
   ]
  },
  {
   "cell_type": "code",
   "execution_count": 709,
   "metadata": {},
   "outputs": [
    {
     "name": "stdout",
     "output_type": "stream",
     "text": [
      "[32.84702181678559, 72.32152261790766, 78.0821131182933] -1542.142260237141\n"
     ]
    }
   ],
   "source": [
    "print(best_p.u, best_p.f)"
   ]
  },
  {
   "cell_type": "code",
   "execution_count": 109,
   "metadata": {},
   "outputs": [],
   "source": [
    "#algorithm.make_best_x(algorithm.best_list[0].u)"
   ]
  },
  {
   "cell_type": "code",
   "execution_count": 110,
   "metadata": {},
   "outputs": [],
   "source": [
    "#algorithm.best_list[0].u"
   ]
  },
  {
   "cell_type": "code",
   "execution_count": 5,
   "metadata": {},
   "outputs": [],
   "source": [
    "list_1 = [1.49034795, 0.00750761, 0.35920956, 0.53885643, 0.20161833, 0.57135598, 0.59716848, 0.67925205, 1.03663437, 0.46825154, 0.68629164, 0.11976743, 0.02067007, 0.01185031, 0.50600726, 0.49663594, 0.04764474, 0.60755483, 0.03945624, 0.06922201, 0.07084863, 0.02834188, 0.0046615, 0.01089908]"
   ]
  },
  {
   "cell_type": "code",
   "execution_count": 6,
   "metadata": {},
   "outputs": [
    {
     "data": {
      "text/plain": [
       "[1.49034795,\n",
       " 0.00750761,\n",
       " 0.35920956,\n",
       " 0.53885643,\n",
       " 0.20161833,\n",
       " 0.57135598,\n",
       " 0.59716848,\n",
       " 0.67925205,\n",
       " 1.03663437,\n",
       " 0.46825154,\n",
       " 0.68629164,\n",
       " 0.11976743,\n",
       " 0.02067007,\n",
       " 0.01185031,\n",
       " 0.50600726,\n",
       " 0.49663594,\n",
       " 0.04764474,\n",
       " 0.60755483,\n",
       " 0.03945624,\n",
       " 0.06922201,\n",
       " 0.07084863,\n",
       " 0.02834188,\n",
       " 0.0046615,\n",
       " 0.01089908]"
      ]
     },
     "execution_count": 6,
     "metadata": {},
     "output_type": "execute_result"
    }
   ],
   "source": [
    "list_1"
   ]
  },
  {
   "cell_type": "code",
   "execution_count": 7,
   "metadata": {},
   "outputs": [
    {
     "data": {
      "text/plain": [
       "Text(0.5,0,'t')"
      ]
     },
     "execution_count": 7,
     "metadata": {},
     "output_type": "execute_result"
    },
    {
     "data": {
      "image/png": "[encoded data removed]",
      "text/plain": [
       "<Figure size 1296x432 with 1 Axes>"
      ]
     },
     "metadata": {},
     "output_type": "display_data"
    }
   ],
   "source": [
    "plt.figure(figsize=(18, 6))\n",
    "plt.subplot(1,3,1)\n",
    "plt.plot(list_1, '.')\n",
    "plt.ylabel('u')\n",
    "plt.xlabel('t')"
   ]
  },
  {
   "cell_type": "markdown",
   "metadata": {},
   "source": [
    "# Некоторые результаты"
   ]
  },
  {
   "cell_type": "markdown",
   "metadata": {},
   "source": [
    "algorithm = DragonflySwarm(70, a.N_step, 800, 0.05, 0.06, 0.07, 0.95, 0.22, 0.74, 1, 1, 100000, 3, 0.5)\n",
    "[1.49034795 0.00750761 0.35920956 0.53885643 0.20161833 0.57135598\n",
    " 0.59716848 0.67925205 1.03663437 0.46825154 0.68629164 0.11976743\n",
    " 0.02067007 0.01185031 0.50600726 0.49663594 0.04764474 0.60755483\n",
    " 0.03945624 0.06922201 0.07084863 0.02834188 0.0046615  0.01089908] 0.08450323053426456   Presize =  0.1568   Error =  0.07229676946573543\n",
    "work time :     57.82"
   ]
  },
  {
   "cell_type": "code",
   "execution_count": null,
   "metadata": {},
   "outputs": [],
   "source": []
  }
 ],
 "metadata": {
  "kernelspec": {
   "display_name": "Python 3",
   "language": "python",
   "name": "python3"
  },
  "language_info": {
   "codemirror_mode": {
    "name": "ipython",
    "version": 3
   },
   "file_extension": ".py",
   "mimetype": "text/x-python",
   "name": "python",
   "nbconvert_exporter": "python",
   "pygments_lexer": "ipython3",
   "version": "3.6.5"
  }
 },
 "nbformat": 4,
 "nbformat_minor": 2
}
