{
 "cells": [
  {
   "cell_type": "code",
   "execution_count": 1,
   "metadata": {},
   "outputs": [],
   "source": [
    "import math as m\n",
    "import numpy as np\n",
    "import pandas as pd\n",
    "import seaborn as sns\n",
    "from copy import deepcopy\n",
    "from typing import List, Tuple, Dict\n",
    "import matplotlib.pyplot as plt\n",
    "import time\n",
    "import scipy.stats as sc\n",
    "from scipy.stats import laplace\n",
    "from sklearn.linear_model import LinearRegression"
   ]
  },
  {
   "cell_type": "markdown",
   "metadata": {},
   "source": [
    "# Задание 1. \n"
   ]
  },
  {
   "cell_type": "markdown",
   "metadata": {},
   "source": [
    "Смоделируем измерения Yk c ошибками, имеющими распределение Лапласа\n"
   ]
  },
  {
   "cell_type": "markdown",
   "metadata": {},
   "source": [
    "Начальные условия:"
   ]
  },
  {
   "cell_type": "code",
   "execution_count": 28,
   "metadata": {},
   "outputs": [],
   "source": [
    "n = 30 # количество измерений, 30-40\n",
    "h = 6 # шаг измерений, 3-6 с\n",
    "v = 0.2 # скорость, 0.2-0.3 км/с\n",
    "sko = 1 # СКО, 1-2 км\n",
    "m = 0 # математическое ожидание\n",
    "alpha = 0.05 # уровень значимости доверительного интервала\n",
    "probability = 1 - alpha # вероятность попадания величины в промежуток (-u_a; u_a)\n",
    "ur_znach = 1.96 # значение по таблице \n",
    "# Ф(x) = (1 - alpha) / 2 = 0.95 / 2 = 0.475"
   ]
  },
  {
   "cell_type": "markdown",
   "metadata": {},
   "source": [
    "Создадим список с тактами, в которые происходят измерения:"
   ]
  },
  {
   "cell_type": "code",
   "execution_count": 29,
   "metadata": {},
   "outputs": [],
   "source": [
    "t = np.array([(h * i) for i in range(n)]) #такты, в которые происходят измерения"
   ]
  },
  {
   "cell_type": "code",
   "execution_count": 30,
   "metadata": {},
   "outputs": [
    {
     "name": "stdout",
     "output_type": "stream",
     "text": [
      "[  0   6  12  18  24  30  36  42  48  54  60  66  72  78  84  90  96 102\n",
      " 108 114 120 126 132 138 144 150 156 162 168 174]\n"
     ]
    }
   ],
   "source": [
    "print(t)"
   ]
  },
  {
   "cell_type": "markdown",
   "metadata": {},
   "source": [
    "Зададим начальные координаты. При этом должно выполняться условие 100 < (x*x + y*y)^0.5 < 150"
   ]
  },
  {
   "cell_type": "code",
   "execution_count": 31,
   "metadata": {},
   "outputs": [],
   "source": [
    "x_0 = 0\n",
    "y_0 = 150"
   ]
  },
  {
   "cell_type": "markdown",
   "metadata": {},
   "source": [
    "Вычислим координаты в каждый момент времени:"
   ]
  },
  {
   "cell_type": "code",
   "execution_count": 32,
   "metadata": {},
   "outputs": [],
   "source": [
    "x_izm = np.array([x_0 + v * i * np.cos(30) for i in t ])\n",
    "y_izm = np.array([y_0 + v * i * np.sin(30) for i in t ])"
   ]
  },
  {
   "cell_type": "code",
   "execution_count": 33,
   "metadata": {},
   "outputs": [],
   "source": [
    "# plt.figure(figsize=(18, 10))\n",
    "# plt.plot(x_izm, y_izm, label = 'Траектория полета ЛА')\n",
    "# plt.ylabel('Y')\n",
    "# plt.xlabel('X')\n",
    "# plt.legend(bbox_to_anchor=(0.8, 0.8), loc='upper left', borderaxespad=0.)\n",
    "# plt.show()"
   ]
  },
  {
   "cell_type": "markdown",
   "metadata": {},
   "source": [
    "Сформируем набор истинных измерений (без учета ошибок), как быдто мы знаем точную дальность r ЛА в каждый такт"
   ]
  },
  {
   "cell_type": "code",
   "execution_count": 34,
   "metadata": {},
   "outputs": [],
   "source": [
    "r_real = (np.array(x_izm)**2 + np.array(y_izm)**2)**0.5"
   ]
  },
  {
   "cell_type": "code",
   "execution_count": 35,
   "metadata": {
    "scrolled": true
   },
   "outputs": [
    {
     "data": {
      "text/plain": [
       "array([150.        , 148.81447717, 147.62918827, 146.44413899,\n",
       "       145.2593352 , 144.07478293, 142.89048846, 141.70645824,\n",
       "       140.52269896, 139.33921752, 138.15602105, 136.97311696,\n",
       "       135.79051286, 134.60821669, 133.4262366 , 132.2445811 ,\n",
       "       131.06325894, 129.88227924, 128.70165141, 127.52138523,\n",
       "       126.34149084, 125.16197874, 123.98285985, 122.8041455 ,\n",
       "       121.62584745, 120.44797791, 119.27054959, 118.09357567,\n",
       "       116.91706988, 115.7410465 ])"
      ]
     },
     "execution_count": 35,
     "metadata": {},
     "output_type": "execute_result"
    }
   ],
   "source": [
    "r_real"
   ]
  },
  {
   "cell_type": "markdown",
   "metadata": {},
   "source": [
    "### Пункт 1. Ошибки с нормальным распределением"
   ]
  },
  {
   "cell_type": "markdown",
   "metadata": {},
   "source": [
    "График плотности нормального распределения (просто нарисовали для пониамния, с чем работаем)"
   ]
  },
  {
   "cell_type": "code",
   "execution_count": 36,
   "metadata": {},
   "outputs": [],
   "source": [
    "def gaussian(x, mu, sigma):\n",
    "     return (1 / (sigma * np.sqrt(2 * np.pi))) * np.exp(- 0.5 * (x - mu)**2 / sigma**0.5)"
   ]
  },
  {
   "cell_type": "code",
   "execution_count": 37,
   "metadata": {},
   "outputs": [],
   "source": [
    "disrt_x = np.arange(-3, 3, 0.05)"
   ]
  },
  {
   "cell_type": "code",
   "execution_count": 38,
   "metadata": {},
   "outputs": [
    {
     "data": {
      "image/png": "[encoded data removed]",
      "text/plain": [
       "<Figure size 432x288 with 1 Axes>"
      ]
     },
     "metadata": {},
     "output_type": "display_data"
    }
   ],
   "source": [
    "plt.plot(disrt_x, [gaussian(i, m, sko) for i in disrt_x], label='$\\sigma = 1$')\n",
    "plt.legend()\n",
    "plt.show()"
   ]
  },
  {
   "cell_type": "markdown",
   "metadata": {},
   "source": [
    "Добавим на измерения ошибки, распределенные нормально"
   ]
  },
  {
   "cell_type": "markdown",
   "metadata": {},
   "source": [
    "С помощью встроенной функции на питон, выдающей случаные величины по заданному распределению, получим вектор ошибок, распределенных нормало"
   ]
  },
  {
   "cell_type": "code",
   "execution_count": 39,
   "metadata": {},
   "outputs": [],
   "source": [
    "Wk = np.array([np.random.normal(-1, 1) for i in range(n)]) # дисперсия 1 км"
   ]
  },
  {
   "cell_type": "code",
   "execution_count": 40,
   "metadata": {},
   "outputs": [
    {
     "data": {
      "text/plain": [
       "array([ 0.57354114, -1.78397407, -1.20308596, -1.11268098, -2.0662332 ,\n",
       "       -0.22486884, -1.49939334, -2.15456676, -0.50557923, -1.92250923,\n",
       "       -0.98332428, -2.00761973, -2.77420524, -2.85725164, -1.42215494,\n",
       "        0.84086673,  0.84667906, -0.62080968, -1.88124653, -0.58702657,\n",
       "       -1.52398775, -0.16674742, -0.34803259,  0.52018176, -0.38132003,\n",
       "        0.06368932, -1.20080834, -0.11156761,  0.09934664, -0.96494693])"
      ]
     },
     "execution_count": 40,
     "metadata": {},
     "output_type": "execute_result"
    }
   ],
   "source": [
    "Wk"
   ]
  },
  {
   "cell_type": "code",
   "execution_count": 9,
   "metadata": {},
   "outputs": [
    {
     "data": {
      "text/plain": [
       "-0.23656118720227826"
      ]
     },
     "execution_count": 9,
     "metadata": {},
     "output_type": "execute_result"
    }
   ],
   "source": [
    "np.random.laplace(0,1)"
   ]
  },
  {
   "cell_type": "markdown",
   "metadata": {},
   "source": [
    "Напишем функцию плостности нормального распределения (проверить!)"
   ]
  },
  {
   "cell_type": "code",
   "execution_count": 41,
   "metadata": {},
   "outputs": [],
   "source": [
    "# def f_norm(x):\n",
    "#     return 1 / (sko * (2 * np.pi)**0.5) * np.exp((x - m)**2/(2 * sko**2))"
   ]
  },
  {
   "cell_type": "code",
   "execution_count": 42,
   "metadata": {},
   "outputs": [],
   "source": [
    "Yk_1 = r_real + np.array(Wk)"
   ]
  },
  {
   "cell_type": "code",
   "execution_count": 43,
   "metadata": {},
   "outputs": [
    {
     "data": {
      "text/plain": [
       "array([150.57354114, 147.0305031 , 146.42610231, 145.33145802,\n",
       "       143.19310199, 143.84991409, 141.39109512, 139.55189148,\n",
       "       140.01711973, 137.41670829, 137.17269677, 134.96549722,\n",
       "       133.01630763, 131.75096505, 132.00408167, 133.08544782,\n",
       "       131.909938  , 129.26146956, 126.82040488, 126.93435866,\n",
       "       124.81750309, 124.99523132, 123.63482726, 123.32432726,\n",
       "       121.24452742, 120.51166723, 118.06974124, 117.98200806,\n",
       "       117.01641652, 114.77609957])"
      ]
     },
     "execution_count": 43,
     "metadata": {},
     "output_type": "execute_result"
    }
   ],
   "source": [
    "Yk_1"
   ]
  },
  {
   "cell_type": "markdown",
   "metadata": {},
   "source": [
    "### Пункт 2. Ошибки с распределением Лапласа"
   ]
  },
  {
   "cell_type": "markdown",
   "metadata": {},
   "source": [
    "Плотность распределения Лапласса"
   ]
  },
  {
   "cell_type": "code",
   "execution_count": 44,
   "metadata": {},
   "outputs": [],
   "source": [
    "def lapl(x): \n",
    "    return 1/(sko * 2**0.5) * np.exp(-abs(x) * 2**0.5 / sko)"
   ]
  },
  {
   "cell_type": "code",
   "execution_count": 45,
   "metadata": {},
   "outputs": [
    {
     "data": {
      "image/png": "[encoded data removed]",
      "text/plain": [
       "<Figure size 432x288 with 1 Axes>"
      ]
     },
     "metadata": {},
     "output_type": "display_data"
    }
   ],
   "source": [
    "plt.plot(disrt_x, [lapl(i) for i in disrt_x], label='$\\sigma = 1$')\n",
    "plt.legend()\n",
    "plt.show()"
   ]
  },
  {
   "cell_type": "code",
   "execution_count": 46,
   "metadata": {},
   "outputs": [],
   "source": [
    "#sc.norm.cdf(np.linspace(0,1,101)) - 0.5"
   ]
  },
  {
   "cell_type": "markdown",
   "metadata": {},
   "source": [
    "# Задание 2."
   ]
  },
  {
   "cell_type": "markdown",
   "metadata": {},
   "source": [
    "Решение аналитически, матричным способом"
   ]
  },
  {
   "cell_type": "code",
   "execution_count": null,
   "metadata": {},
   "outputs": [],
   "source": []
  },
  {
   "cell_type": "code",
   "execution_count": 47,
   "metadata": {},
   "outputs": [],
   "source": [
    "A = sum(Yk_1)\n",
    "B = sum(t * Yk_1)\n",
    "ResC = np.array([A, B])"
   ]
  },
  {
   "cell_type": "code",
   "execution_count": 48,
   "metadata": {},
   "outputs": [],
   "source": [
    "c11 = n\n",
    "c12 = sum(np.array(t))\n",
    "c21 = sum(np.array(t))\n",
    "c22 = sum(np.array(t)**2)\n",
    "C = np.array([[c11, c12], [c21, c22]])"
   ]
  },
  {
   "cell_type": "code",
   "execution_count": 49,
   "metadata": {},
   "outputs": [],
   "source": [
    "C1 = np.array([[A, c12], \\\n",
    "               [B, c22]])\n",
    "C2 = np.array([[c11, A],\\\n",
    "               [c21, B]])"
   ]
  },
  {
   "cell_type": "code",
   "execution_count": 50,
   "metadata": {},
   "outputs": [],
   "source": [
    "C1det = np.linalg.det(C1)\n",
    "C2det = np.linalg.det(C2)\n",
    "Cdet = np.linalg.det(C)"
   ]
  },
  {
   "cell_type": "code",
   "execution_count": 51,
   "metadata": {},
   "outputs": [
    {
     "name": "stdout",
     "output_type": "stream",
     "text": [
      "148.51190874766837 -0.19052962105323143\n"
     ]
    }
   ],
   "source": [
    "thet1 = C1det / Cdet\n",
    "thet2 = C2det / Cdet\n",
    "print(thet1, thet2)\n",
    "r = thet1 + thet2 * np.array(t)"
   ]
  },
  {
   "cell_type": "markdown",
   "metadata": {},
   "source": [
    "Функция \"из коробки\""
   ]
  },
  {
   "cell_type": "code",
   "execution_count": 52,
   "metadata": {},
   "outputs": [
    {
     "name": "stdout",
     "output_type": "stream",
     "text": [
      "148.51190874766837 -0.19052962105323132\n"
     ]
    }
   ],
   "source": [
    "theta_1, theta_2 = np.linalg.solve(C, ResC)\n",
    "print(theta_1, theta_2)\n",
    "r1 = theta_1 + theta_2 * np.array(t)"
   ]
  },
  {
   "cell_type": "markdown",
   "metadata": {},
   "source": [
    "Подсчет с помощью функции:"
   ]
  },
  {
   "cell_type": "code",
   "execution_count": 53,
   "metadata": {},
   "outputs": [],
   "source": [
    "from numpy.linalg import inv\n",
    "def mls(k, x, y):\n",
    "    x = np.array(x)\n",
    "    t = np.array([[i**j for i in x] for j in reversed(range(k))])\n",
    "    t_trans = np.transpose(t)\n",
    "    g = t @ t_trans\n",
    "    a = inv(g) @ t @ y\n",
    "    return a"
   ]
  },
  {
   "cell_type": "code",
   "execution_count": 54,
   "metadata": {},
   "outputs": [
    {
     "name": "stdout",
     "output_type": "stream",
     "text": [
      "-0.1905296210532299 148.51190874766814\n"
     ]
    }
   ],
   "source": [
    "theta_01, theta_02 = mls(2, t, Yk_1)\n",
    "print(theta_01, theta_02)\n",
    "r0 = theta_02 + theta_01 * np.array(t)"
   ]
  },
  {
   "cell_type": "markdown",
   "metadata": {},
   "source": [
    "Построение доверительного интервала\n",
    "\n",
    "Посчитаем границы промежутка (-u_a; u_a):"
   ]
  },
  {
   "cell_type": "code",
   "execution_count": null,
   "metadata": {},
   "outputs": [],
   "source": []
  },
  {
   "cell_type": "markdown",
   "metadata": {},
   "source": [
    "Дисперсия МНК-оценки, выборочная дисперсия"
   ]
  },
  {
   "cell_type": "code",
   "execution_count": 34,
   "metadata": {},
   "outputs": [],
   "source": [
    "# u = (ur_znach * sko / (n)**2)\n",
    "# print(u)"
   ]
  },
  {
   "cell_type": "code",
   "execution_count": 55,
   "metadata": {},
   "outputs": [],
   "source": [
    "S = 1 / n * sum((r - np.mean(r))**2)"
   ]
  },
  {
   "cell_type": "markdown",
   "metadata": {},
   "source": [
    "Доверительный интервал:"
   ]
  },
  {
   "cell_type": "code",
   "execution_count": 57,
   "metadata": {},
   "outputs": [],
   "source": [
    "r_uleft = r - ur_znach * S**0.5\n",
    "r_urght = r + ur_znach * S**0.5"
   ]
  },
  {
   "cell_type": "markdown",
   "metadata": {},
   "source": [
    "Графики истинной, измеренной, оцененной дальности, доверительного интервала"
   ]
  },
  {
   "cell_type": "code",
   "execution_count": 58,
   "metadata": {},
   "outputs": [
    {
     "data": {
      "image/png": "[encoded data removed]",
      "text/plain": [
       "<Figure size 1080x720 with 1 Axes>"
      ]
     },
     "metadata": {},
     "output_type": "display_data"
    }
   ],
   "source": [
    "plt.figure(figsize=(15, 10))\n",
    "plt.plot(t, r_real, label = 'Истинная дальность')\n",
    "plt.plot(t, Yk_1, '.', label = 'Измеренная дальность')\n",
    "# plt.plot(t, r0, label = 'Оцененная дальность, Dima')\n",
    "plt.plot(t, r, label = 'Оцененная дальность, MATRIX')\n",
    "plt.plot(t, r_uleft, 'pink', label = 'Нижняя граница дов. интервала')\n",
    "plt.plot(t, r_urght, 'pink', label = 'Верхняя граница дов. интервала')\n",
    "plt.ylabel('Distanse')\n",
    "plt.xlabel('t')\n",
    "plt.legend(bbox_to_anchor=(0.5, 0.8), loc='upper left', borderaxespad=0.)\n",
    "\n",
    "plt.show()"
   ]
  },
  {
   "cell_type": "code",
   "execution_count": 59,
   "metadata": {},
   "outputs": [
    {
     "data": {
      "image/png": "[encoded data removed]",
      "text/plain": [
       "<Figure size 1080x720 with 1 Axes>"
      ]
     },
     "metadata": {},
     "output_type": "display_data"
    }
   ],
   "source": [
    "plt.figure(figsize=(15, 10))\n",
    "plt.plot(t, r_real, label = 'Истинная дальность')\n",
    "plt.plot(t, Yk_1, '.', label = 'Измеренная дальность')\n",
    "# plt.plot(t, r0, label = 'Оцененная дальность, Dima')\n",
    "plt.plot(t, r, label = 'Оцененная дальность, MATRIX')\n",
    "plt.ylabel('Distanse')\n",
    "plt.xlabel('t')\n",
    "plt.legend(bbox_to_anchor=(0.5, 0.8), loc='upper left', borderaxespad=0.)\n",
    "\n",
    "plt.show()"
   ]
  },
  {
   "cell_type": "markdown",
   "metadata": {},
   "source": [
    "# Задание 3."
   ]
  },
  {
   "cell_type": "markdown",
   "metadata": {},
   "source": [
    "Решим задачу поиска параметров матричным способом"
   ]
  },
  {
   "cell_type": "code",
   "execution_count": 60,
   "metadata": {},
   "outputs": [
    {
     "name": "stdout",
     "output_type": "stream",
     "text": [
      "[[        30       2610     307980]\n",
      " [      2610     307980   40872600]\n",
      " [    307980   40872600 5785342704]]\n"
     ]
    }
   ],
   "source": [
    "d11 = n\n",
    "d12 = sum(t)\n",
    "d13 =sum(t**2)\n",
    "d21 = sum(t)\n",
    "d22 = sum(t**2)\n",
    "d23 = sum(t**3)\n",
    "d31 = sum(t**2)\n",
    "d32 = sum(t**3)\n",
    "d33 = sum (t**4)\n",
    "D = np.array([[d11, d12, d13], \\\n",
    "             [d21, d22, d23], \\\n",
    "             [d31, d32, d33]])\n",
    "print(D)"
   ]
  },
  {
   "cell_type": "code",
   "execution_count": 61,
   "metadata": {},
   "outputs": [
    {
     "name": "stdout",
     "output_type": "stream",
     "text": [
      "[3.95807495e+03 3.28936769e+05 3.79673278e+07]\n"
     ]
    }
   ],
   "source": [
    "A_1 = sum(Yk_1)\n",
    "A_2 = sum(Yk_1 * t)\n",
    "A_3 = sum(Yk_1 * t**2)\n",
    "A_ = np.array([A_1, A_2, A_3])\n",
    "print(A_)"
   ]
  },
  {
   "cell_type": "code",
   "execution_count": 62,
   "metadata": {},
   "outputs": [
    {
     "name": "stdout",
     "output_type": "stream",
     "text": [
      "148.96192980948055 -0.20660180183223742 9.236885505175788e-05\n"
     ]
    }
   ],
   "source": [
    "teta_1, teta_2, teta_3 = np.linalg.solve(D, A_)\n",
    "print(teta_1, teta_2, teta_3)\n",
    "r_ = teta_1 + teta_2 * t + teta_3 * t**2 / 2"
   ]
  },
  {
   "cell_type": "markdown",
   "metadata": {},
   "source": [
    "Аналогично заданию 2 построим графические данные для задания 3\n",
    "\n",
    "Границы промежутка:"
   ]
  },
  {
   "cell_type": "markdown",
   "metadata": {},
   "source": [
    "Дисперсия МНК-оценки, выборочная дисперсия"
   ]
  },
  {
   "cell_type": "code",
   "execution_count": 63,
   "metadata": {},
   "outputs": [],
   "source": [
    "S = 1 / n * sum((r_ - np.mean(r_))**2)"
   ]
  },
  {
   "cell_type": "markdown",
   "metadata": {},
   "source": [
    "Графики истинной, измеренной, оцененной дальности, доверительного интервала"
   ]
  },
  {
   "cell_type": "code",
   "execution_count": 64,
   "metadata": {},
   "outputs": [],
   "source": [
    "r_uleft_3 = r_ - ur_znach * S**0.5\n",
    "r_urght_3 = r_ + ur_znach * S**0.5"
   ]
  },
  {
   "cell_type": "code",
   "execution_count": 65,
   "metadata": {
    "scrolled": true
   },
   "outputs": [
    {
     "data": {
      "image/png": "[encoded data removed]",
      "text/plain": [
       "<Figure size 576x360 with 1 Axes>"
      ]
     },
     "metadata": {},
     "output_type": "display_data"
    }
   ],
   "source": [
    "plt.figure(figsize=(8, 5))\n",
    "plt.plot(t, r_real, label = 'Истинная дальность')\n",
    "plt.plot(t, Yk_1, '.', label = 'Измеренная дальность')\n",
    "# plt.plot(t, r0, label = 'Оцененная дальность, Dima')\n",
    "plt.plot(t, r_, label = 'Оцененная дальность, MATRIX')\n",
    "plt.plot(t, r_uleft_3, 'pink', label = 'Нижняя граница дов. интервала')\n",
    "plt.plot(t, r_urght_3, 'pink', label = 'Верхняя граница дов. интервала')\n",
    "plt.ylabel('Distanse')\n",
    "plt.xlabel('t')\n",
    "plt.legend(bbox_to_anchor=(0.5, 0.8), loc='upper left', borderaxespad=0.)\n",
    "\n",
    "plt.show()"
   ]
  },
  {
   "cell_type": "markdown",
   "metadata": {},
   "source": [
    "# Задание 4"
   ]
  },
  {
   "cell_type": "markdown",
   "metadata": {},
   "source": [
    "На уровне значимости $\\alpha$ проверить гипотезу $H_{0} : \\{\\theta_{3}=0\\}$\n",
    "\n",
    "\n",
    "Найдем t-критическое по таблице распределения Стьюдента на уровне значимости $\\alpha = 0,05$. \n",
    "$t_{n-k}$, где $n$ - число измерений (величина выборки), $k$ - число оцениваемых параметров\n",
    "$t_{30-3}=t_{27}=2,0518$ "
   ]
  },
  {
   "cell_type": "code",
   "execution_count": 181,
   "metadata": {},
   "outputs": [],
   "source": [
    "t_cr = 2.0518"
   ]
  },
  {
   "cell_type": "markdown",
   "metadata": {},
   "source": [
    "Дисперсия оцененной дальности"
   ]
  },
  {
   "cell_type": "code",
   "execution_count": 180,
   "metadata": {},
   "outputs": [
    {
     "name": "stdout",
     "output_type": "stream",
     "text": [
      "103.99954536103446\n"
     ]
    }
   ],
   "source": [
    "varRes = sum([(xi - np.mean(r_))**2 for xi in r_]) / (len(r_) -1)\n",
    "print(varRes)"
   ]
  },
  {
   "cell_type": "markdown",
   "metadata": {},
   "source": [
    "Вычисление матрицы ковариации для оценки параметров"
   ]
  },
  {
   "cell_type": "markdown",
   "metadata": {},
   "source": [
    "Матрица T - это матрица X из формулы в видео мужика про составление матрицы ковариации (см крайнее фото в телеграме черной ручкой, сама формула в вк на листочке черной ручкой, видео в вк ссылка)"
   ]
  },
  {
   "cell_type": "code",
   "execution_count": 149,
   "metadata": {},
   "outputs": [],
   "source": [
    "T = np.matrix([np.ones(n), t, t**2/2])"
   ]
  },
  {
   "cell_type": "markdown",
   "metadata": {},
   "source": [
    "Транспонируем, чтобы она приняла правильный вид для дальнейших действий (а то она сейчас записана в виде строк питоном)"
   ]
  },
  {
   "cell_type": "code",
   "execution_count": 151,
   "metadata": {},
   "outputs": [],
   "source": [
    "T = T.transpose()"
   ]
  },
  {
   "cell_type": "code",
   "execution_count": 183,
   "metadata": {},
   "outputs": [],
   "source": [
    "COV = varRes * inv(T.transpose().dot(T))"
   ]
  },
  {
   "cell_type": "code",
   "execution_count": 184,
   "metadata": {},
   "outputs": [
    {
     "data": {
      "text/plain": [
       "matrix([[ 2.73837513e+01, -6.18545683e-01,  5.82434730e-03],\n",
       "        [-6.18545683e-01,  1.93824523e-02, -2.08012404e-04],\n",
       "        [ 5.82434730e-03, -2.08012404e-04,  2.39094717e-06]])"
      ]
     },
     "execution_count": 184,
     "metadata": {},
     "output_type": "execute_result"
    }
   ],
   "source": [
    "COV"
   ]
  },
  {
   "cell_type": "markdown",
   "metadata": {},
   "source": [
    "Для расчета доверительного интервала необходим параметр на диагонали - стандартная ошибка: $se_{teta}$"
   ]
  },
  {
   "cell_type": "markdown",
   "metadata": {},
   "source": [
    "для того, чтобы запомнить или провести ананлогию, будем считать, что se_teta - аналог среднеквадратического отклонения (НЕ ГОВОРИТЬ ЭТО ПРЕПУ! УБЬЕТ!)"
   ]
  },
  {
   "cell_type": "markdown",
   "metadata": {},
   "source": [
    "НАХОДИТСЯ ПО ФОРМУЛЕ ИЗ ВИДЕО МУЖИКА"
   ]
  },
  {
   "cell_type": "code",
   "execution_count": 188,
   "metadata": {},
   "outputs": [],
   "source": [
    "se_teta = COV[2, 2]**0.5"
   ]
  },
  {
   "cell_type": "markdown",
   "metadata": {},
   "source": [
    "Доверительный интервал для параметра $\\theta_{3}=0$ расчитывается по формуле:"
   ]
  },
  {
   "cell_type": "code",
   "execution_count": 195,
   "metadata": {},
   "outputs": [
    {
     "name": "stdout",
     "output_type": "stream",
     "text": [
      "Доверительный интервал для teta_3:\n",
      "[ -0.003126195535784051 , 0.0032190730654477664 ]\n"
     ]
    }
   ],
   "source": [
    "print('Доверительный интервал для teta_3:')\n",
    "print('[', teta_3 - t_cr * se_teta, ',', teta_3 + t_cr * se_teta, ']')"
   ]
  },
  {
   "cell_type": "markdown",
   "metadata": {},
   "source": [
    "Так как 0 попадает в доверительный интервал, построенный для $\\theta_{3}=0$, гипотеза $H_{0} : \\{\\theta_{3}=0\\}$ не отклоняется.\n",
    "\n",
    "Для аппроксимации достаточно выбрать модель простой линейной регрессии,  так как гипмотеза о тета=0 подтвердилась, значит, третий оцененный параметр не влияет на уравнение дальности (так как ЛА по условию задачи движется равномерно и прямолинейно )"
   ]
  },
  {
   "cell_type": "markdown",
   "metadata": {},
   "source": [
    "# Задание 5"
   ]
  },
  {
   "cell_type": "markdown",
   "metadata": {},
   "source": [
    "Выбрана модель простой линейной регрессии. Построим для нее гистограмму вектора остатков"
   ]
  },
  {
   "cell_type": "markdown",
   "metadata": {},
   "source": [
    "Остатки:"
   ]
  },
  {
   "cell_type": "code",
   "execution_count": 68,
   "metadata": {},
   "outputs": [],
   "source": [
    "residual = r_ - Yk_1\n",
    "# r_ - оцененная дальность с помощью МНК (зеленая прямая)\n",
    "#Yk_1 - измеренная дальность (оранжевые точки)\n",
    "# print(residual)"
   ]
  },
  {
   "cell_type": "code",
   "execution_count": 48,
   "metadata": {},
   "outputs": [
    {
     "data": {
      "text/plain": [
       "Text(0.5,1,'Распределение остатков')"
      ]
     },
     "execution_count": 48,
     "metadata": {},
     "output_type": "execute_result"
    },
    {
     "data": {
      "image/png": "[encoded data removed]",
      "text/plain": [
       "<Figure size 432x288 with 1 Axes>"
      ]
     },
     "metadata": {},
     "output_type": "display_data"
    }
   ],
   "source": [
    "# скопировала в rr наши остатки, чтобы их не изменить случайно\n",
    "rr = deepcopy(residual) \n",
    "# сортирую по возрастанию\n",
    "rr = sorted(rr)\n",
    "\n",
    "#\n",
    "left = min(rr)-0.5\n",
    "right = max(rr)+0.5\n",
    "bins_s = [i for i in np.linspace(left, right, 6)]\n",
    "\n",
    "hh = (right - left) / 6\n",
    "# distr_array = []\n",
    "# for j in range(len(bins_s)-1):\n",
    "#     tmp = []\n",
    "#     for i in range(len(rr)):\n",
    "#         if (rr[i] > bins_s[j] and rr[i] < bins_s[j+1]):\n",
    "#             tmp += [rr[i]]\n",
    "#     distr_array .append(np.array(tmp))\n",
    "    \n",
    "# distr_array = np.array(distr_array)     \n",
    "# heights = [len(i) for i in distr_array]\n",
    "\n",
    "_, ax = plt.subplots()\n",
    "ax.hist(residual, bins = bins_s, color = 'pink')\n",
    "ax.set_title('Распределение остатков')"
   ]
  },
  {
   "cell_type": "code",
   "execution_count": 49,
   "metadata": {},
   "outputs": [
    {
     "name": "stderr",
     "output_type": "stream",
     "text": [
      "/Users/synthtron/anaconda3/lib/python3.6/site-packages/matplotlib/axes/_axes.py:6462: UserWarning: The 'normed' kwarg is deprecated, and has been replaced by the 'density' kwarg.\n",
      "  warnings.warn(\"The 'normed' kwarg is deprecated, and has been \"\n"
     ]
    },
    {
     "data": {
      "image/png": "[encoded data removed]",
      "text/plain": [
       "<Figure size 432x288 with 1 Axes>"
      ]
     },
     "metadata": {},
     "output_type": "display_data"
    }
   ],
   "source": [
    "sns_plot = sns.distplot(residual, label = 'Residual distribution')\n",
    "fig = sns_plot.get_figure()\n",
    "\n",
    "xs = np.arange(-3, 3, 0.05) # Сетка значений по оси абсцисс.\n",
    "p2, = plt.plot(xs, [gaussian(x, 0, 1) for x in xs], label='$\\sigma = 1$')\n",
    "plt.legend()\n",
    "plt.show()"
   ]
  },
  {
   "cell_type": "markdown",
   "metadata": {},
   "source": [
    "# Задание 6"
   ]
  },
  {
   "cell_type": "markdown",
   "metadata": {},
   "source": [
    "На уровне значимости $\\alpha = 0.05$ по критерию хи-квадрат проверить гипотезу о том, что ошибки подчиняются нормальному распределению $N(0,\\sigma)$"
   ]
  },
  {
   "cell_type": "markdown",
   "metadata": {},
   "source": [
    "Если $\\chi^{2}_{1} <= \\chi^{2} <= \\chi^{2}_{2}$, то гипотеза выполняется"
   ]
  },
  {
   "cell_type": "code",
   "execution_count": 50,
   "metadata": {},
   "outputs": [],
   "source": [
    "# hi_square = sum(()/)\n",
    "# print(hi_square)"
   ]
  },
  {
   "cell_type": "markdown",
   "metadata": {},
   "source": [
    "Определим по таблице распределения хи-квадрат"
   ]
  },
  {
   "cell_type": "code",
   "execution_count": 51,
   "metadata": {},
   "outputs": [],
   "source": [
    "# hi_right = 17,7084"
   ]
  },
  {
   "cell_type": "code",
   "execution_count": 52,
   "metadata": {},
   "outputs": [],
   "source": [
    "# hi_left = "
   ]
  },
  {
   "cell_type": "code",
   "execution_count": 53,
   "metadata": {},
   "outputs": [
    {
     "data": {
      "text/plain": [
       "1.0011"
      ]
     },
     "execution_count": 53,
     "metadata": {},
     "output_type": "execute_result"
    }
   ],
   "source": [
    "85.2*4.7/(200*2)"
   ]
  },
  {
   "cell_type": "code",
   "execution_count": 54,
   "metadata": {},
   "outputs": [
    {
     "data": {
      "text/plain": [
       "16.655319148936172"
      ]
     },
     "execution_count": 54,
     "metadata": {},
     "output_type": "execute_result"
    }
   ],
   "source": [
    "200*2/4.7 * 0.1957"
   ]
  },
  {
   "cell_type": "code",
   "execution_count": 55,
   "metadata": {},
   "outputs": [
    {
     "data": {
      "text/plain": [
       "[-2.1539493562809184,\n",
       " -1.2699376505941102,\n",
       " -0.38592594490730225,\n",
       " 0.4980857607795057,\n",
       " 1.382097466466314,\n",
       " 2.266109172153122]"
      ]
     },
     "execution_count": 55,
     "metadata": {},
     "output_type": "execute_result"
    }
   ],
   "source": [
    "bins_s"
   ]
  },
  {
   "cell_type": "code",
   "execution_count": 56,
   "metadata": {},
   "outputs": [
    {
     "name": "stdout",
     "output_type": "stream",
     "text": [
      "[-1.6539493562809184, -1.416685753176722, -1.4095073132988034, -1.0322258295451832, -0.6993725995235707, -0.5978048191953462, -0.5155818856168821, -0.5097840357656054, -0.40432211539481955, -0.39697175576922916, -0.36288304366246393, -0.34750391853197016, -0.2282613568478098, -0.22455162706074816, -0.011254220788998737, 0.07096811420909432, 0.16661548630736434, 0.20878957945447496, 0.37504543870744556, 0.386948362498174, 0.4146467173005277, 0.42785048658687685, 0.6474786222437103, 0.6636998665148894, 0.7362733954992677, 0.8317110719153504, 0.8805572119111389, 0.9380089701181191, 1.295957135039032, 1.7661091721531221]\n",
      "[-2.0, -1.2, -0.3999999999999999, 0.40000000000000036, 1.2000000000000002, 2.0]\n",
      "[3, 6, 11, 8, 2]\n"
     ]
    }
   ],
   "source": [
    "rr = deepcopy(residual)\n",
    "rr = sorted(rr)\n",
    "print(rr)\n",
    "left = -2\n",
    "right = 2\n",
    "bins = [i for i in np.linspace(left, right, 6)]\n",
    "print(bins)\n",
    "distr_array = []\n",
    "for j in range(len(bins)-1):\n",
    "    tmp = []\n",
    "    for i in range(len(rr)):\n",
    "        if (rr[i] > bins[j] and rr[i] < bins[j+1]):\n",
    "            tmp += [rr[i]]\n",
    "    distr_array .append(np.array(tmp))\n",
    "    \n",
    "distr_array = np.array(distr_array)     \n",
    "heights = [len(i) for i in distr_array]\n",
    "print(heights)\n"
   ]
  },
  {
   "cell_type": "code",
   "execution_count": 60,
   "metadata": {},
   "outputs": [
    {
     "data": {
      "text/plain": [
       "-1.6105635343895604e-14"
      ]
     },
     "execution_count": 60,
     "metadata": {},
     "output_type": "execute_result"
    }
   ],
   "source": [
    "np.mean(np.array(rr))"
   ]
  },
  {
   "cell_type": "code",
   "execution_count": 61,
   "metadata": {},
   "outputs": [
    {
     "name": "stdout",
     "output_type": "stream",
     "text": [
      "3.062066307192154\n"
     ]
    }
   ],
   "source": [
    "for i in distr_array:\n",
    "    sr_vzvesh = sum(i * len(i))/len(i)\n",
    "print(sr_vzvesh)\n",
    "\n",
    "# sko_vzvesh = "
   ]
  },
  {
   "cell_type": "code",
   "execution_count": null,
   "metadata": {},
   "outputs": [],
   "source": []
  }
 ],
 "metadata": {
  "kernelspec": {
   "display_name": "Python 3",
   "language": "python",
   "name": "python3"
  },
  "language_info": {
   "codemirror_mode": {
    "name": "ipython",
    "version": 3
   },
   "file_extension": ".py",
   "mimetype": "text/x-python",
   "name": "python",
   "nbconvert_exporter": "python",
   "pygments_lexer": "ipython3",
   "version": "3.6.5"
  }
 },
 "nbformat": 4,
 "nbformat_minor": 2
}
